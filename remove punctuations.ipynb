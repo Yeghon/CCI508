{
 "cells": [
  {
   "cell_type": "code",
   "execution_count": 1,
   "metadata": {},
   "outputs": [
    {
     "data": {
      "text/plain": [
       "\"this is a sample message with' which we're trynna test r_emoval of\\npunctuation !marks\""
      ]
     },
     "execution_count": 1,
     "metadata": {},
     "output_type": "execute_result"
    }
   ],
   "source": [
    "sampleString = '''this is a sample message with' which we're trynna test r_emoval of\n",
    "punctuation !marks''' \n",
    "sampleString"
   ]
  },
  {
   "cell_type": "code",
   "execution_count": 3,
   "metadata": {},
   "outputs": [],
   "source": [
    "import nltk"
   ]
  },
  {
   "cell_type": "code",
   "execution_count": 4,
   "metadata": {},
   "outputs": [
    {
     "data": {
      "text/plain": [
       "['this',\n",
       " 'is',\n",
       " 'a',\n",
       " 'sample',\n",
       " 'message',\n",
       " 'with',\n",
       " \"'\",\n",
       " 'which',\n",
       " 'we',\n",
       " \"'re\",\n",
       " 'trynna',\n",
       " 'test',\n",
       " 'r_emoval',\n",
       " 'of',\n",
       " 'punctuation',\n",
       " '!',\n",
       " 'marks']"
      ]
     },
     "execution_count": 4,
     "metadata": {},
     "output_type": "execute_result"
    }
   ],
   "source": [
    "removedPunctuations = []\n",
    "tokenized = nltk.word_tokenize(sampleString)\n",
    "tokenized"
   ]
  },
  {
   "cell_type": "code",
   "execution_count": 5,
   "metadata": {},
   "outputs": [
    {
     "name": "stdout",
     "output_type": "stream",
     "text": [
      "this\n",
      "is\n",
      "a\n",
      "sample\n",
      "message\n",
      "with\n",
      "'\n",
      "which\n",
      "we\n",
      "'re\n",
      "trynna\n",
      "test\n",
      "r_emoval\n",
      "of\n",
      "punctuation\n",
      "!\n",
      "marks\n"
     ]
    }
   ],
   "source": [
    "for x in tokenized:\n",
    "    print(x)"
   ]
  },
  {
   "cell_type": "code",
   "execution_count": 7,
   "metadata": {},
   "outputs": [
    {
     "data": {
      "text/plain": [
       "['this',\n",
       " 'is',\n",
       " 'a',\n",
       " 'sample',\n",
       " 'message',\n",
       " 'with',\n",
       " '',\n",
       " 'which',\n",
       " 'we',\n",
       " 're',\n",
       " 'trynna',\n",
       " 'test',\n",
       " 'removal',\n",
       " 'of',\n",
       " 'punctuation',\n",
       " '',\n",
       " 'marks']"
      ]
     },
     "execution_count": 7,
     "metadata": {},
     "output_type": "execute_result"
    }
   ],
   "source": [
    "''' remove punctuations '''\n",
    "import string\n",
    "final = []\n",
    "for x in tokenized:\n",
    "    final.append(x.translate(str.maketrans('', '', string.punctuation)))\n"
   ]
  },
  {
   "cell_type": "code",
   "execution_count": null,
   "metadata": {},
   "outputs": [],
   "source": []
  }
 ],
 "metadata": {
  "kernelspec": {
   "display_name": "Python 3",
   "language": "python",
   "name": "python3"
  },
  "language_info": {
   "codemirror_mode": {
    "name": "ipython",
    "version": 3
   },
   "file_extension": ".py",
   "mimetype": "text/x-python",
   "name": "python",
   "nbconvert_exporter": "python",
   "pygments_lexer": "ipython3",
   "version": "3.6.9"
  }
 },
 "nbformat": 4,
 "nbformat_minor": 4
}
