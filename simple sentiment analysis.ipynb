{
 "cells": [
  {
   "cell_type": "code",
   "execution_count": 1,
   "metadata": {},
   "outputs": [],
   "source": [
    "''' based on whatever text input provided, determine whether the seniments are positive, negative or netral'''\n",
    "from nltk import word_tokenize"
   ]
  },
  {
   "cell_type": "code",
   "execution_count": 2,
   "metadata": {},
   "outputs": [],
   "source": [
    "samplePositive = ['happy', 'thank you', 'thank', 'awesome', 'amazing']\n",
    "sampleNegative = ['sad', 'boring', 'go to hell', 'sucks', 'fuck']"
   ]
  },
  {
   "cell_type": "code",
   "execution_count": 3,
   "metadata": {},
   "outputs": [
    {
     "data": {
      "text/plain": [
       "'Tangazoletu is a software company located in Nairobi Kenya. generally, their customer service team sucks'"
      ]
     },
     "execution_count": 3,
     "metadata": {},
     "output_type": "execute_result"
    }
   ],
   "source": [
    "testSentence = 'Tangazoletu is a software company located in Nairobi Kenya. generally, their customer service team sucks'\n",
    "testSentence"
   ]
  },
  {
   "cell_type": "code",
   "execution_count": 37,
   "metadata": {},
   "outputs": [],
   "source": [
    "def determineSentiment(x):\n",
    "    x = word_tokenize(x.lower())\n",
    "    for c in range(len(x)):\n",
    "        positive = []\n",
    "        negative = []\n",
    "        neutral = []\n",
    "        if c in samplePositive:\n",
    "            positive.append(1)\n",
    "        if c in sampleNegative:\n",
    "            negative.append(1)\n",
    "        else:\n",
    "            neutral.append(1)\n",
    "            pass\n",
    "        pass\n",
    "    neutralLength = len(neutral)\n",
    "    negativeLength = len(negative)\n",
    "    positiveLength = len(positive)\n",
    "    \n",
    "    if neutralLength > negativeLength and neutralLength > positiveLength:\n",
    "        return 'Neutral'\n",
    "    if negativeLength > neutralLength and negativeLength > positiveLength:\n",
    "        return 'Negative'\n",
    "    if positiveLength > neutralLength and positiveLength > negativeLength:\n",
    "        return 'Positive'\n",
    "    else:\n",
    "        return 'No idea'\n",
    "    \n",
    "        "
   ]
  },
  {
   "cell_type": "code",
   "execution_count": 38,
   "metadata": {},
   "outputs": [
    {
     "data": {
      "text/plain": [
       "'Neutral'"
      ]
     },
     "execution_count": 38,
     "metadata": {},
     "output_type": "execute_result"
    }
   ],
   "source": [
    "determineSentiment(\"fuck\")"
   ]
  },
  {
   "cell_type": "code",
   "execution_count": 20,
   "metadata": {},
   "outputs": [
    {
     "data": {
      "text/plain": [
       "True"
      ]
     },
     "execution_count": 20,
     "metadata": {},
     "output_type": "execute_result"
    }
   ],
   "source": [
    "'Happy'.lower() in samplePositive"
   ]
  },
  {
   "cell_type": "code",
   "execution_count": 22,
   "metadata": {},
   "outputs": [
    {
     "data": {
      "text/plain": [
       "['happy', 'asshole']"
      ]
     },
     "execution_count": 22,
     "metadata": {},
     "output_type": "execute_result"
    }
   ],
   "source": [
    "word_tokenize(\"Happy asshole\".lower())"
   ]
  },
  {
   "cell_type": "code",
   "execution_count": null,
   "metadata": {},
   "outputs": [],
   "source": []
  }
 ],
 "metadata": {
  "kernelspec": {
   "display_name": "Python 3",
   "language": "python",
   "name": "python3"
  },
  "language_info": {
   "codemirror_mode": {
    "name": "ipython",
    "version": 3
   },
   "file_extension": ".py",
   "mimetype": "text/x-python",
   "name": "python",
   "nbconvert_exporter": "python",
   "pygments_lexer": "ipython3",
   "version": "3.6.9"
  }
 },
 "nbformat": 4,
 "nbformat_minor": 4
}
