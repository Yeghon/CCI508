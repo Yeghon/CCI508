{
 "cells": [
  {
   "cell_type": "markdown",
   "metadata": {},
   "source": [
    "# Scrap Jumia for Huawei smartphones appearing on the first page"
   ]
  },
  {
   "cell_type": "code",
   "execution_count": 1,
   "metadata": {},
   "outputs": [],
   "source": [
    "from selenium import webdriver"
   ]
  },
  {
   "cell_type": "markdown",
   "metadata": {},
   "source": [
    "## Using chrome import chromiu driver"
   ]
  },
  {
   "cell_type": "code",
   "execution_count": 3,
   "metadata": {},
   "outputs": [],
   "source": [
    "driver = webdriver.Chrome(\"/usr/lib/chromium-browser/chromedriver\")\n",
    "driver.get(\"https://www.jumia.co.ke/smartphones/huawei/\")"
   ]
  },
  {
   "cell_type": "markdown",
   "metadata": {},
   "source": [
    "_Loop through the response extracting required items_"
   ]
  },
  {
   "cell_type": "code",
   "execution_count": 7,
   "metadata": {},
   "outputs": [
    {
     "data": {
      "text/html": [
       "<div>\n",
       "<style scoped>\n",
       "    .dataframe tbody tr th:only-of-type {\n",
       "        vertical-align: middle;\n",
       "    }\n",
       "\n",
       "    .dataframe tbody tr th {\n",
       "        vertical-align: top;\n",
       "    }\n",
       "\n",
       "    .dataframe thead th {\n",
       "        text-align: right;\n",
       "    }\n",
       "</style>\n",
       "<table border=\"1\" class=\"dataframe\">\n",
       "  <thead>\n",
       "    <tr style=\"text-align: right;\">\n",
       "      <th></th>\n",
       "      <th>Product</th>\n",
       "      <th>Current Price</th>\n",
       "      <th>Originl Price</th>\n",
       "      <th>Discount</th>\n",
       "      <th>Customer Ratings</th>\n",
       "      <th>Reviewed By</th>\n",
       "    </tr>\n",
       "  </thead>\n",
       "  <tbody>\n",
       "    <tr>\n",
       "      <th>0</th>\n",
       "      <td>Huawei Y6s, 6.09\" - 3GB/64GB, 3020 MAh, 4G, Du...</td>\n",
       "      <td>KSh 13,199</td>\n",
       "      <td>KSh 16,999</td>\n",
       "      <td>22%</td>\n",
       "      <td>4.6 out of 5</td>\n",
       "      <td>15</td>\n",
       "    </tr>\n",
       "    <tr>\n",
       "      <th>1</th>\n",
       "      <td>Huawei Y6s, 6.09\", 3 GB + 64 GB, 3020 MAh, 4G,...</td>\n",
       "      <td>KSh 13,199</td>\n",
       "      <td>KSh 16,999</td>\n",
       "      <td>22%</td>\n",
       "      <td>4.6 out of 5</td>\n",
       "      <td>29</td>\n",
       "    </tr>\n",
       "    <tr>\n",
       "      <th>2</th>\n",
       "      <td>Huawei Y6p,6.3\",64GB + 3GB,4G,5000MAh Emrald G...</td>\n",
       "      <td>KSh 14,890</td>\n",
       "      <td>KSh 19,999</td>\n",
       "      <td>26%</td>\n",
       "      <td>4.5 out of 5</td>\n",
       "      <td>2</td>\n",
       "    </tr>\n",
       "    <tr>\n",
       "      <th>3</th>\n",
       "      <td>Huawei Y6s, 6.09\",64GB+3GB RAM(Dual SIM),-Blue...</td>\n",
       "      <td>KSh 13,095</td>\n",
       "      <td>KSh 17,999</td>\n",
       "      <td>27%</td>\n",
       "      <td>4 out of 5</td>\n",
       "      <td>9</td>\n",
       "    </tr>\n",
       "    <tr>\n",
       "      <th>4</th>\n",
       "      <td>Huawei Y6p,6.3\",64GB+3GB(Dual Sim), 5000 MAh P...</td>\n",
       "      <td>KSh 14,999</td>\n",
       "      <td>KSh 19,000</td>\n",
       "      <td>21%</td>\n",
       "      <td>4.5 out of 5</td>\n",
       "      <td>6</td>\n",
       "    </tr>\n",
       "  </tbody>\n",
       "</table>\n",
       "</div>"
      ],
      "text/plain": [
       "                                             Product Current Price  \\\n",
       "0  Huawei Y6s, 6.09\" - 3GB/64GB, 3020 MAh, 4G, Du...    KSh 13,199   \n",
       "1  Huawei Y6s, 6.09\", 3 GB + 64 GB, 3020 MAh, 4G,...    KSh 13,199   \n",
       "2  Huawei Y6p,6.3\",64GB + 3GB,4G,5000MAh Emrald G...    KSh 14,890   \n",
       "3  Huawei Y6s, 6.09\",64GB+3GB RAM(Dual SIM),-Blue...    KSh 13,095   \n",
       "4  Huawei Y6p,6.3\",64GB+3GB(Dual Sim), 5000 MAh P...    KSh 14,999   \n",
       "\n",
       "  Originl Price Discount Customer Ratings Reviewed By  \n",
       "0    KSh 16,999      22%     4.6 out of 5          15  \n",
       "1    KSh 16,999      22%     4.6 out of 5          29  \n",
       "2    KSh 19,999      26%     4.5 out of 5           2  \n",
       "3    KSh 17,999      27%       4 out of 5           9  \n",
       "4    KSh 19,000      21%     4.5 out of 5           6  "
      ]
     },
     "execution_count": 7,
     "metadata": {},
     "output_type": "execute_result"
    }
   ],
   "source": [
    "product_name = []\n",
    "current_price = []\n",
    "old_price = []\n",
    "discount = []\n",
    "rating = []\n",
    "reviews = []\n",
    "\n",
    "for x in driver.find_elements_by_class_name('prd'):\n",
    "    \n",
    "    # Extract phone name from each cell,\n",
    "    # use try catch to avoid exceptions\n",
    "    try:\n",
    "        product_name.append(x.find_element_by_class_name('name').text)\n",
    "    except:\n",
    "        product_name.append(\"NA\")\n",
    "    \n",
    "    try:\n",
    "        current_price.append(x.find_element_by_class_name('prc').text)\n",
    "    except:\n",
    "        current_price.append(\"NA\")\n",
    "        \n",
    "    try:\n",
    "        old_price.append(x.find_element_by_class_name('old').text)\n",
    "    except:\n",
    "        old_price.append(\"NA\")  \n",
    "    \n",
    "    try:\n",
    "        discount.append(x.find_element_by_class_name('tag').text)\n",
    "    except:\n",
    "        discount.append(\"NA\")\n",
    "    \n",
    "    try:\n",
    "        customer_reviews = x.find_element_by_class_name('rev').text\n",
    "        split_reviews = customer_reviews.split(\"(\")\n",
    "        rating.append(split_reviews[0].strip(\"\\n\"))\n",
    "        reviews.append(split_reviews[1].strip(\")\"))\n",
    "    except:\n",
    "        rating.append(\"NA\")\n",
    "        reviews.append(\"NA\")\n",
    "\n",
    "import pandas as pd\n",
    "df = pd.DataFrame({'Product':product_name, 'Current Price': current_price, \n",
    "                   'Originl Price': old_price, 'Discount':discount, \n",
    "                   'Customer Ratings': rating, 'Reviewed By': reviews})\n",
    "df.to_csv('JumiaHuawei.csv', index=False, encoding='utf8')\n",
    "df.head()"
   ]
  },
  {
   "cell_type": "code",
   "execution_count": null,
   "metadata": {},
   "outputs": [],
   "source": []
  }
 ],
 "metadata": {
  "kernelspec": {
   "display_name": "Python 3",
   "language": "python",
   "name": "python3"
  },
  "language_info": {
   "codemirror_mode": {
    "name": "ipython",
    "version": 3
   },
   "file_extension": ".py",
   "mimetype": "text/x-python",
   "name": "python",
   "nbconvert_exporter": "python",
   "pygments_lexer": "ipython3",
   "version": "3.6.9"
  }
 },
 "nbformat": 4,
 "nbformat_minor": 4
}
