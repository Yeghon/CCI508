{
 "cells": [
  {
   "cell_type": "code",
   "execution_count": 137,
   "metadata": {},
   "outputs": [],
   "source": [
    "#Scrap Jumia for Huawei smartphones appearing on the first page"
   ]
  },
  {
   "cell_type": "code",
   "execution_count": 138,
   "metadata": {},
   "outputs": [],
   "source": [
    "import pandas as pd\n",
    "import requests\n",
    "from bs4 import BeautifulSoup as bs4"
   ]
  },
  {
   "cell_type": "code",
   "execution_count": 139,
   "metadata": {},
   "outputs": [],
   "source": [
    "response = requests.get('https://www.jumia.co.ke/smartphones/huawei/')\n",
    "soup = bs4(response.text, 'html.parser')"
   ]
  },
  {
   "cell_type": "code",
   "execution_count": 140,
   "metadata": {},
   "outputs": [],
   "source": [
    "allItems = soup.find_all('section', attrs={\"class\":\"card\"})"
   ]
  },
  {
   "cell_type": "code",
   "execution_count": 142,
   "metadata": {},
   "outputs": [],
   "source": [
    "allPhones = allItems[0].find_all('div', attrs={\"class\":\"-paxs\"})"
   ]
  },
  {
   "cell_type": "code",
   "execution_count": 144,
   "metadata": {},
   "outputs": [],
   "source": [
    "myPhones = allPhones[0].find_all('article')"
   ]
  },
  {
   "cell_type": "code",
   "execution_count": 149,
   "metadata": {},
   "outputs": [
    {
     "data": {
      "text/html": [
       "<div>\n",
       "<style scoped>\n",
       "    .dataframe tbody tr th:only-of-type {\n",
       "        vertical-align: middle;\n",
       "    }\n",
       "\n",
       "    .dataframe tbody tr th {\n",
       "        vertical-align: top;\n",
       "    }\n",
       "\n",
       "    .dataframe thead th {\n",
       "        text-align: right;\n",
       "    }\n",
       "</style>\n",
       "<table border=\"1\" class=\"dataframe\">\n",
       "  <thead>\n",
       "    <tr style=\"text-align: right;\">\n",
       "      <th></th>\n",
       "      <th>SmartPhone Name</th>\n",
       "      <th>Current Price</th>\n",
       "      <th>Old Price</th>\n",
       "      <th>Discount</th>\n",
       "      <th>Rating</th>\n",
       "    </tr>\n",
       "  </thead>\n",
       "  <tbody>\n",
       "    <tr>\n",
       "      <th>0</th>\n",
       "      <td>Huawei Y6s, 6.09\" - 3GB/64GB, 3020 MAh, 4G, Du...</td>\n",
       "      <td>KSh 13,199</td>\n",
       "      <td>[KSh 16,999]</td>\n",
       "      <td>[22%]</td>\n",
       "      <td>[4.6 out of 5, []]</td>\n",
       "    </tr>\n",
       "    <tr>\n",
       "      <th>1</th>\n",
       "      <td>Huawei Y6s, 6.09\", 3 GB + 64 GB, 3020 MAh, 4G,...</td>\n",
       "      <td>KSh 13,299</td>\n",
       "      <td>[KSh 16,999]</td>\n",
       "      <td>[21%]</td>\n",
       "      <td>[4.6 out of 5, []]</td>\n",
       "    </tr>\n",
       "    <tr>\n",
       "      <th>2</th>\n",
       "      <td>Huawei Y6s, 6.09'', 3GB+64GB, 13MP Camera, Dua...</td>\n",
       "      <td>KSh 13,299</td>\n",
       "      <td>[KSh 15,999]</td>\n",
       "      <td>[Official Store]</td>\n",
       "      <td>[4.3 out of 5, []]</td>\n",
       "    </tr>\n",
       "    <tr>\n",
       "      <th>3</th>\n",
       "      <td>Huawei Y5 Lite, 5.45\"  16GB ROM + 1 GB RAM (Si...</td>\n",
       "      <td>KSh 8,500</td>\n",
       "      <td>[KSh 14,500]</td>\n",
       "      <td>[41%]</td>\n",
       "      <td>[4.3 out of 5, []]</td>\n",
       "    </tr>\n",
       "    <tr>\n",
       "      <th>4</th>\n",
       "      <td>Huawei Y6p,6.3\",64GB + 3GB,4G,5000MAh Emrald G...</td>\n",
       "      <td>KSh 14,890</td>\n",
       "      <td>[KSh 19,999]</td>\n",
       "      <td>[25%]</td>\n",
       "      <td>[4.5 out of 5, []]</td>\n",
       "    </tr>\n",
       "  </tbody>\n",
       "</table>\n",
       "</div>"
      ],
      "text/plain": [
       "                                     SmartPhone Name Current Price  \\\n",
       "0  Huawei Y6s, 6.09\" - 3GB/64GB, 3020 MAh, 4G, Du...    KSh 13,199   \n",
       "1  Huawei Y6s, 6.09\", 3 GB + 64 GB, 3020 MAh, 4G,...    KSh 13,299   \n",
       "2  Huawei Y6s, 6.09'', 3GB+64GB, 13MP Camera, Dua...    KSh 13,299   \n",
       "3  Huawei Y5 Lite, 5.45\"  16GB ROM + 1 GB RAM (Si...     KSh 8,500   \n",
       "4  Huawei Y6p,6.3\",64GB + 3GB,4G,5000MAh Emrald G...    KSh 14,890   \n",
       "\n",
       "      Old Price          Discount              Rating  \n",
       "0  [KSh 16,999]             [22%]  [4.6 out of 5, []]  \n",
       "1  [KSh 16,999]             [21%]  [4.6 out of 5, []]  \n",
       "2  [KSh 15,999]  [Official Store]  [4.3 out of 5, []]  \n",
       "3  [KSh 14,500]             [41%]  [4.3 out of 5, []]  \n",
       "4  [KSh 19,999]             [25%]  [4.5 out of 5, []]  "
      ]
     },
     "execution_count": 149,
     "metadata": {},
     "output_type": "execute_result"
    }
   ],
   "source": [
    "Names = []\n",
    "Current_Price = []\n",
    "Old_Price = []\n",
    "Discount = []\n",
    "Rating = []\n",
    "for x in myPhones:\n",
    "    Names.append(x.find('h3').text)\n",
    "    Current_Price.append(x.find('div', attrs={'class':'prc'}).text)\n",
    "    Old_Price.append(x.find('div', attrs={'class':'old'}))\n",
    "    Discount.append(x.find('div', attrs={'class':'tag'}))\n",
    "    Rating.append(x.find('div', attrs={'class':'stars'}))\n",
    "df = pd.DataFrame({'SmartPhone Name': Names, 'Current Price': Current_Price, \n",
    "                   'Old Price':Old_Price, 'Discount':Discount, \n",
    "                 'Rating': Rating})\n",
    "df.to_csv('JumiaHuawei.csv', index=False, encoding='utf-8')\n",
    "df.head()"
   ]
  },
  {
   "cell_type": "code",
   "execution_count": null,
   "metadata": {},
   "outputs": [],
   "source": []
  }
 ],
 "metadata": {
  "kernelspec": {
   "display_name": "Python 3",
   "language": "python",
   "name": "python3"
  },
  "language_info": {
   "codemirror_mode": {
    "name": "ipython",
    "version": 3
   },
   "file_extension": ".py",
   "mimetype": "text/x-python",
   "name": "python",
   "nbconvert_exporter": "python",
   "pygments_lexer": "ipython3",
   "version": "3.6.9"
  }
 },
 "nbformat": 4,
 "nbformat_minor": 4
}
