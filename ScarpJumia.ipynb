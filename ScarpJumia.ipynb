{
 "cells": [
  {
   "cell_type": "code",
   "execution_count": 137,
   "metadata": {},
   "outputs": [],
   "source": [
    "#Scrap Jumia for Huawei smartphones appearing on the first page"
   ]
  },
  {
   "cell_type": "code",
   "execution_count": 138,
   "metadata": {},
   "outputs": [],
   "source": [
    "import pandas as pd\n",
    "import requests\n",
    "from bs4 import BeautifulSoup as bs4"
   ]
  },
  {
   "cell_type": "code",
   "execution_count": 139,
   "metadata": {},
   "outputs": [],
   "source": [
    "response = requests.get('https://www.jumia.co.ke/smartphones/huawei/')\n",
    "soup = bs4(response.text, 'html.parser')"
   ]
  },
  {
   "cell_type": "code",
   "execution_count": 140,
   "metadata": {},
   "outputs": [],
   "source": [
    "allItems = soup.find_all('section', attrs={\"class\":\"card\"})"
   ]
  },
  {
   "cell_type": "code",
   "execution_count": 110,
   "metadata": {},
   "outputs": [],
   "source": [
    "allPhones = allItems[0].find_all('div', attrs={\"class\":\"-paxs\"})"
   ]
  },
  {
   "cell_type": "code",
   "execution_count": 126,
   "metadata": {},
   "outputs": [
    {
     "name": "stdout",
     "output_type": "stream",
     "text": [
      "48\n"
     ]
    }
   ],
   "source": [
    "myPhones = allPhones[0].find_all('article')\n",
    "print(len(myPhones))"
   ]
  },
  {
   "cell_type": "code",
   "execution_count": 130,
   "metadata": {},
   "outputs": [
    {
     "data": {
      "text/html": [
       "<div>\n",
       "<style scoped>\n",
       "    .dataframe tbody tr th:only-of-type {\n",
       "        vertical-align: middle;\n",
       "    }\n",
       "\n",
       "    .dataframe tbody tr th {\n",
       "        vertical-align: top;\n",
       "    }\n",
       "\n",
       "    .dataframe thead th {\n",
       "        text-align: right;\n",
       "    }\n",
       "</style>\n",
       "<table border=\"1\" class=\"dataframe\">\n",
       "  <thead>\n",
       "    <tr style=\"text-align: right;\">\n",
       "      <th></th>\n",
       "      <th>SmartPhone Name</th>\n",
       "      <th>Current Price</th>\n",
       "      <th>Old Price</th>\n",
       "      <th>Discount</th>\n",
       "      <th>Rating</th>\n",
       "    </tr>\n",
       "  </thead>\n",
       "  <tbody>\n",
       "    <tr>\n",
       "      <th>0</th>\n",
       "      <td>Huawei Y6s, 6.09\" - 3GB/64GB, 3020 MAh, 4G, Du...</td>\n",
       "      <td>KSh 13,199</td>\n",
       "      <td>KSh 16,999</td>\n",
       "      <td>22%</td>\n",
       "      <td>4.6 out of 5</td>\n",
       "    </tr>\n",
       "    <tr>\n",
       "      <th>1</th>\n",
       "      <td>Huawei Y6s, 6.09\" - 3GB/64GB, 3020 MAh, 4G, Du...</td>\n",
       "      <td>KSh 13,199</td>\n",
       "      <td>KSh 16,999</td>\n",
       "      <td>22%</td>\n",
       "      <td>4.6 out of 5</td>\n",
       "    </tr>\n",
       "    <tr>\n",
       "      <th>2</th>\n",
       "      <td>Huawei Y6s, 6.09\" - 3GB/64GB, 3020 MAh, 4G, Du...</td>\n",
       "      <td>KSh 13,199</td>\n",
       "      <td>KSh 16,999</td>\n",
       "      <td>22%</td>\n",
       "      <td>4.6 out of 5</td>\n",
       "    </tr>\n",
       "    <tr>\n",
       "      <th>3</th>\n",
       "      <td>Huawei Y6s, 6.09\" - 3GB/64GB, 3020 MAh, 4G, Du...</td>\n",
       "      <td>KSh 13,199</td>\n",
       "      <td>KSh 16,999</td>\n",
       "      <td>22%</td>\n",
       "      <td>4.6 out of 5</td>\n",
       "    </tr>\n",
       "    <tr>\n",
       "      <th>4</th>\n",
       "      <td>Huawei Y6s, 6.09\" - 3GB/64GB, 3020 MAh, 4G, Du...</td>\n",
       "      <td>KSh 13,199</td>\n",
       "      <td>KSh 16,999</td>\n",
       "      <td>22%</td>\n",
       "      <td>4.6 out of 5</td>\n",
       "    </tr>\n",
       "  </tbody>\n",
       "</table>\n",
       "</div>"
      ],
      "text/plain": [
       "                                     SmartPhone Name Current Price  \\\n",
       "0  Huawei Y6s, 6.09\" - 3GB/64GB, 3020 MAh, 4G, Du...    KSh 13,199   \n",
       "1  Huawei Y6s, 6.09\" - 3GB/64GB, 3020 MAh, 4G, Du...    KSh 13,199   \n",
       "2  Huawei Y6s, 6.09\" - 3GB/64GB, 3020 MAh, 4G, Du...    KSh 13,199   \n",
       "3  Huawei Y6s, 6.09\" - 3GB/64GB, 3020 MAh, 4G, Du...    KSh 13,199   \n",
       "4  Huawei Y6s, 6.09\" - 3GB/64GB, 3020 MAh, 4G, Du...    KSh 13,199   \n",
       "\n",
       "    Old Price Discount        Rating  \n",
       "0  KSh 16,999      22%  4.6 out of 5  \n",
       "1  KSh 16,999      22%  4.6 out of 5  \n",
       "2  KSh 16,999      22%  4.6 out of 5  \n",
       "3  KSh 16,999      22%  4.6 out of 5  \n",
       "4  KSh 16,999      22%  4.6 out of 5  "
      ]
     },
     "execution_count": 130,
     "metadata": {},
     "output_type": "execute_result"
    }
   ],
   "source": [
    "Names = []\n",
    "Current_Price = []\n",
    "Old_Price = []\n",
    "Discount = []\n",
    "Rating = []\n",
    "for x in range(len(myPhones)):\n",
    "    Names.append(myPhones[0].find('h3').text)\n",
    "    Current_Price.append(myPhones[0].find('div', attrs={'class':'prc'}).text)\n",
    "    Old_Price.append(myPhones[0].find('div', attrs={'class':'old'}).text)\n",
    "    Discount.append(myPhones[0].find('div', attrs={'class':'tag'}).text)\n",
    "    Rating.append(myPhones[0].find('div', attrs={'class':'stars'}).text)\n",
    "df = pd.DataFrame({'SmartPhone Name': Names, 'Current Price': Current_Price, 'Old Price':Old_Price, 'Discount':Discount, \n",
    "                 'Rating': Rating})\n",
    "df.to_csv('JumiaHuawei.csv', index=False, encoding='utf-8')\n",
    "df.head()"
   ]
  },
  {
   "cell_type": "code",
   "execution_count": null,
   "metadata": {},
   "outputs": [],
   "source": []
  }
 ],
 "metadata": {
  "kernelspec": {
   "display_name": "Python 3",
   "language": "python",
   "name": "python3"
  },
  "language_info": {
   "codemirror_mode": {
    "name": "ipython",
    "version": 3
   },
   "file_extension": ".py",
   "mimetype": "text/x-python",
   "name": "python",
   "nbconvert_exporter": "python",
   "pygments_lexer": "ipython3",
   "version": "3.6.9"
  }
 },
 "nbformat": 4,
 "nbformat_minor": 4
}
