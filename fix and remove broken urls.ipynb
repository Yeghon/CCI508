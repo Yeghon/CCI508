{
 "cells": [
  {
   "cell_type": "code",
   "execution_count": 15,
   "metadata": {},
   "outputs": [],
   "source": [
    "import re\n",
    "import nltk"
   ]
  },
  {
   "cell_type": "code",
   "execution_count": 16,
   "metadata": {},
   "outputs": [
    {
     "data": {
      "text/plain": [
       "'#fagiawote https:// twitter.com/jessekenya/sta tus/654345383359967232 …'"
      ]
     },
     "execution_count": 16,
     "metadata": {},
     "output_type": "execute_result"
    }
   ],
   "source": [
    "sample = '''#fagiawote https:// twitter.com/jessekenya/sta tus/654345383359967232 …'''\n",
    "sample"
   ]
  },
  {
   "cell_type": "code",
   "execution_count": 17,
   "metadata": {},
   "outputs": [],
   "source": [
    "# def fixNRemoveLinks(dataset):\n",
    "    "
   ]
  },
  {
   "cell_type": "code",
   "execution_count": 18,
   "metadata": {},
   "outputs": [
    {
     "data": {
      "text/plain": [
       "['#',\n",
       " 'fagiawote',\n",
       " 'https',\n",
       " ':',\n",
       " '//',\n",
       " 'twitter.com/jessekenya/sta',\n",
       " 'tus/654345383359967232',\n",
       " '…']"
      ]
     },
     "execution_count": 18,
     "metadata": {},
     "output_type": "execute_result"
    }
   ],
   "source": [
    "tokenized = nltk.word_tokenize(sample)\n",
    "tokenized"
   ]
  },
  {
   "cell_type": "code",
   "execution_count": 19,
   "metadata": {},
   "outputs": [
    {
     "name": "stdout",
     "output_type": "stream",
     "text": [
      "x as >> #\n",
      "# \n",
      "x as >> fagiawote\n",
      "# fagiawote \n",
      "x as >> https\n",
      "# fagiawote https\n",
      "x as >> :\n",
      "# fagiawote https: \n",
      "x as >> //\n",
      "# fagiawote https: //\n",
      "x as >> twitter.com/jessekenya/sta\n",
      "# fagiawote https: //twitter.com/jessekenya/sta\n",
      "x as >> tus/654345383359967232\n",
      "# fagiawote https: //twitter.com/jessekenya/status/654345383359967232\n",
      "x as >> …\n",
      "# fagiawote https: //twitter.com/jessekenya/status/654345383359967232\n"
     ]
    }
   ],
   "source": [
    "url = ''\n",
    "for x in tokenized:\n",
    "    print(\"x as >> \" + x)\n",
    "    if '/' in x:\n",
    "        url = url + x\n",
    "        print(url)\n",
    "    else:\n",
    "        if re.search('^http*',x):\n",
    "            url = url + x\n",
    "            print(url)\n",
    "            pass\n",
    "        else:\n",
    "            index = url.find('/')\n",
    "#             print(url[index])\n",
    "            if index is not -1:\n",
    "                url.replace(url[index], '')\n",
    "                pass\n",
    "            else:\n",
    "                url = url + x + ' '\n",
    "                print(url)\n",
    "print(url)\n"
   ]
  },
  {
   "cell_type": "code",
   "execution_count": 20,
   "metadata": {},
   "outputs": [
    {
     "data": {
      "text/plain": [
       "'# fagiawote https: //twitter.com/jessekenya/status/654345383359967232'"
      ]
     },
     "execution_count": 20,
     "metadata": {},
     "output_type": "execute_result"
    }
   ],
   "source": [
    "url"
   ]
  },
  {
   "cell_type": "code",
   "execution_count": 21,
   "metadata": {},
   "outputs": [],
   "source": [
    "def removeURL(sentence):\n",
    "    return re.sub(r'http\\S+', '', sentence)"
   ]
  },
  {
   "cell_type": "code",
   "execution_count": null,
   "metadata": {},
   "outputs": [],
   "source": []
  },
  {
   "cell_type": "code",
   "execution_count": 22,
   "metadata": {},
   "outputs": [
    {
     "data": {
      "text/plain": [
       "['#', 'fagiawote', '//twitter.com/jessekenya/status/654345383359967232']"
      ]
     },
     "execution_count": 22,
     "metadata": {},
     "output_type": "execute_result"
    }
   ],
   "source": [
    "tokenized = nltk.word_tokenize(removeURL(url))\n",
    "tokenized"
   ]
  },
  {
   "cell_type": "code",
   "execution_count": 23,
   "metadata": {},
   "outputs": [
    {
     "name": "stdout",
     "output_type": "stream",
     "text": [
      "#\n",
      "fagiawote\n",
      "//twitter.com/jessekenya/status/654345383359967232\n"
     ]
    }
   ],
   "source": [
    "for x in tokenized:\n",
    "    print(x)"
   ]
  },
  {
   "cell_type": "code",
   "execution_count": 24,
   "metadata": {},
   "outputs": [
    {
     "data": {
      "text/plain": [
       "['#', 'fagiawote']"
      ]
     },
     "execution_count": 24,
     "metadata": {},
     "output_type": "execute_result"
    }
   ],
   "source": [
    "new_ = []\n",
    "for x in tokenized:\n",
    "    if '/' not in x:\n",
    "        new_.append(x)\n",
    "        pass\n",
    "    pass\n",
    "new_"
   ]
  },
  {
   "cell_type": "code",
   "execution_count": 25,
   "metadata": {},
   "outputs": [],
   "source": [
    "'''function that takes in a sentence and fixes and removes links'''\n",
    "def removeLinks(sent):\n",
    "    tokenized = nltk.word_tokenize(sample)\n",
    "    url = ''\n",
    "    for x in tokenized:\n",
    "        if '/' in x:\n",
    "            url = url + x\n",
    "        else:\n",
    "            if re.search('^http*',x):\n",
    "                url = url + x\n",
    "                pass\n",
    "            else:\n",
    "                index = url.find('/')\n",
    "                if index is not -1:\n",
    "                    url.replace(url[index], '')\n",
    "                    pass\n",
    "                else:\n",
    "                    url = url + x + ' '\n",
    "                    pass\n",
    "                pass\n",
    "            pass\n",
    "        pass\n",
    "    return url "
   ]
  },
  {
   "cell_type": "code",
   "execution_count": 27,
   "metadata": {},
   "outputs": [],
   "source": [
    "xx = removeLinks('#fagiawote https:// twitter.com/jessekenya/sta tus/654345383359967232 …')"
   ]
  },
  {
   "cell_type": "code",
   "execution_count": 28,
   "metadata": {},
   "outputs": [
    {
     "data": {
      "text/plain": [
       "['#', 'fagiawote', '//twitter.com/jessekenya/status/654345383359967232']"
      ]
     },
     "execution_count": 28,
     "metadata": {},
     "output_type": "execute_result"
    }
   ],
   "source": [
    "tokenized = nltk.word_tokenize(removeURL(xx))\n",
    "tokenized"
   ]
  },
  {
   "cell_type": "code",
   "execution_count": 29,
   "metadata": {},
   "outputs": [],
   "source": [
    "''' remove hyperlinks '''\n",
    "def remLinks(tokens):\n",
    "    new_ = []\n",
    "    for x in tokens:\n",
    "        if '/' not in x:\n",
    "            new_.append(x)\n",
    "            pass\n",
    "        pass\n",
    "    return new_"
   ]
  },
  {
   "cell_type": "code",
   "execution_count": 30,
   "metadata": {},
   "outputs": [
    {
     "data": {
      "text/plain": [
       "['#', 'fagiawote']"
      ]
     },
     "execution_count": 30,
     "metadata": {},
     "output_type": "execute_result"
    }
   ],
   "source": [
    "remLinks(tokenized)"
   ]
  },
  {
   "cell_type": "code",
   "execution_count": null,
   "metadata": {},
   "outputs": [],
   "source": []
  }
 ],
 "metadata": {
  "kernelspec": {
   "display_name": "Python 3",
   "language": "python",
   "name": "python3"
  },
  "language_info": {
   "codemirror_mode": {
    "name": "ipython",
    "version": 3
   },
   "file_extension": ".py",
   "mimetype": "text/x-python",
   "name": "python",
   "nbconvert_exporter": "python",
   "pygments_lexer": "ipython3",
   "version": "3.6.9"
  }
 },
 "nbformat": 4,
 "nbformat_minor": 4
}
