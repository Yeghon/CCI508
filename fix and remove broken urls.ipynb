{
 "cells": [
  {
   "cell_type": "code",
   "execution_count": 116,
   "metadata": {},
   "outputs": [],
   "source": [
    "import re\n",
    "import nltk"
   ]
  },
  {
   "cell_type": "code",
   "execution_count": 117,
   "metadata": {},
   "outputs": [
    {
     "data": {
      "text/plain": [
       "'@C_NyaKundiH https:// twitter.com/MboyaApollo/st atus/997446170921365505'"
      ]
     },
     "execution_count": 117,
     "metadata": {},
     "output_type": "execute_result"
    }
   ],
   "source": [
    "sample = '''@C_NyaKundiH https:// twitter.com/MboyaApollo/st atus/997446170921365505'''\n",
    "sample"
   ]
  },
  {
   "cell_type": "code",
   "execution_count": 118,
   "metadata": {},
   "outputs": [
    {
     "data": {
      "text/plain": [
       "['@',\n",
       " 'C_NyaKundiH',\n",
       " 'https',\n",
       " ':',\n",
       " '//',\n",
       " 'twitter.com/MboyaApollo/st',\n",
       " 'atus/997446170921365505']"
      ]
     },
     "execution_count": 118,
     "metadata": {},
     "output_type": "execute_result"
    }
   ],
   "source": [
    "tokenized = nltk.word_tokenize(sample)\n",
    "tokenized"
   ]
  },
  {
   "cell_type": "code",
   "execution_count": 158,
   "metadata": {},
   "outputs": [
    {
     "name": "stdout",
     "output_type": "stream",
     "text": [
      "x as >> @\n",
      "@ \n",
      "x as >> C_NyaKundiH\n",
      "@ C_NyaKundiH \n",
      "x as >> https\n",
      "@ C_NyaKundiH https\n",
      "x as >> :\n",
      "@ C_NyaKundiH https: \n",
      "x as >> //\n",
      "@ C_NyaKundiH https: //\n",
      "x as >> twitter.com/MboyaApollo/st\n",
      "@ C_NyaKundiH https: //twitter.com/MboyaApollo/st\n",
      "x as >> atus/997446170921365505\n",
      "@ C_NyaKundiH https: //twitter.com/MboyaApollo/status/997446170921365505\n",
      "@ C_NyaKundiH https: //twitter.com/MboyaApollo/status/997446170921365505\n"
     ]
    }
   ],
   "source": [
    "url = ''\n",
    "for x in tokenized:\n",
    "    print(\"x as >> \" + x)\n",
    "    if '/' in x:\n",
    "        url = url + x\n",
    "        print(url)\n",
    "    else:\n",
    "        if re.search('^http*',x):\n",
    "            url = url + x\n",
    "            print(url)\n",
    "            pass\n",
    "        else:\n",
    "            index = url.find('/')\n",
    "#             print(url[index])\n",
    "            if index is not -1:\n",
    "                url.replace(url[index], '')\n",
    "                pass\n",
    "            else:\n",
    "                url = url + x + ' '\n",
    "                print(url)\n",
    "print(url)\n"
   ]
  },
  {
   "cell_type": "code",
   "execution_count": 159,
   "metadata": {},
   "outputs": [
    {
     "data": {
      "text/plain": [
       "'@ C_NyaKundiH https: //twitter.com/MboyaApollo/status/997446170921365505'"
      ]
     },
     "execution_count": 159,
     "metadata": {},
     "output_type": "execute_result"
    }
   ],
   "source": [
    "url"
   ]
  },
  {
   "cell_type": "code",
   "execution_count": 162,
   "metadata": {},
   "outputs": [],
   "source": [
    "def removeURL(sentence):\n",
    "    return re.sub(r'http\\S+', '', sentence)"
   ]
  },
  {
   "cell_type": "code",
   "execution_count": null,
   "metadata": {},
   "outputs": [],
   "source": []
  },
  {
   "cell_type": "code",
   "execution_count": 163,
   "metadata": {},
   "outputs": [
    {
     "data": {
      "text/plain": [
       "['@', 'C_NyaKundiH', '//twitter.com/MboyaApollo/status/997446170921365505']"
      ]
     },
     "execution_count": 163,
     "metadata": {},
     "output_type": "execute_result"
    }
   ],
   "source": [
    "tokenized = nltk.word_tokenize(removeURL(url))\n",
    "tokenized"
   ]
  },
  {
   "cell_type": "code",
   "execution_count": 164,
   "metadata": {},
   "outputs": [
    {
     "name": "stdout",
     "output_type": "stream",
     "text": [
      "@\n",
      "C_NyaKundiH\n",
      "//twitter.com/MboyaApollo/status/997446170921365505\n"
     ]
    }
   ],
   "source": [
    "for x in tokenized:\n",
    "    print(x)"
   ]
  },
  {
   "cell_type": "code",
   "execution_count": 165,
   "metadata": {},
   "outputs": [
    {
     "data": {
      "text/plain": [
       "['@', 'C_NyaKundiH']"
      ]
     },
     "execution_count": 165,
     "metadata": {},
     "output_type": "execute_result"
    }
   ],
   "source": [
    "new_ = []\n",
    "for x in tokenized:\n",
    "    if '/' not in x:\n",
    "        new_.append(x)\n",
    "        pass\n",
    "    pass\n",
    "new_"
   ]
  },
  {
   "cell_type": "code",
   "execution_count": null,
   "metadata": {},
   "outputs": [],
   "source": []
  }
 ],
 "metadata": {
  "kernelspec": {
   "display_name": "Python 3",
   "language": "python",
   "name": "python3"
  },
  "language_info": {
   "codemirror_mode": {
    "name": "ipython",
    "version": 3
   },
   "file_extension": ".py",
   "mimetype": "text/x-python",
   "name": "python",
   "nbconvert_exporter": "python",
   "pygments_lexer": "ipython3",
   "version": "3.6.9"
  }
 },
 "nbformat": 4,
 "nbformat_minor": 4
}
