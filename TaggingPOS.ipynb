{
 "cells": [
  {
   "cell_type": "code",
   "execution_count": 2,
   "metadata": {},
   "outputs": [],
   "source": [
    "import pandas as pd"
   ]
  },
  {
   "cell_type": "code",
   "execution_count": 4,
   "metadata": {},
   "outputs": [
    {
     "data": {
      "text/html": [
       "<div>\n",
       "<style scoped>\n",
       "    .dataframe tbody tr th:only-of-type {\n",
       "        vertical-align: middle;\n",
       "    }\n",
       "\n",
       "    .dataframe tbody tr th {\n",
       "        vertical-align: top;\n",
       "    }\n",
       "\n",
       "    .dataframe thead th {\n",
       "        text-align: right;\n",
       "    }\n",
       "</style>\n",
       "<table border=\"1\" class=\"dataframe\">\n",
       "  <thead>\n",
       "    <tr style=\"text-align: right;\">\n",
       "      <th></th>\n",
       "      <th>1</th>\n",
       "    </tr>\n",
       "  </thead>\n",
       "  <tbody>\n",
       "    <tr>\n",
       "      <th>0</th>\n",
       "      <td>@ComedyCentralKE These words can kill a Luhya ...</td>\n",
       "    </tr>\n",
       "    <tr>\n",
       "      <th>1</th>\n",
       "      <td>The little luhya that remains in me always    ...</td>\n",
       "    </tr>\n",
       "    <tr>\n",
       "      <th>2</th>\n",
       "      <td>@cheernatwildcat kill it at battle this weeken...</td>\n",
       "    </tr>\n",
       "    <tr>\n",
       "      <th>3</th>\n",
       "      <td>@HomeboyzRadio H.B.R luv dat luhya hit luhyas ...</td>\n",
       "    </tr>\n",
       "    <tr>\n",
       "      <th>4</th>\n",
       "      <td>#HangOutFriday hahaha ball ya terby( derby)  L...</td>\n",
       "    </tr>\n",
       "  </tbody>\n",
       "</table>\n",
       "</div>"
      ],
      "text/plain": [
       "                                                   1\n",
       "0  @ComedyCentralKE These words can kill a Luhya ...\n",
       "1  The little luhya that remains in me always    ...\n",
       "2  @cheernatwildcat kill it at battle this weeken...\n",
       "3  @HomeboyzRadio H.B.R luv dat luhya hit luhyas ...\n",
       "4  #HangOutFriday hahaha ball ya terby( derby)  L..."
      ]
     },
     "execution_count": 4,
     "metadata": {},
     "output_type": "execute_result"
    }
   ],
   "source": [
    "df = pd.read_csv(\"Tweets.csv\", usecols=([1]), header=None)\n",
    "df.head()"
   ]
  },
  {
   "cell_type": "code",
   "execution_count": 5,
   "metadata": {},
   "outputs": [
    {
     "data": {
      "text/plain": [
       "array([[\"@ComedyCentralKE These words can kill a Luhya 'Wacha Ugali ipoe'\"],\n",
       "       ['The little luhya that remains in me always    Sitokingi kills me'],\n",
       "       ['@cheernatwildcat kill it at battle this weekend wildcat!! #luhya'],\n",
       "       ['@HomeboyzRadio H.B.R luv dat luhya hit luhyas always kill awoooh'],\n",
       "       ['#HangOutFriday hahaha ball ya terby( derby)  Luhyas will kill me'],\n",
       "       ['Luos don’t kill ... blood thirsty killers are those two tribes'],\n",
       "       ['Same police that kill luos in bondo and shot grannies in migori?'],\n",
       "       [\"But there's provision for police to kill innocent unarmed luos .\"],\n",
       "       ['The gvnt us determined to kill all luos   young and old. Issfine'],\n",
       "       [\"Today events:SCOK & Maraga being an Adventist to uphold Uhuru's\"]],\n",
       "      dtype=object)"
      ]
     },
     "execution_count": 5,
     "metadata": {},
     "output_type": "execute_result"
    }
   ],
   "source": [
    "#Use a small dataset\n",
    "import numpy as np\n",
    "na = np.asarray(df[:10])\n",
    "na"
   ]
  },
  {
   "cell_type": "code",
   "execution_count": 6,
   "metadata": {},
   "outputs": [
    {
     "data": {
      "text/plain": [
       "\"Can you please buy me an Arizona Ice Tea? It's $0.99.\""
      ]
     },
     "execution_count": 6,
     "metadata": {},
     "output_type": "execute_result"
    }
   ],
   "source": [
    "#Testing tokenization and POS tagging\n",
    "testString = \"Can you please buy me an Arizona Ice Tea? It's $0.99.\"\n",
    "testString"
   ]
  },
  {
   "cell_type": "code",
   "execution_count": 7,
   "metadata": {},
   "outputs": [],
   "source": [
    "from nltk.tokenize import word_tokenize"
   ]
  },
  {
   "cell_type": "code",
   "execution_count": 8,
   "metadata": {},
   "outputs": [],
   "source": [
    "from nltk.tag import pos_tag"
   ]
  },
  {
   "cell_type": "code",
   "execution_count": 9,
   "metadata": {},
   "outputs": [
    {
     "data": {
      "text/plain": [
       "['Can',\n",
       " 'you',\n",
       " 'please',\n",
       " 'buy',\n",
       " 'me',\n",
       " 'an',\n",
       " 'Arizona',\n",
       " 'Ice',\n",
       " 'Tea',\n",
       " '?',\n",
       " 'It',\n",
       " \"'s\",\n",
       " '$',\n",
       " '0.99',\n",
       " '.']"
      ]
     },
     "execution_count": 9,
     "metadata": {},
     "output_type": "execute_result"
    }
   ],
   "source": [
    "tokens = word_tokenize(testString)\n",
    "tokens"
   ]
  },
  {
   "cell_type": "code",
   "execution_count": 10,
   "metadata": {},
   "outputs": [
    {
     "data": {
      "text/plain": [
       "[('Can', 'MD'),\n",
       " ('you', 'PRP'),\n",
       " ('please', 'VB'),\n",
       " ('buy', 'VB'),\n",
       " ('me', 'PRP'),\n",
       " ('an', 'DT'),\n",
       " ('Arizona', 'NNP'),\n",
       " ('Ice', 'NNP'),\n",
       " ('Tea', 'NNP'),\n",
       " ('?', '.'),\n",
       " ('It', 'PRP'),\n",
       " (\"'s\", 'VBZ'),\n",
       " ('$', '$'),\n",
       " ('0.99', 'CD'),\n",
       " ('.', '.')]"
      ]
     },
     "execution_count": 10,
     "metadata": {},
     "output_type": "execute_result"
    }
   ],
   "source": [
    "tagged = pos_tag(tokens)\n",
    "tagged"
   ]
  },
  {
   "cell_type": "code",
   "execution_count": 11,
   "metadata": {},
   "outputs": [
    {
     "data": {
      "text/plain": [
       "array([[\"@ComedyCentralKE These words can kill a Luhya 'Wacha Ugali ipoe'\"],\n",
       "       ['The little luhya that remains in me always    Sitokingi kills me'],\n",
       "       ['@cheernatwildcat kill it at battle this weekend wildcat!! #luhya'],\n",
       "       ['@HomeboyzRadio H.B.R luv dat luhya hit luhyas always kill awoooh'],\n",
       "       ['#HangOutFriday hahaha ball ya terby( derby)  Luhyas will kill me'],\n",
       "       ['Luos don’t kill ... blood thirsty killers are those two tribes'],\n",
       "       ['Same police that kill luos in bondo and shot grannies in migori?'],\n",
       "       [\"But there's provision for police to kill innocent unarmed luos .\"],\n",
       "       ['The gvnt us determined to kill all luos   young and old. Issfine'],\n",
       "       [\"Today events:SCOK & Maraga being an Adventist to uphold Uhuru's\"]],\n",
       "      dtype=object)"
      ]
     },
     "execution_count": 11,
     "metadata": {},
     "output_type": "execute_result"
    }
   ],
   "source": [
    "na"
   ]
  },
  {
   "cell_type": "code",
   "execution_count": 13,
   "metadata": {},
   "outputs": [
    {
     "data": {
      "text/plain": [
       "(10, 1)"
      ]
     },
     "execution_count": 13,
     "metadata": {},
     "output_type": "execute_result"
    }
   ],
   "source": [
    "na.shape"
   ]
  },
  {
   "cell_type": "code",
   "execution_count": 21,
   "metadata": {},
   "outputs": [
    {
     "name": "stdout",
     "output_type": "stream",
     "text": [
      "[['@', 'ComedyCentralKE', 'These', 'words', 'can', 'kill', 'a', 'Luhya', \"'Wacha\", 'Ugali', 'ipoe', \"'\"], ['The', 'little', 'luhya', 'that', 'remains', 'in', 'me', 'always', 'Sitokingi', 'kills', 'me'], ['@', 'cheernatwildcat', 'kill', 'it', 'at', 'battle', 'this', 'weekend', 'wildcat', '!', '!', '#', 'luhya'], ['@', 'HomeboyzRadio', 'H.B.R', 'luv', 'dat', 'luhya', 'hit', 'luhyas', 'always', 'kill', 'awoooh'], ['#', 'HangOutFriday', 'hahaha', 'ball', 'ya', 'terby', '(', 'derby', ')', 'Luhyas', 'will', 'kill', 'me'], ['Luos', 'don', '’', 't', 'kill', '...', 'blood', 'thirsty', 'killers', 'are', 'those', 'two', 'tribes'], ['Same', 'police', 'that', 'kill', 'luos', 'in', 'bondo', 'and', 'shot', 'grannies', 'in', 'migori', '?'], ['But', 'there', \"'s\", 'provision', 'for', 'police', 'to', 'kill', 'innocent', 'unarmed', 'luos', '.'], ['The', 'gvnt', 'us', 'determined', 'to', 'kill', 'all', 'luos', 'young', 'and', 'old', '.', 'Issfine'], ['Today', 'events', ':', 'SCOK', '&', 'Maraga', 'being', 'an', 'Adventist', 'to', 'uphold', 'Uhuru', \"'s\"]]\n"
     ]
    }
   ],
   "source": [
    "nb = []\n",
    "for x in na:\n",
    "    for c in x:\n",
    "        tokens = word_tokenize(c)\n",
    "        nb.append(tokens)\n",
    "print(nb)"
   ]
  },
  {
   "cell_type": "code",
   "execution_count": 29,
   "metadata": {},
   "outputs": [
    {
     "data": {
      "text/plain": [
       "[[('@', 'JJ'),\n",
       "  ('ComedyCentralKE', 'NNP'),\n",
       "  ('These', 'DT'),\n",
       "  ('words', 'NNS'),\n",
       "  ('can', 'MD'),\n",
       "  ('kill', 'VB'),\n",
       "  ('a', 'DT'),\n",
       "  ('Luhya', 'NNP'),\n",
       "  (\"'Wacha\", 'NNP'),\n",
       "  ('Ugali', 'NNP'),\n",
       "  ('ipoe', 'NN'),\n",
       "  (\"'\", \"''\")],\n",
       " [('The', 'DT'),\n",
       "  ('little', 'JJ'),\n",
       "  ('luhya', 'NN'),\n",
       "  ('that', 'WDT'),\n",
       "  ('remains', 'VBZ'),\n",
       "  ('in', 'IN'),\n",
       "  ('me', 'PRP'),\n",
       "  ('always', 'RB'),\n",
       "  ('Sitokingi', 'NNP'),\n",
       "  ('kills', 'NNS'),\n",
       "  ('me', 'PRP')],\n",
       " [('@', 'JJ'),\n",
       "  ('cheernatwildcat', 'NN'),\n",
       "  ('kill', 'VB'),\n",
       "  ('it', 'PRP'),\n",
       "  ('at', 'IN'),\n",
       "  ('battle', 'NN'),\n",
       "  ('this', 'DT'),\n",
       "  ('weekend', 'NN'),\n",
       "  ('wildcat', 'NN'),\n",
       "  ('!', '.'),\n",
       "  ('!', '.'),\n",
       "  ('#', '#'),\n",
       "  ('luhya', 'NN')],\n",
       " [('@', 'JJ'),\n",
       "  ('HomeboyzRadio', 'NNP'),\n",
       "  ('H.B.R', 'NNP'),\n",
       "  ('luv', 'VBZ'),\n",
       "  ('dat', 'JJ'),\n",
       "  ('luhya', 'NN'),\n",
       "  ('hit', 'VBD'),\n",
       "  ('luhyas', 'JJ'),\n",
       "  ('always', 'RB'),\n",
       "  ('kill', 'VBP'),\n",
       "  ('awoooh', 'NNS')],\n",
       " [('#', '#'),\n",
       "  ('HangOutFriday', 'NNP'),\n",
       "  ('hahaha', 'VB'),\n",
       "  ('ball', 'NN'),\n",
       "  ('ya', 'NN'),\n",
       "  ('terby', 'NN'),\n",
       "  ('(', '('),\n",
       "  ('derby', 'JJ'),\n",
       "  (')', ')'),\n",
       "  ('Luhyas', 'NNP'),\n",
       "  ('will', 'MD'),\n",
       "  ('kill', 'VB'),\n",
       "  ('me', 'PRP')],\n",
       " [('Luos', 'NNP'),\n",
       "  ('don', 'NN'),\n",
       "  ('’', 'NNP'),\n",
       "  ('t', 'NN'),\n",
       "  ('kill', 'NN'),\n",
       "  ('...', ':'),\n",
       "  ('blood', 'NN'),\n",
       "  ('thirsty', 'JJ'),\n",
       "  ('killers', 'NNS'),\n",
       "  ('are', 'VBP'),\n",
       "  ('those', 'DT'),\n",
       "  ('two', 'CD'),\n",
       "  ('tribes', 'NNS')],\n",
       " [('Same', 'JJ'),\n",
       "  ('police', 'NN'),\n",
       "  ('that', 'WDT'),\n",
       "  ('kill', 'VBZ'),\n",
       "  ('luos', 'VBZ'),\n",
       "  ('in', 'IN'),\n",
       "  ('bondo', 'NN'),\n",
       "  ('and', 'CC'),\n",
       "  ('shot', 'NN'),\n",
       "  ('grannies', 'NNS'),\n",
       "  ('in', 'IN'),\n",
       "  ('migori', 'NN'),\n",
       "  ('?', '.')],\n",
       " [('But', 'CC'),\n",
       "  ('there', 'EX'),\n",
       "  (\"'s\", 'VBZ'),\n",
       "  ('provision', 'NN'),\n",
       "  ('for', 'IN'),\n",
       "  ('police', 'NN'),\n",
       "  ('to', 'TO'),\n",
       "  ('kill', 'VB'),\n",
       "  ('innocent', 'JJ'),\n",
       "  ('unarmed', 'JJ'),\n",
       "  ('luos', 'NN'),\n",
       "  ('.', '.')],\n",
       " [('The', 'DT'),\n",
       "  ('gvnt', 'NN'),\n",
       "  ('us', 'PRP'),\n",
       "  ('determined', 'VBD'),\n",
       "  ('to', 'TO'),\n",
       "  ('kill', 'VB'),\n",
       "  ('all', 'DT'),\n",
       "  ('luos', 'JJ'),\n",
       "  ('young', 'JJ'),\n",
       "  ('and', 'CC'),\n",
       "  ('old', 'JJ'),\n",
       "  ('.', '.'),\n",
       "  ('Issfine', 'NN')],\n",
       " [('Today', 'NN'),\n",
       "  ('events', 'NNS'),\n",
       "  (':', ':'),\n",
       "  ('SCOK', 'NNP'),\n",
       "  ('&', 'CC'),\n",
       "  ('Maraga', 'NNP'),\n",
       "  ('being', 'VBG'),\n",
       "  ('an', 'DT'),\n",
       "  ('Adventist', 'NN'),\n",
       "  ('to', 'TO'),\n",
       "  ('uphold', 'VB'),\n",
       "  ('Uhuru', 'NNP'),\n",
       "  (\"'s\", 'POS')]]"
      ]
     },
     "execution_count": 29,
     "metadata": {},
     "output_type": "execute_result"
    }
   ],
   "source": [
    "#Tag pos\n",
    "nc = []\n",
    "for x in nb:\n",
    "    nc.append(pos_tag(x))\n",
    "    \n",
    "nc\n",
    "#     for y in x:\n",
    "#         pri?nt(pos_tag(y))\n",
    "#         nc.append(pos_tag(y))\n",
    "# print(nc)"
   ]
  },
  {
   "cell_type": "code",
   "execution_count": 30,
   "metadata": {},
   "outputs": [
    {
     "name": "stdout",
     "output_type": "stream",
     "text": [
      "[('I', 'PRP'), ('saw', 'VBD'), ('a', 'DT'), ('man', 'NN'), ('with', 'IN'), ('a', 'DT'), ('telescope', 'NN')]\n"
     ]
    }
   ],
   "source": [
    "print(pos_tag(word_tokenize(\"I saw a man with a telescope\")))"
   ]
  },
  {
   "cell_type": "code",
   "execution_count": null,
   "metadata": {},
   "outputs": [],
   "source": []
  }
 ],
 "metadata": {
  "kernelspec": {
   "display_name": "Python 3",
   "language": "python",
   "name": "python3"
  },
  "language_info": {
   "codemirror_mode": {
    "name": "ipython",
    "version": 3
   },
   "file_extension": ".py",
   "mimetype": "text/x-python",
   "name": "python",
   "nbconvert_exporter": "python",
   "pygments_lexer": "ipython3",
   "version": "3.6.9"
  }
 },
 "nbformat": 4,
 "nbformat_minor": 4
}
