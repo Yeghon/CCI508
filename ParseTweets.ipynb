{
 "cells": [
  {
   "cell_type": "code",
   "execution_count": 15,
   "metadata": {},
   "outputs": [],
   "source": [
    "import pandas as pd\n",
    "import numpy as np"
   ]
  },
  {
   "cell_type": "code",
   "execution_count": 16,
   "metadata": {},
   "outputs": [],
   "source": [
    "df = pd.read_csv(\"Tweets.csv\", usecols=([1]), header=None)"
   ]
  },
  {
   "cell_type": "code",
   "execution_count": 17,
   "metadata": {},
   "outputs": [],
   "source": [
    "#Use a sample dataframe of 10 tweets, take first 5 and last 5\n",
    "na = np.asarray(df[:5]) #1st five\n",
    "nb = np.asarray(df[-5:]) #last five"
   ]
  },
  {
   "cell_type": "code",
   "execution_count": 19,
   "metadata": {},
   "outputs": [],
   "source": [
    "nc = np.concatenate((na, nb), axis=0)"
   ]
  },
  {
   "cell_type": "code",
   "execution_count": 20,
   "metadata": {},
   "outputs": [],
   "source": [
    "#Build parse trees for eah tweet"
   ]
  },
  {
   "cell_type": "code",
   "execution_count": 21,
   "metadata": {},
   "outputs": [],
   "source": [
    "#Start server\n",
    "from nltk.parse.corenlp import CoreNLPServer\n",
    "import os\n",
    "\n",
    "# The server needs to know the location of the following files:\n",
    "#   - stanford-corenlp-X.X.X.jar\n",
    "#   - stanford-corenlp-X.X.X-models.jar\n",
    "STANFORD = os.path.join(\"models\", \"/home/yeghon/Downloads/runnable/stanford-corenlp-latest (1) (1)/stanford-corenlp-4.1.0/\")\n",
    "\n",
    "# Create the server\n",
    "server = CoreNLPServer(\n",
    "   os.path.join(STANFORD, \"stanford-corenlp-4.1.0.jar\"),\n",
    "   os.path.join(STANFORD, \"stanford-corenlp-4.1.0-models.jar\"),    \n",
    ")\n",
    "\n",
    "# Start the server in the background\n",
    "server.start()"
   ]
  },
  {
   "cell_type": "code",
   "execution_count": 28,
   "metadata": {},
   "outputs": [
    {
     "name": "stdout",
     "output_type": "stream",
     "text": [
      "@ComedyCentralKE These words can kill a Luhya 'Wacha Ugali ipoe'\n",
      "(ROOT\n",
      "  (S\n",
      "    (NP (NNP @ComedyCentralKE))\n",
      "    (NP (DT These) (NNS words))\n",
      "    (VP\n",
      "      (MD can)\n",
      "      (VP\n",
      "        (VB kill)\n",
      "        (NP\n",
      "          (DT a)\n",
      "          (NML (NP (NNP Luhya) (POS ')) (NNP Wacha) (NNP Ugali))\n",
      "          (NN ipoe)\n",
      "          ('' '))))))\n",
      "The little luhya that remains in me always    Sitokingi kills me\n",
      "(ROOT\n",
      "  (S\n",
      "    (NP-TMP\n",
      "      (NP (DT The) (JJ little) (NN luhya))\n",
      "      (SBAR\n",
      "        (WHNP (WDT that))\n",
      "        (S\n",
      "          (VP\n",
      "            (VBZ remains)\n",
      "            (PP (IN in) (NP (PRP me)))\n",
      "            (ADVP (RB always))))))\n",
      "    (NP (NNP Sitokingi))\n",
      "    (VP (VBZ kills) (NP (PRP me)))))\n",
      "@cheernatwildcat kill it at battle this weekend wildcat!! #luhya\n",
      "(ROOT\n",
      "  (S\n",
      "    (ADVP (JJ @cheernatwildcat))\n",
      "    (VP\n",
      "      (VB kill)\n",
      "      (NP (PRP it))\n",
      "      (PP\n",
      "        (IN at)\n",
      "        (NP\n",
      "          (NP (NN battle))\n",
      "          (NP (DT this) (NN weekend) (NN wildcat)))))\n",
      "    (. !!)\n",
      "    (NFP #luhya)))\n",
      "@HomeboyzRadio H.B.R luv dat luhya hit luhyas always kill awoooh\n",
      "(ROOT\n",
      "  (FRAG\n",
      "    (NP (NNP @HomeboyzRadio) (NNP H.B.R) (NN luv))\n",
      "    (S\n",
      "      (NP (DT dat) (NN luhya))\n",
      "      (VP\n",
      "        (VBD hit)\n",
      "        (SBAR\n",
      "          (S\n",
      "            (NP (NNS luhyas))\n",
      "            (ADVP (RB always))\n",
      "            (VP (VBP kill) (NP (NN awoooh)))))))))\n",
      "#HangOutFriday hahaha ball ya terby( derby)  Luhyas will kill me\n",
      "(ROOT\n",
      "  (FRAG\n",
      "    (NP (NN #HangOutFriday) (NN hahaha) (NN ball))\n",
      "    (S\n",
      "      (NP (PRP ya))\n",
      "      (VP\n",
      "        (VBP terby)\n",
      "        (NP\n",
      "          (NP (-LRB- -LRB-) (NN derby) (-RRB- -RRB-))\n",
      "          (SBAR\n",
      "            (S\n",
      "              (NP (NNP Luhyas))\n",
      "              (VP (MD will) (VP (VB kill) (NP (PRP me)))))))))))\n",
      "@symokuraya lol  Yah the prices are exorbitant! Hao ni wachinese wakikuyu :)\n",
      "(ROOT\n",
      "  (NP\n",
      "    (NP (NNP @symokuraya) (UH lol) (NNP Yah))\n",
      "    (NP\n",
      "      (NP\n",
      "        (NP (DT the) (NNS prices))\n",
      "        (SBAR\n",
      "          (S\n",
      "            (VP\n",
      "              (VBP are)\n",
      "              (ADJP\n",
      "                (ADJP (NP (JJ exorbitant)))\n",
      "                (. !)\n",
      "                (ADJP\n",
      "                  (FRAG\n",
      "                    (NP (NNP Hao) (NNP ni))\n",
      "                    (NP (JJ wachinese) (NN wakikuyu))))))\n",
      "            (: :))))\n",
      "      (-RRB- -RRB-))))\n",
      "@jalangomwenyewe hao wakisii wafunguliwe radio station yao #TeamMaishAsubuhi\n",
      "(ROOT\n",
      "  (FRAG\n",
      "    (NP (NNP @jalangomwenyewe) (NNP hao) (NNP wakisii))\n",
      "    (NP (NN wafunguliwe) (NN radio) (NN station))\n",
      "    (NP (NNP yao) (NNP #TeamMaishAsubuhi))))\n",
      "Stop harbouring hatred  we so hate one another especially Luos and Kikuyus .\n",
      "(ROOT\n",
      "  (S\n",
      "    (VP\n",
      "      (VB Stop)\n",
      "      (S\n",
      "        (VP\n",
      "          (VBG harbouring)\n",
      "          (NP\n",
      "            (NP (NN hatred))\n",
      "            (SBAR\n",
      "              (S\n",
      "                (NP (PRP we))\n",
      "                (ADVP (RB so))\n",
      "                (VP\n",
      "                  (VBP hate)\n",
      "                  (NP (CD one) (DT another))\n",
      "                  (PP\n",
      "                    (RB especially)\n",
      "                    (NP (NNPS Luos) (CC and) (NNPS Kikuyus))))))))))\n",
      "    (. .)))\n",
      "you seem to hate kikuyus n you nickname yourself kikuyu name...chieth thing!\n",
      "(ROOT\n",
      "  (FRAG\n",
      "    (S\n",
      "      (NP (PRP you))\n",
      "      (VP\n",
      "        (VBP seem)\n",
      "        (S (VP (TO to) (VP (VB hate) (NP (NN kikuyus) (NN n)))))))\n",
      "    (FRAG\n",
      "      (NP\n",
      "        (NP (PRP$ you) (NN nickname))\n",
      "        (NP (PRP yourself))\n",
      "        (NP (JJ kikuyu) (NN name)))\n",
      "      (, ...)\n",
      "      (NP (JJ chieth) (NN thing)))\n",
      "    (. !)))\n",
      "Why would these Kikuyus  who were taught to hate Luos go to live among them?\n",
      "(ROOT\n",
      "  (SBARQ\n",
      "    (WHADVP (WRB Why))\n",
      "    (SQ\n",
      "      (MD would)\n",
      "      (NP\n",
      "        (NP (DT these) (NNPS Kikuyus))\n",
      "        (SBAR\n",
      "          (WHNP (WP who))\n",
      "          (S\n",
      "            (VP\n",
      "              (VBD were)\n",
      "              (VP\n",
      "                (VBN taught)\n",
      "                (PP\n",
      "                  (IN to)\n",
      "                  (NP\n",
      "                    (NP (NN hate))\n",
      "                    (SBAR\n",
      "                      (S\n",
      "                        (NP (NNPS Luos))\n",
      "                        (VP (VBP go) (S (VP (TO to)))))))))))))\n",
      "      (VP (VB live) (PP (IN among) (NP (PRP them)))))\n",
      "    (. ?)))\n"
     ]
    }
   ],
   "source": [
    "#Parse each tweet\n",
    "from  nltk.parse import CoreNLPParser\n",
    "\n",
    "parser = CoreNLPParser()\n",
    "for x in nc:\n",
    "    for y in x:\n",
    "        print(y)\n",
    "        parse = next(parser.raw_parse(y))\n",
    "        print(parse)\n"
   ]
  },
  {
   "cell_type": "code",
   "execution_count": 29,
   "metadata": {},
   "outputs": [
    {
     "data": {
      "image/png": "[encoded data removed]",
      "text/plain": [
       "Tree('ROOT', [Tree('SBARQ', [Tree('WHADVP', [Tree('WRB', ['Why'])]), Tree('SQ', [Tree('MD', ['would']), Tree('NP', [Tree('NP', [Tree('DT', ['these']), Tree('NNPS', ['Kikuyus'])]), Tree('SBAR', [Tree('WHNP', [Tree('WP', ['who'])]), Tree('S', [Tree('VP', [Tree('VBD', ['were']), Tree('VP', [Tree('VBN', ['taught']), Tree('PP', [Tree('IN', ['to']), Tree('NP', [Tree('NP', [Tree('NN', ['hate'])]), Tree('SBAR', [Tree('S', [Tree('NP', [Tree('NNPS', ['Luos'])]), Tree('VP', [Tree('VBP', ['go']), Tree('S', [Tree('VP', [Tree('TO', ['to'])])])])])])])])])])])])]), Tree('VP', [Tree('VB', ['live']), Tree('PP', [Tree('IN', ['among']), Tree('NP', [Tree('PRP', ['them'])])])])]), Tree('.', ['?'])])])"
      ]
     },
     "execution_count": 29,
     "metadata": {},
     "output_type": "execute_result"
    }
   ],
   "source": [
    "#draw a tree for the last element\n",
    "parse"
   ]
  },
  {
   "cell_type": "code",
   "execution_count": null,
   "metadata": {},
   "outputs": [],
   "source": []
  }
 ],
 "metadata": {
  "kernelspec": {
   "display_name": "Python 3",
   "language": "python",
   "name": "python3"
  },
  "language_info": {
   "codemirror_mode": {
    "name": "ipython",
    "version": 3
   },
   "file_extension": ".py",
   "mimetype": "text/x-python",
   "name": "python",
   "nbconvert_exporter": "python",
   "pygments_lexer": "ipython3",
   "version": "3.6.9"
  }
 },
 "nbformat": 4,
 "nbformat_minor": 4
}
