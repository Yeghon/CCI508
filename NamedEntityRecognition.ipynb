{
 "cells": [
  {
   "cell_type": "code",
   "execution_count": 1,
   "metadata": {},
   "outputs": [],
   "source": [
    "import pandas as pd\n",
    "import numpy as np"
   ]
  },
  {
   "cell_type": "code",
   "execution_count": 2,
   "metadata": {},
   "outputs": [
    {
     "data": {
      "text/html": [
       "<div>\n",
       "<style scoped>\n",
       "    .dataframe tbody tr th:only-of-type {\n",
       "        vertical-align: middle;\n",
       "    }\n",
       "\n",
       "    .dataframe tbody tr th {\n",
       "        vertical-align: top;\n",
       "    }\n",
       "\n",
       "    .dataframe thead th {\n",
       "        text-align: right;\n",
       "    }\n",
       "</style>\n",
       "<table border=\"1\" class=\"dataframe\">\n",
       "  <thead>\n",
       "    <tr style=\"text-align: right;\">\n",
       "      <th></th>\n",
       "      <th>1</th>\n",
       "    </tr>\n",
       "  </thead>\n",
       "  <tbody>\n",
       "    <tr>\n",
       "      <th>0</th>\n",
       "      <td>@ComedyCentralKE These words can kill a Luhya ...</td>\n",
       "    </tr>\n",
       "    <tr>\n",
       "      <th>1</th>\n",
       "      <td>The little luhya that remains in me always    ...</td>\n",
       "    </tr>\n",
       "    <tr>\n",
       "      <th>2</th>\n",
       "      <td>@cheernatwildcat kill it at battle this weeken...</td>\n",
       "    </tr>\n",
       "    <tr>\n",
       "      <th>3</th>\n",
       "      <td>@HomeboyzRadio H.B.R luv dat luhya hit luhyas ...</td>\n",
       "    </tr>\n",
       "    <tr>\n",
       "      <th>4</th>\n",
       "      <td>#HangOutFriday hahaha ball ya terby( derby)  L...</td>\n",
       "    </tr>\n",
       "  </tbody>\n",
       "</table>\n",
       "</div>"
      ],
      "text/plain": [
       "                                                   1\n",
       "0  @ComedyCentralKE These words can kill a Luhya ...\n",
       "1  The little luhya that remains in me always    ...\n",
       "2  @cheernatwildcat kill it at battle this weeken...\n",
       "3  @HomeboyzRadio H.B.R luv dat luhya hit luhyas ...\n",
       "4  #HangOutFriday hahaha ball ya terby( derby)  L..."
      ]
     },
     "execution_count": 2,
     "metadata": {},
     "output_type": "execute_result"
    }
   ],
   "source": [
    "#work with a small dataframe\n",
    "df = pd.read_csv(\"Tweets.csv\", usecols=([1]), header=None)\n",
    "df.head()"
   ]
  },
  {
   "cell_type": "code",
   "execution_count": 32,
   "metadata": {},
   "outputs": [
    {
     "data": {
      "text/plain": [
       "array([[\"@ComedyCentralKE These words can kill a Luhya 'Wacha Ugali ipoe'\"],\n",
       "       ['The little luhya that remains in me always    Sitokingi kills me'],\n",
       "       ['@cheernatwildcat kill it at battle this weekend wildcat!! #luhya'],\n",
       "       ['@HomeboyzRadio H.B.R luv dat luhya hit luhyas always kill awoooh'],\n",
       "       ['#HangOutFriday hahaha ball ya terby( derby)  Luhyas will kill me'],\n",
       "       ['Luos don’t kill ... blood thirsty killers are those two tribes'],\n",
       "       ['Same police that kill luos in bondo and shot grannies in migori?'],\n",
       "       [\"But there's provision for police to kill innocent unarmed luos .\"],\n",
       "       ['The gvnt us determined to kill all luos   young and old. Issfine'],\n",
       "       [\"Today events:SCOK & Maraga being an Adventist to uphold Uhuru's\"]],\n",
       "      dtype=object)"
      ]
     },
     "execution_count": 32,
     "metadata": {},
     "output_type": "execute_result"
    }
   ],
   "source": [
    "na = np.asarray(df[:10])\n",
    "na"
   ]
  },
  {
   "cell_type": "code",
   "execution_count": 33,
   "metadata": {},
   "outputs": [],
   "source": [
    "import spacy\n",
    "from spacy import displacy"
   ]
  },
  {
   "cell_type": "code",
   "execution_count": 41,
   "metadata": {},
   "outputs": [
    {
     "name": "stderr",
     "output_type": "stream",
     "text": [
      "/home/yeghon/.local/lib/python3.6/site-packages/spacy/displacy/__init__.py:94: UserWarning: [W011] It looks like you're calling displacy.serve from within a Jupyter notebook or a similar environment. This likely means you're already running a local web server, so there's no need to make displaCy start another one. Instead, you should be able to replace displacy.serve with displacy.render to show the visualization.\n",
      "  warnings.warn(Warnings.W011)\n",
      "/home/yeghon/.local/lib/python3.6/site-packages/spacy/displacy/__init__.py:189: UserWarning: [W006] No entities to visualize found in Doc object. If this is surprising to you, make sure the Doc was processed using a model that supports named entity recognition, and check the `doc.ents` property manually if necessary.\n",
      "  warnings.warn(Warnings.W006)\n"
     ]
    },
    {
     "data": {
      "text/html": [
       "<span class=\"tex2jax_ignore\"><!DOCTYPE html>\n",
       "<html lang=\"en\">\n",
       "    <head>\n",
       "        <title>displaCy</title>\n",
       "    </head>\n",
       "\n",
       "    <body style=\"font-size: 16px; font-family: -apple-system, BlinkMacSystemFont, 'Segoe UI', Helvetica, Arial, sans-serif, 'Apple Color Emoji', 'Segoe UI Emoji', 'Segoe UI Symbol'; padding: 4rem 2rem; direction: ltr\">\n",
       "<figure style=\"margin-bottom: 6rem\">\n",
       "<div class=\"entities\" style=\"line-height: 2.5; direction: ltr\">@comedycentralke these words can kill a luhya 'wacha ugali ipoe'</div>\n",
       "</figure>\n",
       "</body>\n",
       "</html></span>"
      ],
      "text/plain": [
       "<IPython.core.display.HTML object>"
      ]
     },
     "metadata": {},
     "output_type": "display_data"
    },
    {
     "name": "stdout",
     "output_type": "stream",
     "text": [
      "\n",
      "Using the 'ent' visualizer\n",
      "Serving on http://0.0.0.0:5000 ...\n",
      "\n"
     ]
    },
    {
     "name": "stderr",
     "output_type": "stream",
     "text": [
      "127.0.0.1 - - [05/Nov/2020 11:13:56] \"GET / HTTP/1.1\" 200 504\n",
      "127.0.0.1 - - [05/Nov/2020 11:13:59] \"GET /favicon.ico HTTP/1.1\" 200 504\n"
     ]
    },
    {
     "name": "stdout",
     "output_type": "stream",
     "text": [
      "Shutting down server on port 5000.\n",
      "None\n"
     ]
    },
    {
     "data": {
      "text/html": [
       "<span class=\"tex2jax_ignore\"><!DOCTYPE html>\n",
       "<html lang=\"en\">\n",
       "    <head>\n",
       "        <title>displaCy</title>\n",
       "    </head>\n",
       "\n",
       "    <body style=\"font-size: 16px; font-family: -apple-system, BlinkMacSystemFont, 'Segoe UI', Helvetica, Arial, sans-serif, 'Apple Color Emoji', 'Segoe UI Emoji', 'Segoe UI Symbol'; padding: 4rem 2rem; direction: ltr\">\n",
       "<figure style=\"margin-bottom: 6rem\">\n",
       "<div class=\"entities\" style=\"line-height: 2.5; direction: ltr\">the little luhya that remains in me always    sitokingi kills me</div>\n",
       "</figure>\n",
       "</body>\n",
       "</html></span>"
      ],
      "text/plain": [
       "<IPython.core.display.HTML object>"
      ]
     },
     "metadata": {},
     "output_type": "display_data"
    },
    {
     "name": "stdout",
     "output_type": "stream",
     "text": [
      "\n",
      "Using the 'ent' visualizer\n",
      "Serving on http://0.0.0.0:5000 ...\n",
      "\n"
     ]
    },
    {
     "name": "stderr",
     "output_type": "stream",
     "text": [
      "127.0.0.1 - - [05/Nov/2020 11:15:36] \"GET / HTTP/1.1\" 200 504\n",
      "127.0.0.1 - - [05/Nov/2020 11:15:37] \"GET /favicon.ico HTTP/1.1\" 200 504\n",
      "127.0.0.1 - - [05/Nov/2020 11:15:42] \"GET / HTTP/1.1\" 200 504\n",
      "127.0.0.1 - - [05/Nov/2020 11:15:42] \"GET /favicon.ico HTTP/1.1\" 200 504\n"
     ]
    },
    {
     "name": "stdout",
     "output_type": "stream",
     "text": [
      "Shutting down server on port 5000.\n",
      "None\n"
     ]
    },
    {
     "data": {
      "text/html": [
       "<span class=\"tex2jax_ignore\"><!DOCTYPE html>\n",
       "<html lang=\"en\">\n",
       "    <head>\n",
       "        <title>displaCy</title>\n",
       "    </head>\n",
       "\n",
       "    <body style=\"font-size: 16px; font-family: -apple-system, BlinkMacSystemFont, 'Segoe UI', Helvetica, Arial, sans-serif, 'Apple Color Emoji', 'Segoe UI Emoji', 'Segoe UI Symbol'; padding: 4rem 2rem; direction: ltr\">\n",
       "<figure style=\"margin-bottom: 6rem\">\n",
       "<div class=\"entities\" style=\"line-height: 2.5; direction: ltr\">@cheernatwildcat kill it at battle \n",
       "<mark class=\"entity\" style=\"background: #bfe1d9; padding: 0.45em 0.6em; margin: 0 0.25em; line-height: 1; border-radius: 0.35em;\">\n",
       "    this weekend\n",
       "    <span style=\"font-size: 0.8em; font-weight: bold; line-height: 1; border-radius: 0.35em; text-transform: uppercase; vertical-align: middle; margin-left: 0.5rem\">DATE</span>\n",
       "</mark>\n",
       " wildcat!! #luhya</div>\n",
       "</figure>\n",
       "</body>\n",
       "</html></span>"
      ],
      "text/plain": [
       "<IPython.core.display.HTML object>"
      ]
     },
     "metadata": {},
     "output_type": "display_data"
    },
    {
     "name": "stdout",
     "output_type": "stream",
     "text": [
      "\n",
      "Using the 'ent' visualizer\n",
      "Serving on http://0.0.0.0:5000 ...\n",
      "\n"
     ]
    },
    {
     "name": "stderr",
     "output_type": "stream",
     "text": [
      "127.0.0.1 - - [05/Nov/2020 11:16:00] \"GET / HTTP/1.1\" 200 826\n",
      "127.0.0.1 - - [05/Nov/2020 11:16:00] \"GET /favicon.ico HTTP/1.1\" 200 826\n"
     ]
    },
    {
     "name": "stdout",
     "output_type": "stream",
     "text": [
      "Shutting down server on port 5000.\n",
      "None\n"
     ]
    },
    {
     "data": {
      "text/html": [
       "<span class=\"tex2jax_ignore\"><!DOCTYPE html>\n",
       "<html lang=\"en\">\n",
       "    <head>\n",
       "        <title>displaCy</title>\n",
       "    </head>\n",
       "\n",
       "    <body style=\"font-size: 16px; font-family: -apple-system, BlinkMacSystemFont, 'Segoe UI', Helvetica, Arial, sans-serif, 'Apple Color Emoji', 'Segoe UI Emoji', 'Segoe UI Symbol'; padding: 4rem 2rem; direction: ltr\">\n",
       "<figure style=\"margin-bottom: 6rem\">\n",
       "<div class=\"entities\" style=\"line-height: 2.5; direction: ltr\">\n",
       "<mark class=\"entity\" style=\"background: #aa9cfc; padding: 0.45em 0.6em; margin: 0 0.25em; line-height: 1; border-radius: 0.35em;\">\n",
       "    @homeboyzradio h.b.r luv dat luhya\n",
       "    <span style=\"font-size: 0.8em; font-weight: bold; line-height: 1; border-radius: 0.35em; text-transform: uppercase; vertical-align: middle; margin-left: 0.5rem\">PERSON</span>\n",
       "</mark>\n",
       " hit luhyas always kill awoooh</div>\n",
       "</figure>\n",
       "</body>\n",
       "</html></span>"
      ],
      "text/plain": [
       "<IPython.core.display.HTML object>"
      ]
     },
     "metadata": {},
     "output_type": "display_data"
    },
    {
     "name": "stdout",
     "output_type": "stream",
     "text": [
      "\n",
      "Using the 'ent' visualizer\n",
      "Serving on http://0.0.0.0:5000 ...\n",
      "\n",
      "Shutting down server on port 5000.\n",
      "None\n"
     ]
    },
    {
     "data": {
      "text/html": [
       "<span class=\"tex2jax_ignore\"><!DOCTYPE html>\n",
       "<html lang=\"en\">\n",
       "    <head>\n",
       "        <title>displaCy</title>\n",
       "    </head>\n",
       "\n",
       "    <body style=\"font-size: 16px; font-family: -apple-system, BlinkMacSystemFont, 'Segoe UI', Helvetica, Arial, sans-serif, 'Apple Color Emoji', 'Segoe UI Emoji', 'Segoe UI Symbol'; padding: 4rem 2rem; direction: ltr\">\n",
       "<figure style=\"margin-bottom: 6rem\">\n",
       "<div class=\"entities\" style=\"line-height: 2.5; direction: ltr\">#hangoutfriday hahaha ball ya terby( derby)  luhyas will kill me</div>\n",
       "</figure>\n",
       "</body>\n",
       "</html></span>"
      ],
      "text/plain": [
       "<IPython.core.display.HTML object>"
      ]
     },
     "metadata": {},
     "output_type": "display_data"
    },
    {
     "name": "stdout",
     "output_type": "stream",
     "text": [
      "\n",
      "Using the 'ent' visualizer\n",
      "Serving on http://0.0.0.0:5000 ...\n",
      "\n",
      "Shutting down server on port 5000.\n",
      "None\n"
     ]
    },
    {
     "data": {
      "text/html": [
       "<span class=\"tex2jax_ignore\"><!DOCTYPE html>\n",
       "<html lang=\"en\">\n",
       "    <head>\n",
       "        <title>displaCy</title>\n",
       "    </head>\n",
       "\n",
       "    <body style=\"font-size: 16px; font-family: -apple-system, BlinkMacSystemFont, 'Segoe UI', Helvetica, Arial, sans-serif, 'Apple Color Emoji', 'Segoe UI Emoji', 'Segoe UI Symbol'; padding: 4rem 2rem; direction: ltr\">\n",
       "<figure style=\"margin-bottom: 6rem\">\n",
       "<div class=\"entities\" style=\"line-height: 2.5; direction: ltr\">luos don’t kill ... blood \n",
       "<mark class=\"entity\" style=\"background: #aa9cfc; padding: 0.45em 0.6em; margin: 0 0.25em; line-height: 1; border-radius: 0.35em;\">\n",
       "    thirsty killers\n",
       "    <span style=\"font-size: 0.8em; font-weight: bold; line-height: 1; border-radius: 0.35em; text-transform: uppercase; vertical-align: middle; margin-left: 0.5rem\">PERSON</span>\n",
       "</mark>\n",
       " are those \n",
       "<mark class=\"entity\" style=\"background: #e4e7d2; padding: 0.45em 0.6em; margin: 0 0.25em; line-height: 1; border-radius: 0.35em;\">\n",
       "    two\n",
       "    <span style=\"font-size: 0.8em; font-weight: bold; line-height: 1; border-radius: 0.35em; text-transform: uppercase; vertical-align: middle; margin-left: 0.5rem\">CARDINAL</span>\n",
       "</mark>\n",
       " tribes</div>\n",
       "</figure>\n",
       "</body>\n",
       "</html></span>"
      ],
      "text/plain": [
       "<IPython.core.display.HTML object>"
      ]
     },
     "metadata": {},
     "output_type": "display_data"
    },
    {
     "name": "stdout",
     "output_type": "stream",
     "text": [
      "\n",
      "Using the 'ent' visualizer\n",
      "Serving on http://0.0.0.0:5000 ...\n",
      "\n",
      "Shutting down server on port 5000.\n",
      "None\n"
     ]
    },
    {
     "data": {
      "text/html": [
       "<span class=\"tex2jax_ignore\"><!DOCTYPE html>\n",
       "<html lang=\"en\">\n",
       "    <head>\n",
       "        <title>displaCy</title>\n",
       "    </head>\n",
       "\n",
       "    <body style=\"font-size: 16px; font-family: -apple-system, BlinkMacSystemFont, 'Segoe UI', Helvetica, Arial, sans-serif, 'Apple Color Emoji', 'Segoe UI Emoji', 'Segoe UI Symbol'; padding: 4rem 2rem; direction: ltr\">\n",
       "<figure style=\"margin-bottom: 6rem\">\n",
       "<div class=\"entities\" style=\"line-height: 2.5; direction: ltr\">same police that kill luos in bondo and shot grannies in migori?</div>\n",
       "</figure>\n",
       "</body>\n",
       "</html></span>"
      ],
      "text/plain": [
       "<IPython.core.display.HTML object>"
      ]
     },
     "metadata": {},
     "output_type": "display_data"
    },
    {
     "name": "stdout",
     "output_type": "stream",
     "text": [
      "\n",
      "Using the 'ent' visualizer\n",
      "Serving on http://0.0.0.0:5000 ...\n",
      "\n",
      "Shutting down server on port 5000.\n",
      "None\n"
     ]
    },
    {
     "data": {
      "text/html": [
       "<span class=\"tex2jax_ignore\"><!DOCTYPE html>\n",
       "<html lang=\"en\">\n",
       "    <head>\n",
       "        <title>displaCy</title>\n",
       "    </head>\n",
       "\n",
       "    <body style=\"font-size: 16px; font-family: -apple-system, BlinkMacSystemFont, 'Segoe UI', Helvetica, Arial, sans-serif, 'Apple Color Emoji', 'Segoe UI Emoji', 'Segoe UI Symbol'; padding: 4rem 2rem; direction: ltr\">\n",
       "<figure style=\"margin-bottom: 6rem\">\n",
       "<div class=\"entities\" style=\"line-height: 2.5; direction: ltr\">but there's provision for police to kill innocent unarmed luos .</div>\n",
       "</figure>\n",
       "</body>\n",
       "</html></span>"
      ],
      "text/plain": [
       "<IPython.core.display.HTML object>"
      ]
     },
     "metadata": {},
     "output_type": "display_data"
    },
    {
     "name": "stdout",
     "output_type": "stream",
     "text": [
      "\n",
      "Using the 'ent' visualizer\n",
      "Serving on http://0.0.0.0:5000 ...\n",
      "\n",
      "Shutting down server on port 5000.\n",
      "None\n"
     ]
    },
    {
     "data": {
      "text/html": [
       "<span class=\"tex2jax_ignore\"><!DOCTYPE html>\n",
       "<html lang=\"en\">\n",
       "    <head>\n",
       "        <title>displaCy</title>\n",
       "    </head>\n",
       "\n",
       "    <body style=\"font-size: 16px; font-family: -apple-system, BlinkMacSystemFont, 'Segoe UI', Helvetica, Arial, sans-serif, 'Apple Color Emoji', 'Segoe UI Emoji', 'Segoe UI Symbol'; padding: 4rem 2rem; direction: ltr\">\n",
       "<figure style=\"margin-bottom: 6rem\">\n",
       "<div class=\"entities\" style=\"line-height: 2.5; direction: ltr\">the gvnt us determined to kill all luos   young and old. issfine</div>\n",
       "</figure>\n",
       "</body>\n",
       "</html></span>"
      ],
      "text/plain": [
       "<IPython.core.display.HTML object>"
      ]
     },
     "metadata": {},
     "output_type": "display_data"
    },
    {
     "name": "stdout",
     "output_type": "stream",
     "text": [
      "\n",
      "Using the 'ent' visualizer\n",
      "Serving on http://0.0.0.0:5000 ...\n",
      "\n",
      "Shutting down server on port 5000.\n",
      "None\n"
     ]
    },
    {
     "data": {
      "text/html": [
       "<span class=\"tex2jax_ignore\"><!DOCTYPE html>\n",
       "<html lang=\"en\">\n",
       "    <head>\n",
       "        <title>displaCy</title>\n",
       "    </head>\n",
       "\n",
       "    <body style=\"font-size: 16px; font-family: -apple-system, BlinkMacSystemFont, 'Segoe UI', Helvetica, Arial, sans-serif, 'Apple Color Emoji', 'Segoe UI Emoji', 'Segoe UI Symbol'; padding: 4rem 2rem; direction: ltr\">\n",
       "<figure style=\"margin-bottom: 6rem\">\n",
       "<div class=\"entities\" style=\"line-height: 2.5; direction: ltr\">\n",
       "<mark class=\"entity\" style=\"background: #bfe1d9; padding: 0.45em 0.6em; margin: 0 0.25em; line-height: 1; border-radius: 0.35em;\">\n",
       "    today\n",
       "    <span style=\"font-size: 0.8em; font-weight: bold; line-height: 1; border-radius: 0.35em; text-transform: uppercase; vertical-align: middle; margin-left: 0.5rem\">DATE</span>\n",
       "</mark>\n",
       " events:\n",
       "<mark class=\"entity\" style=\"background: #7aecec; padding: 0.45em 0.6em; margin: 0 0.25em; line-height: 1; border-radius: 0.35em;\">\n",
       "    scok &amp; maraga\n",
       "    <span style=\"font-size: 0.8em; font-weight: bold; line-height: 1; border-radius: 0.35em; text-transform: uppercase; vertical-align: middle; margin-left: 0.5rem\">ORG</span>\n",
       "</mark>\n",
       " being an adventist to uphold uhuru's</div>\n",
       "</figure>\n",
       "</body>\n",
       "</html></span>"
      ],
      "text/plain": [
       "<IPython.core.display.HTML object>"
      ]
     },
     "metadata": {},
     "output_type": "display_data"
    },
    {
     "name": "stdout",
     "output_type": "stream",
     "text": [
      "\n",
      "Using the 'ent' visualizer\n",
      "Serving on http://0.0.0.0:5000 ...\n",
      "\n",
      "Shutting down server on port 5000.\n",
      "None\n"
     ]
    }
   ],
   "source": [
    "nb = []\n",
    "nlp = spacy.load('en_core_web_sm')\n",
    "for x in na:\n",
    "    for y in x:\n",
    "        q = y.lower()\n",
    "        doc = nlp(q)\n",
    "        print(displacy.serve(doc, style=\"ent\"))\n",
    "#         for c in doc.ents:\n",
    "#             print(c.text, c.label_)\n",
    "# #             nb.append(c)\n",
    "# #         print(y)"
   ]
  },
  {
   "cell_type": "code",
   "execution_count": 36,
   "metadata": {},
   "outputs": [
    {
     "data": {
      "text/plain": [
       "'hello world'"
      ]
     },
     "execution_count": 36,
     "metadata": {},
     "output_type": "execute_result"
    }
   ],
   "source": [
    "\"hello World\".lower()"
   ]
  },
  {
   "cell_type": "code",
   "execution_count": 42,
   "metadata": {},
   "outputs": [],
   "source": [
    "#POS tagging\n",
    "from nltk.tag import pos_tag\n",
    "from nltk.tokenize import word_tokenize"
   ]
  },
  {
   "cell_type": "code",
   "execution_count": 48,
   "metadata": {},
   "outputs": [
    {
     "data": {
      "text/plain": [
       "[[('@', 'JJ'),\n",
       "  ('ComedyCentralKE', 'NNP'),\n",
       "  ('These', 'DT'),\n",
       "  ('words', 'NNS'),\n",
       "  ('can', 'MD'),\n",
       "  ('kill', 'VB'),\n",
       "  ('a', 'DT'),\n",
       "  ('Luhya', 'NNP'),\n",
       "  (\"'Wacha\", 'NNP'),\n",
       "  ('Ugali', 'NNP'),\n",
       "  ('ipoe', 'NN'),\n",
       "  (\"'\", \"''\")],\n",
       " [('The', 'DT'),\n",
       "  ('little', 'JJ'),\n",
       "  ('luhya', 'NN'),\n",
       "  ('that', 'WDT'),\n",
       "  ('remains', 'VBZ'),\n",
       "  ('in', 'IN'),\n",
       "  ('me', 'PRP'),\n",
       "  ('always', 'RB'),\n",
       "  ('Sitokingi', 'NNP'),\n",
       "  ('kills', 'NNS'),\n",
       "  ('me', 'PRP')],\n",
       " [('@', 'JJ'),\n",
       "  ('cheernatwildcat', 'NN'),\n",
       "  ('kill', 'VB'),\n",
       "  ('it', 'PRP'),\n",
       "  ('at', 'IN'),\n",
       "  ('battle', 'NN'),\n",
       "  ('this', 'DT'),\n",
       "  ('weekend', 'NN'),\n",
       "  ('wildcat', 'NN'),\n",
       "  ('!', '.'),\n",
       "  ('!', '.'),\n",
       "  ('#', '#'),\n",
       "  ('luhya', 'NN')],\n",
       " [('@', 'JJ'),\n",
       "  ('HomeboyzRadio', 'NNP'),\n",
       "  ('H.B.R', 'NNP'),\n",
       "  ('luv', 'VBZ'),\n",
       "  ('dat', 'JJ'),\n",
       "  ('luhya', 'NN'),\n",
       "  ('hit', 'VBD'),\n",
       "  ('luhyas', 'JJ'),\n",
       "  ('always', 'RB'),\n",
       "  ('kill', 'VBP'),\n",
       "  ('awoooh', 'NNS')],\n",
       " [('#', '#'),\n",
       "  ('HangOutFriday', 'NNP'),\n",
       "  ('hahaha', 'VB'),\n",
       "  ('ball', 'NN'),\n",
       "  ('ya', 'NN'),\n",
       "  ('terby', 'NN'),\n",
       "  ('(', '('),\n",
       "  ('derby', 'JJ'),\n",
       "  (')', ')'),\n",
       "  ('Luhyas', 'NNP'),\n",
       "  ('will', 'MD'),\n",
       "  ('kill', 'VB'),\n",
       "  ('me', 'PRP')],\n",
       " [('Luos', 'NNP'),\n",
       "  ('don', 'NN'),\n",
       "  ('’', 'NNP'),\n",
       "  ('t', 'NN'),\n",
       "  ('kill', 'NN'),\n",
       "  ('...', ':'),\n",
       "  ('blood', 'NN'),\n",
       "  ('thirsty', 'JJ'),\n",
       "  ('killers', 'NNS'),\n",
       "  ('are', 'VBP'),\n",
       "  ('those', 'DT'),\n",
       "  ('two', 'CD'),\n",
       "  ('tribes', 'NNS')],\n",
       " [('Same', 'JJ'),\n",
       "  ('police', 'NN'),\n",
       "  ('that', 'WDT'),\n",
       "  ('kill', 'VBZ'),\n",
       "  ('luos', 'VBZ'),\n",
       "  ('in', 'IN'),\n",
       "  ('bondo', 'NN'),\n",
       "  ('and', 'CC'),\n",
       "  ('shot', 'NN'),\n",
       "  ('grannies', 'NNS'),\n",
       "  ('in', 'IN'),\n",
       "  ('migori', 'NN'),\n",
       "  ('?', '.')],\n",
       " [('But', 'CC'),\n",
       "  ('there', 'EX'),\n",
       "  (\"'s\", 'VBZ'),\n",
       "  ('provision', 'NN'),\n",
       "  ('for', 'IN'),\n",
       "  ('police', 'NN'),\n",
       "  ('to', 'TO'),\n",
       "  ('kill', 'VB'),\n",
       "  ('innocent', 'JJ'),\n",
       "  ('unarmed', 'JJ'),\n",
       "  ('luos', 'NN'),\n",
       "  ('.', '.')],\n",
       " [('The', 'DT'),\n",
       "  ('gvnt', 'NN'),\n",
       "  ('us', 'PRP'),\n",
       "  ('determined', 'VBD'),\n",
       "  ('to', 'TO'),\n",
       "  ('kill', 'VB'),\n",
       "  ('all', 'DT'),\n",
       "  ('luos', 'JJ'),\n",
       "  ('young', 'JJ'),\n",
       "  ('and', 'CC'),\n",
       "  ('old', 'JJ'),\n",
       "  ('.', '.'),\n",
       "  ('Issfine', 'NN')],\n",
       " [('Today', 'NN'),\n",
       "  ('events', 'NNS'),\n",
       "  (':', ':'),\n",
       "  ('SCOK', 'NNP'),\n",
       "  ('&', 'CC'),\n",
       "  ('Maraga', 'NNP'),\n",
       "  ('being', 'VBG'),\n",
       "  ('an', 'DT'),\n",
       "  ('Adventist', 'NN'),\n",
       "  ('to', 'TO'),\n",
       "  ('uphold', 'VB'),\n",
       "  ('Uhuru', 'NNP'),\n",
       "  (\"'s\", 'POS')]]"
      ]
     },
     "execution_count": 48,
     "metadata": {},
     "output_type": "execute_result"
    }
   ],
   "source": [
    "nc = []\n",
    "for x in na:\n",
    "    for c in x:\n",
    "        nc.append(pos_tag(word_tokenize(c)))\n",
    "nc"
   ]
  },
  {
   "cell_type": "code",
   "execution_count": null,
   "metadata": {},
   "outputs": [],
   "source": []
  }
 ],
 "metadata": {
  "kernelspec": {
   "display_name": "Python 3",
   "language": "python",
   "name": "python3"
  },
  "language_info": {
   "codemirror_mode": {
    "name": "ipython",
    "version": 3
   },
   "file_extension": ".py",
   "mimetype": "text/x-python",
   "name": "python",
   "nbconvert_exporter": "python",
   "pygments_lexer": "ipython3",
   "version": "3.6.9"
  }
 },
 "nbformat": 4,
 "nbformat_minor": 4
}
