{
 "cells": [
  {
   "cell_type": "code",
   "execution_count": 1,
   "metadata": {},
   "outputs": [],
   "source": [
    "import pandas as pd"
   ]
  },
  {
   "cell_type": "code",
   "execution_count": 4,
   "metadata": {},
   "outputs": [
    {
     "data": {
      "text/html": [
       "<div>\n",
       "<style scoped>\n",
       "    .dataframe tbody tr th:only-of-type {\n",
       "        vertical-align: middle;\n",
       "    }\n",
       "\n",
       "    .dataframe tbody tr th {\n",
       "        vertical-align: top;\n",
       "    }\n",
       "\n",
       "    .dataframe thead th {\n",
       "        text-align: right;\n",
       "    }\n",
       "</style>\n",
       "<table border=\"1\" class=\"dataframe\">\n",
       "  <thead>\n",
       "    <tr style=\"text-align: right;\">\n",
       "      <th></th>\n",
       "      <th>artist</th>\n",
       "      <th>lyrics</th>\n",
       "    </tr>\n",
       "  </thead>\n",
       "  <tbody>\n",
       "    <tr>\n",
       "      <th>count</th>\n",
       "      <td>5</td>\n",
       "      <td>87</td>\n",
       "    </tr>\n",
       "    <tr>\n",
       "      <th>unique</th>\n",
       "      <td>5</td>\n",
       "      <td>66</td>\n",
       "    </tr>\n",
       "    <tr>\n",
       "      <th>top</th>\n",
       "      <td>Nameless ft amani</td>\n",
       "      <td>[Nameless]</td>\n",
       "    </tr>\n",
       "    <tr>\n",
       "      <th>freq</th>\n",
       "      <td>1</td>\n",
       "      <td>5</td>\n",
       "    </tr>\n",
       "  </tbody>\n",
       "</table>\n",
       "</div>"
      ],
      "text/plain": [
       "                    artist      lyrics\n",
       "count                    5          87\n",
       "unique                   5          66\n",
       "top     Nameless ft amani   [Nameless]\n",
       "freq                     1           5"
      ]
     },
     "execution_count": 4,
     "metadata": {},
     "output_type": "execute_result"
    }
   ],
   "source": [
    "df = pd.read_csv('kenyanclassics.csv')\n",
    "df.describe()"
   ]
  },
  {
   "cell_type": "code",
   "execution_count": 5,
   "metadata": {},
   "outputs": [
    {
     "name": "stdout",
     "output_type": "stream",
     "text": [
      "<class 'pandas.core.frame.DataFrame'>\n",
      "RangeIndex: 138 entries, 0 to 137\n",
      "Data columns (total 2 columns):\n",
      " #   Column  Non-Null Count  Dtype \n",
      "---  ------  --------------  ----- \n",
      " 0   artist  5 non-null      object\n",
      " 1   lyrics  87 non-null     object\n",
      "dtypes: object(2)\n",
      "memory usage: 2.3+ KB\n"
     ]
    }
   ],
   "source": [
    "df.info()"
   ]
  },
  {
   "cell_type": "code",
   "execution_count": 6,
   "metadata": {},
   "outputs": [
    {
     "data": {
      "text/html": [
       "<div>\n",
       "<style scoped>\n",
       "    .dataframe tbody tr th:only-of-type {\n",
       "        vertical-align: middle;\n",
       "    }\n",
       "\n",
       "    .dataframe tbody tr th {\n",
       "        vertical-align: top;\n",
       "    }\n",
       "\n",
       "    .dataframe thead th {\n",
       "        text-align: right;\n",
       "    }\n",
       "</style>\n",
       "<table border=\"1\" class=\"dataframe\">\n",
       "  <thead>\n",
       "    <tr style=\"text-align: right;\">\n",
       "      <th></th>\n",
       "      <th>artist</th>\n",
       "      <th>lyrics</th>\n",
       "    </tr>\n",
       "  </thead>\n",
       "  <tbody>\n",
       "    <tr>\n",
       "      <th>0</th>\n",
       "      <td>E-sir feat Nameless</td>\n",
       "      <td>Tumekuja ku-party, DJ hebu weka tracky</td>\n",
       "    </tr>\n",
       "    <tr>\n",
       "      <th>1</th>\n",
       "      <td>Lenny, Mr. Googz, vinnie banton</td>\n",
       "      <td>Intro (Lenny)</td>\n",
       "    </tr>\n",
       "    <tr>\n",
       "      <th>2</th>\n",
       "      <td>gidigidi majimaji</td>\n",
       "      <td>Okok Primary School, ewi got</td>\n",
       "    </tr>\n",
       "    <tr>\n",
       "      <th>3</th>\n",
       "      <td>sema</td>\n",
       "      <td>asubuhi naamka</td>\n",
       "    </tr>\n",
       "    <tr>\n",
       "      <th>4</th>\n",
       "      <td>Nameless ft amani</td>\n",
       "      <td>[Intro: Nameless]</td>\n",
       "    </tr>\n",
       "  </tbody>\n",
       "</table>\n",
       "</div>"
      ],
      "text/plain": [
       "                            artist                                  lyrics\n",
       "0              E-sir feat Nameless  Tumekuja ku-party, DJ hebu weka tracky\n",
       "1  Lenny, Mr. Googz, vinnie banton                           Intro (Lenny)\n",
       "2                gidigidi majimaji            Okok Primary School, ewi got\n",
       "3                             sema                          asubuhi naamka\n",
       "4               Nameless ft amani                        [Intro: Nameless]"
      ]
     },
     "execution_count": 6,
     "metadata": {},
     "output_type": "execute_result"
    }
   ],
   "source": [
    "df.head()"
   ]
  },
  {
   "cell_type": "code",
   "execution_count": 7,
   "metadata": {},
   "outputs": [],
   "source": [
    "lyrics = df['lyrics']"
   ]
  },
  {
   "cell_type": "code",
   "execution_count": 8,
   "metadata": {},
   "outputs": [
    {
     "data": {
      "text/plain": [
       "0       Tumekuja ku-party, DJ hebu weka tracky\n",
       "1                                Intro (Lenny)\n",
       "2                 Okok Primary School, ewi got\n",
       "3                               asubuhi naamka\n",
       "4                            [Intro: Nameless]\n",
       "                        ...                   \n",
       "133                   Ikiwa zimeshika sema my!\n",
       "134                 Na wasee tumetoka Githurai\n",
       "135        Tumekam kukupa rhymes zingine dry-y\n",
       "136    Tuki-fry whack MCs ka mayai kwa kara-ai\n",
       "137                   Ikiwa zimeshika sema my!\n",
       "Name: lyrics, Length: 138, dtype: object"
      ]
     },
     "execution_count": 8,
     "metadata": {},
     "output_type": "execute_result"
    }
   ],
   "source": [
    "lyrics"
   ]
  },
  {
   "cell_type": "code",
   "execution_count": 9,
   "metadata": {},
   "outputs": [
    {
     "name": "stdout",
     "output_type": "stream",
     "text": [
      "Tumekuja ku-party, DJ hebu weka tracky\n",
      "Intro (Lenny)\n",
      "Okok Primary School, ewi got\n",
      "asubuhi naamka\n",
      "[Intro: Nameless]\n",
      "nan\n",
      "Ninanoki, ninanoki nikis’kia hii muziki…\n",
      "nan\n",
      "[Amani]\n",
      "nan\n",
      "Mimi na wewe (x3)\n",
      "nan\n",
      "Nameless na wewe\n",
      "nan\n",
      "Mimi na wewe (x3)\n",
      "nan\n",
      "Aiyaa ohh (x5)\n",
      "nan\n",
      "[Nameless]\n",
      "nan\n",
      "It’s a Friday night, everything’s alright\n",
      "nan\n",
      "Ee nyinyi mabeste, twende tukatike\n",
      "nan\n",
      "If you like to dance, well then here’s your chance\n",
      "nan\n",
      "Sisi wa Nairobi, tunapenda hepi\n",
      "nan\n",
      "[Amani]\n",
      "nan\n",
      "It is in your eye, Ohh you can’t deny\n",
      "nan\n",
      "[Nameless]\n",
      "nan\n",
      "Eii mmefurahi, wacha kujidai\n",
      "nan\n",
      "Hey you over there, hey you look familiar\n",
      "nan\n",
      "Si tukatike, mimi na wewe\n",
      "nan\n",
      "[Chorus] (x2)\n",
      "nan\n",
      "Aiyaaa ee yaa ee yaa ee (x2)\n",
      "nan\n",
      "Aiyaa oo (x2)\n",
      "nan\n",
      "[Nameless]\n",
      "nan\n",
      "Huyu chikidee, akona bidii\n",
      "nan\n",
      "Ana dance kuku, huku na huku\n",
      "nan\n",
      "Na huyu jamaa, huyu yu shujaa\n",
      "nan\n",
      "Anajua kukata, bila kuhata\n",
      "nan\n",
      "[Amani]\n",
      "nan\n",
      "It is in the air, it is everywhere\n",
      "nan\n",
      "[Nameless]\n",
      "nan\n",
      "That you feel like removing, your underwear\n",
      "nan\n",
      "Ogopa Dj, wacha kudelay\n",
      "nan\n",
      "Sisi tumefika, sasa tunawika\n",
      "nan\n",
      "[Chorus]\n",
      "nan\n",
      "[Nameless]\n",
      "nan\n",
      "Ohhh ameikoa (x3)\n",
      "nan\n",
      "Can we dance together?\n",
      "nan\n",
      "Manze umebeba, manze unaroga\n",
      "nan\n",
      "Umefanikiwa, Can we dance together?\n",
      "nan\n",
      "[Amani]\n",
      "nan\n",
      "Kai mütaraigua wega mükeina, mükeina (Ninanoki, ninanoki nikis’kia hii muziki)\n",
      "nan\n",
      "Mügeina kai mütaraigua wega, wega (Nikis’kia hii muziki wanasema ninanoki)\n",
      "nan\n",
      "[Nameless}\n",
      "nan\n",
      "Aii aii, oh no (x2)\n",
      "nan\n",
      "I’m losing control (x2)\n",
      "nan\n",
      "Aii aii, oh no (x2)\n",
      "nan\n",
      "Wacha kujifanya, mnahanyahanya\n",
      "nan\n",
      "[Chorus]\n",
      "nan\n",
      "[Outro] (x5)\n",
      "nan\n",
      "Ninanoki, ninanoki nikis’kia hii muziki\n",
      "nan\n",
      "Nikis’kia hii muziki wanasema ninanoki\n",
      "Ikiwa zimeshika sema my!\n",
      "(Vinnie Banton)\n",
      "Take a little ride back in a Monday\n",
      "Take a little ride back in a Tuesday\n",
      "Now why you a seh nothin\n",
      "Now why you a seh nothin\n",
      "Now why you a seh nothin\n",
      "Wan fi ye-ye-ye-yeah\n",
      "nan\n",
      "(Mr. Googs)\n",
      "OK I'm called Googz and I come from Inner Core\n",
      "A million darts when I flush MCs ndani ya choo\n",
      "Get it, get it, get it right yo I'm raw\n",
      "That's why the flat honeys wako busy on the floor\n",
      "nan\n",
      "(Lenny)\n",
      "When we...\n",
      "Should we say...\n",
      "Lemme see your hands up baby...\n",
      "Hii ni remix sawa\n",
      "Kwa mamanzi sawa\n",
      "When we...\n",
      "Should we say...\n",
      "Lemme see your hands up baby...\n",
      "Hii ni remix sawa\n",
      "Nana nana naye\n",
      "OK!\n",
      "Na wasee tumetoka Githurai\n",
      "Tumekam kukupa rhymes zingine dry-y\n",
      "Tuki-fry whack MCs ka mayai kwa kara-ai\n",
      "Ikiwa zimeshika sema my!\n",
      "Na wasee tumetoka Githurai\n",
      "Tumekam kukupa rhymes zingine dry-y\n",
      "Tuki-fry whack MCs ka mayai kwa kara-ai\n",
      "Ikiwa zimeshika sema my!\n"
     ]
    }
   ],
   "source": [
    "for x in lyrics:\n",
    "    print(x)"
   ]
  },
  {
   "cell_type": "code",
   "execution_count": null,
   "metadata": {},
   "outputs": [],
   "source": []
  }
 ],
 "metadata": {
  "kernelspec": {
   "display_name": "Python 3",
   "language": "python",
   "name": "python3"
  },
  "language_info": {
   "codemirror_mode": {
    "name": "ipython",
    "version": 3
   },
   "file_extension": ".py",
   "mimetype": "text/x-python",
   "name": "python",
   "nbconvert_exporter": "python",
   "pygments_lexer": "ipython3",
   "version": "3.6.9"
  }
 },
 "nbformat": 4,
 "nbformat_minor": 4
}
