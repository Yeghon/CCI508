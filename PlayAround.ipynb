{
 "cells": [
  {
   "cell_type": "code",
   "execution_count": 1,
   "metadata": {},
   "outputs": [],
   "source": [
    "import numpy as np\n",
    "import pandas as pd\n",
    "from scipy import stats\n",
    "import matplotlib.pyplot as plt\n",
    "%matplotlib inline"
   ]
  },
  {
   "cell_type": "code",
   "execution_count": 3,
   "metadata": {},
   "outputs": [
    {
     "data": {
      "text/html": [
       "<div>\n",
       "<style scoped>\n",
       "    .dataframe tbody tr th:only-of-type {\n",
       "        vertical-align: middle;\n",
       "    }\n",
       "\n",
       "    .dataframe tbody tr th {\n",
       "        vertical-align: top;\n",
       "    }\n",
       "\n",
       "    .dataframe thead th {\n",
       "        text-align: right;\n",
       "    }\n",
       "</style>\n",
       "<table border=\"1\" class=\"dataframe\">\n",
       "  <thead>\n",
       "    <tr style=\"text-align: right;\">\n",
       "      <th></th>\n",
       "      <th>Name of School</th>\n",
       "      <th>Level of Education</th>\n",
       "      <th>Status of School</th>\n",
       "      <th>Sponsor of School</th>\n",
       "      <th>School Institution Type_1</th>\n",
       "      <th>School Institution Type_2</th>\n",
       "      <th>School Institution Type_3</th>\n",
       "      <th>Pupil Teacher Ratio</th>\n",
       "      <th>Pupil Classroom Ratio</th>\n",
       "      <th>Pupil Toilet Ratio</th>\n",
       "      <th>...</th>\n",
       "      <th>Non-Teaching Staff Female</th>\n",
       "      <th>Province</th>\n",
       "      <th>District</th>\n",
       "      <th>Division</th>\n",
       "      <th>Location</th>\n",
       "      <th>Costituency</th>\n",
       "      <th>Geolocation</th>\n",
       "      <th>Latitude</th>\n",
       "      <th>Longitude</th>\n",
       "      <th>County</th>\n",
       "    </tr>\n",
       "  </thead>\n",
       "  <tbody>\n",
       "    <tr>\n",
       "      <th>0</th>\n",
       "      <td>VOO SPECIAL UNIT</td>\n",
       "      <td>PRIMARY SCHOOL</td>\n",
       "      <td>PUBLIC</td>\n",
       "      <td>CENTRAL GOVERNMENT/DEB</td>\n",
       "      <td>MIXED</td>\n",
       "      <td>DAY &amp; BOARDING</td>\n",
       "      <td>SPECIAL SCHOOL</td>\n",
       "      <td>19.0</td>\n",
       "      <td>19.0</td>\n",
       "      <td>6.3</td>\n",
       "      <td>...</td>\n",
       "      <td>0</td>\n",
       "      <td>EASTERN</td>\n",
       "      <td>KITUI</td>\n",
       "      <td>MUTHA</td>\n",
       "      <td>VOO</td>\n",
       "      <td>MUTITO</td>\n",
       "      <td>(-1.66668, 38.32132)</td>\n",
       "      <td>-1.666680</td>\n",
       "      <td>38.321320</td>\n",
       "      <td>KITUI</td>\n",
       "    </tr>\n",
       "    <tr>\n",
       "      <th>1</th>\n",
       "      <td>MASAANTARE PRI</td>\n",
       "      <td>PRIMARY SCHOOL</td>\n",
       "      <td>PUBLIC</td>\n",
       "      <td>RELIGIOUS ORGANIZATION</td>\n",
       "      <td>MIXED</td>\n",
       "      <td>DAY ONLY</td>\n",
       "      <td>ORDINARY</td>\n",
       "      <td>44.3</td>\n",
       "      <td>53.2</td>\n",
       "      <td>88.7</td>\n",
       "      <td>...</td>\n",
       "      <td>1</td>\n",
       "      <td>RIFT VALLEY</td>\n",
       "      <td>NAROK</td>\n",
       "      <td>OLOLUNGA</td>\n",
       "      <td>NAROK SOUTH</td>\n",
       "      <td>OLOLUNGA</td>\n",
       "      <td>(-1.012145, 35.648155)</td>\n",
       "      <td>-1.012145</td>\n",
       "      <td>35.648155</td>\n",
       "      <td>NAROK</td>\n",
       "    </tr>\n",
       "    <tr>\n",
       "      <th>2</th>\n",
       "      <td>NGOCHONI PRY SCH</td>\n",
       "      <td>PRIMARY SCHOOL</td>\n",
       "      <td>PUBLIC</td>\n",
       "      <td>CENTRAL GOVERNMET/DEB</td>\n",
       "      <td>MIXED</td>\n",
       "      <td>DAY ONLY</td>\n",
       "      <td>ORDINARY</td>\n",
       "      <td>37.6</td>\n",
       "      <td>32.9</td>\n",
       "      <td>131.5</td>\n",
       "      <td>...</td>\n",
       "      <td>0</td>\n",
       "      <td>NYANZA</td>\n",
       "      <td>KURIA</td>\n",
       "      <td>MABERA</td>\n",
       "      <td>BUGUMBE WEST</td>\n",
       "      <td>KURIA</td>\n",
       "      <td>(-1.159798, 34.394076)</td>\n",
       "      <td>-1.159798</td>\n",
       "      <td>34.394076</td>\n",
       "      <td>MIGORI</td>\n",
       "    </tr>\n",
       "    <tr>\n",
       "      <th>3</th>\n",
       "      <td>NEEMA JUNIOR ACADEMY</td>\n",
       "      <td>PRIMARY SCHOOL</td>\n",
       "      <td>PRIVATE</td>\n",
       "      <td>PRIVATE INDIVIDUAL</td>\n",
       "      <td>MIXED</td>\n",
       "      <td>DAY ONLY</td>\n",
       "      <td>ORDINARY</td>\n",
       "      <td>18.9</td>\n",
       "      <td>22.0</td>\n",
       "      <td>44.0</td>\n",
       "      <td>...</td>\n",
       "      <td>1</td>\n",
       "      <td>CENTRAL</td>\n",
       "      <td>THIKA</td>\n",
       "      <td>KAMWANGI</td>\n",
       "      <td>MANGU</td>\n",
       "      <td>GATUNDU NORTH</td>\n",
       "      <td>(-0.99747, 36.93082)</td>\n",
       "      <td>-0.997470</td>\n",
       "      <td>36.930820</td>\n",
       "      <td>KIAMBU</td>\n",
       "    </tr>\n",
       "    <tr>\n",
       "      <th>4</th>\n",
       "      <td>LWANDA PRI SCH</td>\n",
       "      <td>PRIMARY SCHOOL</td>\n",
       "      <td>PUBLIC</td>\n",
       "      <td>CENTRAL GOVERNMENT/DEB</td>\n",
       "      <td>MIXED</td>\n",
       "      <td>DAY ONLY</td>\n",
       "      <td>ORDINARY</td>\n",
       "      <td>42.0</td>\n",
       "      <td>52.5</td>\n",
       "      <td>0.0</td>\n",
       "      <td>...</td>\n",
       "      <td>0</td>\n",
       "      <td>NYANZA</td>\n",
       "      <td>RACHUONYO</td>\n",
       "      <td>KABONDO</td>\n",
       "      <td>KAWOUR</td>\n",
       "      <td>KASIPUL KABONDO</td>\n",
       "      <td>(-0.42783, 34.92995)</td>\n",
       "      <td>-0.427830</td>\n",
       "      <td>34.929950</td>\n",
       "      <td>HOMA BAY</td>\n",
       "    </tr>\n",
       "  </tbody>\n",
       "</table>\n",
       "<p>5 rows × 37 columns</p>\n",
       "</div>"
      ],
      "text/plain": [
       "         Name of School Level of Education Status of School  \\\n",
       "0      VOO SPECIAL UNIT     PRIMARY SCHOOL           PUBLIC   \n",
       "1        MASAANTARE PRI     PRIMARY SCHOOL           PUBLIC   \n",
       "2      NGOCHONI PRY SCH     PRIMARY SCHOOL           PUBLIC   \n",
       "3  NEEMA JUNIOR ACADEMY     PRIMARY SCHOOL          PRIVATE   \n",
       "4        LWANDA PRI SCH     PRIMARY SCHOOL           PUBLIC   \n",
       "\n",
       "        Sponsor of School School Institution Type_1 School Institution Type_2  \\\n",
       "0  CENTRAL GOVERNMENT/DEB                     MIXED            DAY & BOARDING   \n",
       "1  RELIGIOUS ORGANIZATION                     MIXED                  DAY ONLY   \n",
       "2   CENTRAL GOVERNMET/DEB                     MIXED                  DAY ONLY   \n",
       "3      PRIVATE INDIVIDUAL                     MIXED                  DAY ONLY   \n",
       "4  CENTRAL GOVERNMENT/DEB                     MIXED                  DAY ONLY   \n",
       "\n",
       "  School Institution Type_3  Pupil Teacher Ratio  Pupil Classroom Ratio  \\\n",
       "0            SPECIAL SCHOOL                 19.0                   19.0   \n",
       "1                  ORDINARY                 44.3                   53.2   \n",
       "2                  ORDINARY                 37.6                   32.9   \n",
       "3                  ORDINARY                 18.9                   22.0   \n",
       "4                  ORDINARY                 42.0                   52.5   \n",
       "\n",
       "   Pupil Toilet Ratio  ...  Non-Teaching Staff Female     Province   District  \\\n",
       "0                 6.3  ...                          0      EASTERN      KITUI   \n",
       "1                88.7  ...                          1  RIFT VALLEY      NAROK   \n",
       "2               131.5  ...                          0       NYANZA      KURIA   \n",
       "3                44.0  ...                          1      CENTRAL      THIKA   \n",
       "4                 0.0  ...                          0       NYANZA  RACHUONYO   \n",
       "\n",
       "   Division      Location      Costituency             Geolocation  Latitude  \\\n",
       "0     MUTHA           VOO           MUTITO    (-1.66668, 38.32132) -1.666680   \n",
       "1  OLOLUNGA   NAROK SOUTH         OLOLUNGA  (-1.012145, 35.648155) -1.012145   \n",
       "2    MABERA  BUGUMBE WEST            KURIA  (-1.159798, 34.394076) -1.159798   \n",
       "3  KAMWANGI         MANGU    GATUNDU NORTH    (-0.99747, 36.93082) -0.997470   \n",
       "4   KABONDO        KAWOUR  KASIPUL KABONDO    (-0.42783, 34.92995) -0.427830   \n",
       "\n",
       "   Longitude    County  \n",
       "0  38.321320     KITUI  \n",
       "1  35.648155     NAROK  \n",
       "2  34.394076    MIGORI  \n",
       "3  36.930820    KIAMBU  \n",
       "4  34.929950  HOMA BAY  \n",
       "\n",
       "[5 rows x 37 columns]"
      ]
     },
     "execution_count": 3,
     "metadata": {},
     "output_type": "execute_result"
    }
   ],
   "source": [
    "df = pd.read_csv(\"Kenya_Schools.csv\")\n",
    "df.head()"
   ]
  },
  {
   "cell_type": "code",
   "execution_count": 6,
   "metadata": {},
   "outputs": [],
   "source": [
    "#subset the dataframe to filter by column\n",
    "ll = df.loc[df['County'] == 'NAIROBI']"
   ]
  },
  {
   "cell_type": "code",
   "execution_count": 9,
   "metadata": {},
   "outputs": [],
   "source": [
    "# Fetch specific column values from the subset\n",
    "X = ll['Total Number of Classrooms']\n",
    "Y = ll['Total Enrolment']"
   ]
  },
  {
   "cell_type": "code",
   "execution_count": 10,
   "metadata": {},
   "outputs": [],
   "source": [
    "#training data, 80%\n",
    "xTrain = X[:1024]\n",
    "yTrain = Y[:1024]\n",
    "xTest = X[1024:]\n",
    "yTest = Y[1024:]"
   ]
  },
  {
   "cell_type": "code",
   "execution_count": 13,
   "metadata": {},
   "outputs": [
    {
     "data": {
      "text/plain": [
       "<matplotlib.collections.PathCollection at 0x7f718db35b00>"
      ]
     },
     "execution_count": 13,
     "metadata": {},
     "output_type": "execute_result"
    },
    {
     "data": {
      "image/png": "[encoded data removed]",
      "text/plain": [
       "<Figure size 720x288 with 1 Axes>"
      ]
     },
     "metadata": {
      "needs_background": "light"
     },
     "output_type": "display_data"
    }
   ],
   "source": [
    "#Plot training data\n",
    "plt.figure(figsize=(10, 4))\n",
    "plt.scatter(xTrain, yTrain, color='green')\n",
    "plt.scatter(xTest, yTest, color='yellow')"
   ]
  },
  {
   "cell_type": "code",
   "execution_count": 18,
   "metadata": {},
   "outputs": [],
   "source": [
    "'''determine the r value for the entire dataset,\n",
    "the training dataset \n",
    "and the testing dataset'''\n",
    "def getRValue(x, y):\n",
    "    cc = stats.linregress(x, y)\n",
    "    return cc.slope * x + t.intercept"
   ]
  },
  {
   "cell_type": "code",
   "execution_count": 19,
   "metadata": {},
   "outputs": [
    {
     "ename": "NameError",
     "evalue": "name 'r' is not defined",
     "output_type": "error",
     "traceback": [
      "\u001b[0;31m---------------------------------------------------------------------------\u001b[0m",
      "\u001b[0;31mNameError\u001b[0m                                 Traceback (most recent call last)",
      "\u001b[0;32m<ipython-input-19-30027a21c31d>\u001b[0m in \u001b[0;36m<module>\u001b[0;34m\u001b[0m\n\u001b[1;32m      1\u001b[0m \u001b[0;31m# Entire dataset\u001b[0m\u001b[0;34m\u001b[0m\u001b[0;34m\u001b[0m\u001b[0;34m\u001b[0m\u001b[0m\n\u001b[0;32m----> 2\u001b[0;31m \u001b[0mrEntire\u001b[0m \u001b[0;34m=\u001b[0m \u001b[0mgetRValue\u001b[0m\u001b[0;34m(\u001b[0m\u001b[0mX\u001b[0m\u001b[0;34m,\u001b[0m \u001b[0mY\u001b[0m\u001b[0;34m)\u001b[0m\u001b[0;34m\u001b[0m\u001b[0;34m\u001b[0m\u001b[0m\n\u001b[0m\u001b[1;32m      3\u001b[0m \u001b[0mrEntire\u001b[0m\u001b[0;34m\u001b[0m\u001b[0;34m\u001b[0m\u001b[0m\n",
      "\u001b[0;32m<ipython-input-18-1aa156282fc9>\u001b[0m in \u001b[0;36mgetRValue\u001b[0;34m(x, y)\u001b[0m\n\u001b[1;32m      4\u001b[0m \u001b[0;32mdef\u001b[0m \u001b[0mgetRValue\u001b[0m\u001b[0;34m(\u001b[0m\u001b[0mx\u001b[0m\u001b[0;34m,\u001b[0m \u001b[0my\u001b[0m\u001b[0;34m)\u001b[0m\u001b[0;34m:\u001b[0m\u001b[0;34m\u001b[0m\u001b[0;34m\u001b[0m\u001b[0m\n\u001b[1;32m      5\u001b[0m     \u001b[0mcc\u001b[0m \u001b[0;34m=\u001b[0m \u001b[0mstats\u001b[0m\u001b[0;34m.\u001b[0m\u001b[0mlinregress\u001b[0m\u001b[0;34m(\u001b[0m\u001b[0mx\u001b[0m\u001b[0;34m,\u001b[0m \u001b[0my\u001b[0m\u001b[0;34m)\u001b[0m\u001b[0;34m\u001b[0m\u001b[0;34m\u001b[0m\u001b[0m\n\u001b[0;32m----> 6\u001b[0;31m     \u001b[0;32mreturn\u001b[0m \u001b[0mr\u001b[0m\u001b[0;34m.\u001b[0m\u001b[0mslope\u001b[0m \u001b[0;34m*\u001b[0m \u001b[0mx\u001b[0m \u001b[0;34m+\u001b[0m \u001b[0mt\u001b[0m\u001b[0;34m.\u001b[0m\u001b[0mintercept\u001b[0m\u001b[0;34m\u001b[0m\u001b[0;34m\u001b[0m\u001b[0m\n\u001b[0m",
      "\u001b[0;31mNameError\u001b[0m: name 'r' is not defined"
     ]
    }
   ],
   "source": [
    "# Entire dataset \n",
    "rEntire = getRValue(X, Y)\n",
    "rEntire"
   ]
  },
  {
   "cell_type": "code",
   "execution_count": 47,
   "metadata": {},
   "outputs": [
    {
     "data": {
      "text/plain": [
       "LinregressResult(slope=38.40812053887466, intercept=-77.48156782477179, rvalue=0.8174345270161376, pvalue=4.495802164496318e-247, stderr=0.8466098966122552)"
      ]
     },
     "execution_count": 47,
     "metadata": {},
     "output_type": "execute_result"
    }
   ],
   "source": [
    "# Training data set\n",
    "r2 = stats.linregress(xTrain, yTrain)\n",
    "r2"
   ]
  },
  {
   "cell_type": "code",
   "execution_count": 48,
   "metadata": {},
   "outputs": [
    {
     "data": {
      "text/plain": [
       "LinregressResult(slope=42.678430747852175, intercept=-108.13470617035256, rvalue=0.8225887132553475, pvalue=3.244786816148333e-64, stderr=1.8511593244638929)"
      ]
     },
     "execution_count": 48,
     "metadata": {},
     "output_type": "execute_result"
    }
   ],
   "source": [
    "# Testing data set\n",
    "r3 = stats.linregress(xTest, yTest)\n",
    "r3"
   ]
  },
  {
   "cell_type": "code",
   "execution_count": 50,
   "metadata": {},
   "outputs": [],
   "source": [
    "#using the training dataset\n",
    "def myfunc(x):\n",
    "    return r2.slope * x + r2.intercept"
   ]
  },
  {
   "cell_type": "code",
   "execution_count": 51,
   "metadata": {},
   "outputs": [],
   "source": [
    "# using testing dataset\n",
    "def myfunc1(x):\n",
    "    return r3.slope * x + r3.intercept"
   ]
  },
  {
   "cell_type": "code",
   "execution_count": 52,
   "metadata": {},
   "outputs": [],
   "source": [
    "# using entire dataset\n",
    "def myfunc2(x):\n",
    "    return r.slope * x + r.intercept"
   ]
  },
  {
   "cell_type": "code",
   "execution_count": 55,
   "metadata": {},
   "outputs": [
    {
     "data": {
      "text/plain": [
       "[<matplotlib.lines.Line2D at 0x7f902eae8278>]"
      ]
     },
     "execution_count": 55,
     "metadata": {},
     "output_type": "execute_result"
    },
    {
     "data": {
      "image/png": "[encoded data removed]",
      "text/plain": [
       "<Figure size 720x288 with 1 Axes>"
      ]
     },
     "metadata": {
      "needs_background": "light"
     },
     "output_type": "display_data"
    }
   ],
   "source": [
    " #Fit entire dataset\n",
    "plt.figure(figsize=(10, 4))\n",
    "plt.scatter(X, Y)\n",
    "newModel = list(map(myfunc2, X))\n",
    "plt.plot(X, newModel)"
   ]
  },
  {
   "cell_type": "code",
   "execution_count": 56,
   "metadata": {},
   "outputs": [
    {
     "data": {
      "text/plain": [
       "[<matplotlib.lines.Line2D at 0x7f902f10d0b8>]"
      ]
     },
     "execution_count": 56,
     "metadata": {},
     "output_type": "execute_result"
    },
    {
     "data": {
      "image/png": "[encoded data removed]",
      "text/plain": [
       "<Figure size 720x288 with 1 Axes>"
      ]
     },
     "metadata": {
      "needs_background": "light"
     },
     "output_type": "display_data"
    }
   ],
   "source": [
    " #Fit training dataset\n",
    "plt.figure(figsize=(10, 4))\n",
    "plt.scatter(xTrain, yTrain)\n",
    "newModel = list(map(myfunc, xTrain))\n",
    "plt.plot(xTrain, newModel)"
   ]
  },
  {
   "cell_type": "code",
   "execution_count": 57,
   "metadata": {},
   "outputs": [
    {
     "data": {
      "text/plain": [
       "[<matplotlib.lines.Line2D at 0x7f902ecf8eb8>]"
      ]
     },
     "execution_count": 57,
     "metadata": {},
     "output_type": "execute_result"
    },
    {
     "data": {
      "image/png": "[encoded data removed]",
      "text/plain": [
       "<Figure size 720x288 with 1 Axes>"
      ]
     },
     "metadata": {
      "needs_background": "light"
     },
     "output_type": "display_data"
    }
   ],
   "source": [
    " #Fit testing dataset\n",
    "plt.figure(figsize=(10, 4))\n",
    "plt.scatter(xTest, yTest)\n",
    "newModel = list(map(myfunc1, xTest))\n",
    "plt.plot(xTest, newModel)"
   ]
  },
  {
   "cell_type": "code",
   "execution_count": null,
   "metadata": {},
   "outputs": [],
   "source": []
  }
 ],
 "metadata": {
  "kernelspec": {
   "display_name": "Python 3",
   "language": "python",
   "name": "python3"
  },
  "language_info": {
   "codemirror_mode": {
    "name": "ipython",
    "version": 3
   },
   "file_extension": ".py",
   "mimetype": "text/x-python",
   "name": "python",
   "nbconvert_exporter": "python",
   "pygments_lexer": "ipython3",
   "version": "3.6.9"
  }
 },
 "nbformat": 4,
 "nbformat_minor": 4
}
