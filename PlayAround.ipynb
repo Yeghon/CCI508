{
 "cells": [
  {
   "cell_type": "code",
   "execution_count": 33,
   "metadata": {},
   "outputs": [],
   "source": [
    "import numpy as np\n",
    "import pandas as pd"
   ]
  },
  {
   "cell_type": "code",
   "execution_count": 34,
   "metadata": {},
   "outputs": [
    {
     "data": {
      "text/html": [
       "<div>\n",
       "<style scoped>\n",
       "    .dataframe tbody tr th:only-of-type {\n",
       "        vertical-align: middle;\n",
       "    }\n",
       "\n",
       "    .dataframe tbody tr th {\n",
       "        vertical-align: top;\n",
       "    }\n",
       "\n",
       "    .dataframe thead th {\n",
       "        text-align: right;\n",
       "    }\n",
       "</style>\n",
       "<table border=\"1\" class=\"dataframe\">\n",
       "  <thead>\n",
       "    <tr style=\"text-align: right;\">\n",
       "      <th></th>\n",
       "      <th>Name of School</th>\n",
       "      <th>Level of Education</th>\n",
       "      <th>Status of School</th>\n",
       "      <th>Sponsor of School</th>\n",
       "      <th>School Institution Type_1</th>\n",
       "      <th>School Institution Type_2</th>\n",
       "      <th>School Institution Type_3</th>\n",
       "      <th>Pupil Teacher Ratio</th>\n",
       "      <th>Pupil Classroom Ratio</th>\n",
       "      <th>Pupil Toilet Ratio</th>\n",
       "      <th>...</th>\n",
       "      <th>Non-Teaching Staff Female</th>\n",
       "      <th>Province</th>\n",
       "      <th>District</th>\n",
       "      <th>Division</th>\n",
       "      <th>Location</th>\n",
       "      <th>Costituency</th>\n",
       "      <th>Geolocation</th>\n",
       "      <th>Latitude</th>\n",
       "      <th>Longitude</th>\n",
       "      <th>County</th>\n",
       "    </tr>\n",
       "  </thead>\n",
       "  <tbody>\n",
       "    <tr>\n",
       "      <th>0</th>\n",
       "      <td>VOO SPECIAL UNIT</td>\n",
       "      <td>PRIMARY SCHOOL</td>\n",
       "      <td>PUBLIC</td>\n",
       "      <td>CENTRAL GOVERNMENT/DEB</td>\n",
       "      <td>MIXED</td>\n",
       "      <td>DAY &amp; BOARDING</td>\n",
       "      <td>SPECIAL SCHOOL</td>\n",
       "      <td>19.0</td>\n",
       "      <td>19.0</td>\n",
       "      <td>6.3</td>\n",
       "      <td>...</td>\n",
       "      <td>0</td>\n",
       "      <td>EASTERN</td>\n",
       "      <td>KITUI</td>\n",
       "      <td>MUTHA</td>\n",
       "      <td>VOO</td>\n",
       "      <td>MUTITO</td>\n",
       "      <td>(-1.66668, 38.32132)</td>\n",
       "      <td>-1.666680</td>\n",
       "      <td>38.321320</td>\n",
       "      <td>KITUI</td>\n",
       "    </tr>\n",
       "    <tr>\n",
       "      <th>1</th>\n",
       "      <td>MASAANTARE PRI</td>\n",
       "      <td>PRIMARY SCHOOL</td>\n",
       "      <td>PUBLIC</td>\n",
       "      <td>RELIGIOUS ORGANIZATION</td>\n",
       "      <td>MIXED</td>\n",
       "      <td>DAY ONLY</td>\n",
       "      <td>ORDINARY</td>\n",
       "      <td>44.3</td>\n",
       "      <td>53.2</td>\n",
       "      <td>88.7</td>\n",
       "      <td>...</td>\n",
       "      <td>1</td>\n",
       "      <td>RIFT VALLEY</td>\n",
       "      <td>NAROK</td>\n",
       "      <td>OLOLUNGA</td>\n",
       "      <td>NAROK SOUTH</td>\n",
       "      <td>OLOLUNGA</td>\n",
       "      <td>(-1.012145, 35.648155)</td>\n",
       "      <td>-1.012145</td>\n",
       "      <td>35.648155</td>\n",
       "      <td>NAROK</td>\n",
       "    </tr>\n",
       "    <tr>\n",
       "      <th>2</th>\n",
       "      <td>NGOCHONI PRY SCH</td>\n",
       "      <td>PRIMARY SCHOOL</td>\n",
       "      <td>PUBLIC</td>\n",
       "      <td>CENTRAL GOVERNMET/DEB</td>\n",
       "      <td>MIXED</td>\n",
       "      <td>DAY ONLY</td>\n",
       "      <td>ORDINARY</td>\n",
       "      <td>37.6</td>\n",
       "      <td>32.9</td>\n",
       "      <td>131.5</td>\n",
       "      <td>...</td>\n",
       "      <td>0</td>\n",
       "      <td>NYANZA</td>\n",
       "      <td>KURIA</td>\n",
       "      <td>MABERA</td>\n",
       "      <td>BUGUMBE WEST</td>\n",
       "      <td>KURIA</td>\n",
       "      <td>(-1.159798, 34.394076)</td>\n",
       "      <td>-1.159798</td>\n",
       "      <td>34.394076</td>\n",
       "      <td>MIGORI</td>\n",
       "    </tr>\n",
       "    <tr>\n",
       "      <th>3</th>\n",
       "      <td>NEEMA JUNIOR ACADEMY</td>\n",
       "      <td>PRIMARY SCHOOL</td>\n",
       "      <td>PRIVATE</td>\n",
       "      <td>PRIVATE INDIVIDUAL</td>\n",
       "      <td>MIXED</td>\n",
       "      <td>DAY ONLY</td>\n",
       "      <td>ORDINARY</td>\n",
       "      <td>18.9</td>\n",
       "      <td>22.0</td>\n",
       "      <td>44.0</td>\n",
       "      <td>...</td>\n",
       "      <td>1</td>\n",
       "      <td>CENTRAL</td>\n",
       "      <td>THIKA</td>\n",
       "      <td>KAMWANGI</td>\n",
       "      <td>MANGU</td>\n",
       "      <td>GATUNDU NORTH</td>\n",
       "      <td>(-0.99747, 36.93082)</td>\n",
       "      <td>-0.997470</td>\n",
       "      <td>36.930820</td>\n",
       "      <td>KIAMBU</td>\n",
       "    </tr>\n",
       "    <tr>\n",
       "      <th>4</th>\n",
       "      <td>LWANDA PRI SCH</td>\n",
       "      <td>PRIMARY SCHOOL</td>\n",
       "      <td>PUBLIC</td>\n",
       "      <td>CENTRAL GOVERNMENT/DEB</td>\n",
       "      <td>MIXED</td>\n",
       "      <td>DAY ONLY</td>\n",
       "      <td>ORDINARY</td>\n",
       "      <td>42.0</td>\n",
       "      <td>52.5</td>\n",
       "      <td>0.0</td>\n",
       "      <td>...</td>\n",
       "      <td>0</td>\n",
       "      <td>NYANZA</td>\n",
       "      <td>RACHUONYO</td>\n",
       "      <td>KABONDO</td>\n",
       "      <td>KAWOUR</td>\n",
       "      <td>KASIPUL KABONDO</td>\n",
       "      <td>(-0.42783, 34.92995)</td>\n",
       "      <td>-0.427830</td>\n",
       "      <td>34.929950</td>\n",
       "      <td>HOMA BAY</td>\n",
       "    </tr>\n",
       "  </tbody>\n",
       "</table>\n",
       "<p>5 rows × 37 columns</p>\n",
       "</div>"
      ],
      "text/plain": [
       "         Name of School Level of Education Status of School  \\\n",
       "0      VOO SPECIAL UNIT     PRIMARY SCHOOL           PUBLIC   \n",
       "1        MASAANTARE PRI     PRIMARY SCHOOL           PUBLIC   \n",
       "2      NGOCHONI PRY SCH     PRIMARY SCHOOL           PUBLIC   \n",
       "3  NEEMA JUNIOR ACADEMY     PRIMARY SCHOOL          PRIVATE   \n",
       "4        LWANDA PRI SCH     PRIMARY SCHOOL           PUBLIC   \n",
       "\n",
       "        Sponsor of School School Institution Type_1 School Institution Type_2  \\\n",
       "0  CENTRAL GOVERNMENT/DEB                     MIXED            DAY & BOARDING   \n",
       "1  RELIGIOUS ORGANIZATION                     MIXED                  DAY ONLY   \n",
       "2   CENTRAL GOVERNMET/DEB                     MIXED                  DAY ONLY   \n",
       "3      PRIVATE INDIVIDUAL                     MIXED                  DAY ONLY   \n",
       "4  CENTRAL GOVERNMENT/DEB                     MIXED                  DAY ONLY   \n",
       "\n",
       "  School Institution Type_3  Pupil Teacher Ratio  Pupil Classroom Ratio  \\\n",
       "0            SPECIAL SCHOOL                 19.0                   19.0   \n",
       "1                  ORDINARY                 44.3                   53.2   \n",
       "2                  ORDINARY                 37.6                   32.9   \n",
       "3                  ORDINARY                 18.9                   22.0   \n",
       "4                  ORDINARY                 42.0                   52.5   \n",
       "\n",
       "   Pupil Toilet Ratio  ...  Non-Teaching Staff Female     Province   District  \\\n",
       "0                 6.3  ...                          0      EASTERN      KITUI   \n",
       "1                88.7  ...                          1  RIFT VALLEY      NAROK   \n",
       "2               131.5  ...                          0       NYANZA      KURIA   \n",
       "3                44.0  ...                          1      CENTRAL      THIKA   \n",
       "4                 0.0  ...                          0       NYANZA  RACHUONYO   \n",
       "\n",
       "   Division      Location      Costituency             Geolocation  Latitude  \\\n",
       "0     MUTHA           VOO           MUTITO    (-1.66668, 38.32132) -1.666680   \n",
       "1  OLOLUNGA   NAROK SOUTH         OLOLUNGA  (-1.012145, 35.648155) -1.012145   \n",
       "2    MABERA  BUGUMBE WEST            KURIA  (-1.159798, 34.394076) -1.159798   \n",
       "3  KAMWANGI         MANGU    GATUNDU NORTH    (-0.99747, 36.93082) -0.997470   \n",
       "4   KABONDO        KAWOUR  KASIPUL KABONDO    (-0.42783, 34.92995) -0.427830   \n",
       "\n",
       "   Longitude    County  \n",
       "0  38.321320     KITUI  \n",
       "1  35.648155     NAROK  \n",
       "2  34.394076    MIGORI  \n",
       "3  36.930820    KIAMBU  \n",
       "4  34.929950  HOMA BAY  \n",
       "\n",
       "[5 rows x 37 columns]"
      ]
     },
     "execution_count": 34,
     "metadata": {},
     "output_type": "execute_result"
    }
   ],
   "source": [
    "df = pd.read_csv(\"Kenya_Schools.csv\")\n",
    "df.head()"
   ]
  },
  {
   "cell_type": "code",
   "execution_count": 35,
   "metadata": {},
   "outputs": [
    {
     "data": {
      "text/html": [
       "<div>\n",
       "<style scoped>\n",
       "    .dataframe tbody tr th:only-of-type {\n",
       "        vertical-align: middle;\n",
       "    }\n",
       "\n",
       "    .dataframe tbody tr th {\n",
       "        vertical-align: top;\n",
       "    }\n",
       "\n",
       "    .dataframe thead th {\n",
       "        text-align: right;\n",
       "    }\n",
       "</style>\n",
       "<table border=\"1\" class=\"dataframe\">\n",
       "  <thead>\n",
       "    <tr style=\"text-align: right;\">\n",
       "      <th></th>\n",
       "      <th>Name of School</th>\n",
       "      <th>Level of Education</th>\n",
       "      <th>Status of School</th>\n",
       "      <th>Sponsor of School</th>\n",
       "      <th>School Institution Type_1</th>\n",
       "      <th>School Institution Type_2</th>\n",
       "      <th>School Institution Type_3</th>\n",
       "      <th>Pupil Teacher Ratio</th>\n",
       "      <th>Pupil Classroom Ratio</th>\n",
       "      <th>Pupil Toilet Ratio</th>\n",
       "      <th>...</th>\n",
       "      <th>Non-Teaching Staff Female</th>\n",
       "      <th>Province</th>\n",
       "      <th>District</th>\n",
       "      <th>Division</th>\n",
       "      <th>Location</th>\n",
       "      <th>Costituency</th>\n",
       "      <th>Geolocation</th>\n",
       "      <th>Latitude</th>\n",
       "      <th>Longitude</th>\n",
       "      <th>County</th>\n",
       "    </tr>\n",
       "  </thead>\n",
       "  <tbody>\n",
       "    <tr>\n",
       "      <th>21</th>\n",
       "      <td>RABAI ROAD PRI SCH</td>\n",
       "      <td>PRIMARY SCHOOL</td>\n",
       "      <td>PUBLIC</td>\n",
       "      <td>CENTRAL GOVERNMENT/DEB</td>\n",
       "      <td>MIXED</td>\n",
       "      <td>DAY ONLY</td>\n",
       "      <td>ORDINARY</td>\n",
       "      <td>35.4</td>\n",
       "      <td>46.4</td>\n",
       "      <td>41.3</td>\n",
       "      <td>...</td>\n",
       "      <td>3</td>\n",
       "      <td>NAIROBI</td>\n",
       "      <td>NAIROBI</td>\n",
       "      <td>MAKADARA</td>\n",
       "      <td>MAKADARA</td>\n",
       "      <td>MAKADARA</td>\n",
       "      <td>(-1.286176, 36.872801)</td>\n",
       "      <td>-1.286176</td>\n",
       "      <td>36.872801</td>\n",
       "      <td>NAIROBI</td>\n",
       "    </tr>\n",
       "    <tr>\n",
       "      <th>24</th>\n",
       "      <td>JOVIAL ACADEMY PRI</td>\n",
       "      <td>PRIMARY SCHOOL</td>\n",
       "      <td>PRIVATE</td>\n",
       "      <td>PRIVATE INDIVIDUAL</td>\n",
       "      <td>MIXED</td>\n",
       "      <td>DAY ONLY</td>\n",
       "      <td>ORDINARY</td>\n",
       "      <td>0.0</td>\n",
       "      <td>0.0</td>\n",
       "      <td>0.0</td>\n",
       "      <td>...</td>\n",
       "      <td>0</td>\n",
       "      <td>NAIROBI</td>\n",
       "      <td>NAIROBI</td>\n",
       "      <td>EMBAKASI</td>\n",
       "      <td>UMOJA</td>\n",
       "      <td>EMBAKASI</td>\n",
       "      <td>(-1.28058, 36.90975)</td>\n",
       "      <td>-1.280580</td>\n",
       "      <td>36.909750</td>\n",
       "      <td>NAIROBI</td>\n",
       "    </tr>\n",
       "    <tr>\n",
       "      <th>32</th>\n",
       "      <td>SALAMA PRI SCH</td>\n",
       "      <td>PRIMARY SCHOOL</td>\n",
       "      <td>PUBLIC</td>\n",
       "      <td>LOCAL GOVERNMENT AUTHORITY</td>\n",
       "      <td>MIXED</td>\n",
       "      <td>DAY ONLY</td>\n",
       "      <td>ORDINARY</td>\n",
       "      <td>48.7</td>\n",
       "      <td>66.9</td>\n",
       "      <td>76.5</td>\n",
       "      <td>...</td>\n",
       "      <td>7</td>\n",
       "      <td>NAIROBI</td>\n",
       "      <td>NAIROBI</td>\n",
       "      <td>STAREHE</td>\n",
       "      <td>HURUMA</td>\n",
       "      <td>STAREHE</td>\n",
       "      <td>(-1.257462, 36.870696)</td>\n",
       "      <td>-1.257462</td>\n",
       "      <td>36.870696</td>\n",
       "      <td>NAIROBI</td>\n",
       "    </tr>\n",
       "    <tr>\n",
       "      <th>40</th>\n",
       "      <td>SHARPENER CHILDRENS CENTRE - PRI</td>\n",
       "      <td>PRIMARY SCHOOL</td>\n",
       "      <td>PRIVATE</td>\n",
       "      <td>PRIVATE INDIVIDUAL</td>\n",
       "      <td>MIXED</td>\n",
       "      <td>DAY ONLY</td>\n",
       "      <td>ORDINARY</td>\n",
       "      <td>11.0</td>\n",
       "      <td>11.0</td>\n",
       "      <td>5.5</td>\n",
       "      <td>...</td>\n",
       "      <td>0</td>\n",
       "      <td>NAIROBI</td>\n",
       "      <td>NAIROBI</td>\n",
       "      <td>KASARANI</td>\n",
       "      <td>RUARAKA</td>\n",
       "      <td>KASARANI</td>\n",
       "      <td>(-1.248647, 36.874616)</td>\n",
       "      <td>-1.248647</td>\n",
       "      <td>36.874616</td>\n",
       "      <td>NAIROBI</td>\n",
       "    </tr>\n",
       "    <tr>\n",
       "      <th>49</th>\n",
       "      <td>HOPE GLAM ACADEMY PRI</td>\n",
       "      <td>PRIMARY SCHOOL</td>\n",
       "      <td>PRIVATE</td>\n",
       "      <td>PRIVATE INDIVIDUAL</td>\n",
       "      <td>MIXED</td>\n",
       "      <td>DAY ONLY</td>\n",
       "      <td>ORDINARY</td>\n",
       "      <td>14.0</td>\n",
       "      <td>14.0</td>\n",
       "      <td>14.0</td>\n",
       "      <td>...</td>\n",
       "      <td>0</td>\n",
       "      <td>NAIROBI</td>\n",
       "      <td>NAIROBI</td>\n",
       "      <td>EMBAKASI</td>\n",
       "      <td>KAYOLE</td>\n",
       "      <td>EMBAKASI</td>\n",
       "      <td>(-1.269801, 36.911758)</td>\n",
       "      <td>-1.269801</td>\n",
       "      <td>36.911758</td>\n",
       "      <td>NAIROBI</td>\n",
       "    </tr>\n",
       "  </tbody>\n",
       "</table>\n",
       "<p>5 rows × 37 columns</p>\n",
       "</div>"
      ],
      "text/plain": [
       "                      Name of School Level of Education Status of School  \\\n",
       "21                RABAI ROAD PRI SCH     PRIMARY SCHOOL           PUBLIC   \n",
       "24                JOVIAL ACADEMY PRI     PRIMARY SCHOOL          PRIVATE   \n",
       "32                    SALAMA PRI SCH     PRIMARY SCHOOL           PUBLIC   \n",
       "40  SHARPENER CHILDRENS CENTRE - PRI     PRIMARY SCHOOL          PRIVATE   \n",
       "49             HOPE GLAM ACADEMY PRI     PRIMARY SCHOOL          PRIVATE   \n",
       "\n",
       "             Sponsor of School School Institution Type_1  \\\n",
       "21      CENTRAL GOVERNMENT/DEB                     MIXED   \n",
       "24          PRIVATE INDIVIDUAL                     MIXED   \n",
       "32  LOCAL GOVERNMENT AUTHORITY                     MIXED   \n",
       "40          PRIVATE INDIVIDUAL                     MIXED   \n",
       "49          PRIVATE INDIVIDUAL                     MIXED   \n",
       "\n",
       "   School Institution Type_2 School Institution Type_3  Pupil Teacher Ratio  \\\n",
       "21                  DAY ONLY                  ORDINARY                 35.4   \n",
       "24                  DAY ONLY                  ORDINARY                  0.0   \n",
       "32                  DAY ONLY                  ORDINARY                 48.7   \n",
       "40                  DAY ONLY                  ORDINARY                 11.0   \n",
       "49                  DAY ONLY                  ORDINARY                 14.0   \n",
       "\n",
       "    Pupil Classroom Ratio  Pupil Toilet Ratio  ...  Non-Teaching Staff Female  \\\n",
       "21                   46.4                41.3  ...                          3   \n",
       "24                    0.0                 0.0  ...                          0   \n",
       "32                   66.9                76.5  ...                          7   \n",
       "40                   11.0                 5.5  ...                          0   \n",
       "49                   14.0                14.0  ...                          0   \n",
       "\n",
       "    Province  District  Division  Location  Costituency  \\\n",
       "21   NAIROBI   NAIROBI  MAKADARA  MAKADARA     MAKADARA   \n",
       "24   NAIROBI   NAIROBI  EMBAKASI     UMOJA     EMBAKASI   \n",
       "32   NAIROBI   NAIROBI   STAREHE    HURUMA      STAREHE   \n",
       "40   NAIROBI   NAIROBI  KASARANI   RUARAKA     KASARANI   \n",
       "49   NAIROBI   NAIROBI  EMBAKASI    KAYOLE     EMBAKASI   \n",
       "\n",
       "               Geolocation  Latitude  Longitude   County  \n",
       "21  (-1.286176, 36.872801) -1.286176  36.872801  NAIROBI  \n",
       "24    (-1.28058, 36.90975) -1.280580  36.909750  NAIROBI  \n",
       "32  (-1.257462, 36.870696) -1.257462  36.870696  NAIROBI  \n",
       "40  (-1.248647, 36.874616) -1.248647  36.874616  NAIROBI  \n",
       "49  (-1.269801, 36.911758) -1.269801  36.911758  NAIROBI  \n",
       "\n",
       "[5 rows x 37 columns]"
      ]
     },
     "execution_count": 35,
     "metadata": {},
     "output_type": "execute_result"
    }
   ],
   "source": [
    "#subset the dataframe to filter by column\n",
    "ll = df.loc[df['County'] == 'NAIROBI']\n",
    "ll.head()"
   ]
  },
  {
   "cell_type": "code",
   "execution_count": 36,
   "metadata": {},
   "outputs": [],
   "source": [
    "import matplotlib.pyplot as plt\n",
    "%matplotlib inline"
   ]
  },
  {
   "cell_type": "code",
   "execution_count": 37,
   "metadata": {},
   "outputs": [],
   "source": [
    "# Fetch specific column values from the subset\n",
    "X = ll['Total Number of Classrooms']\n",
    "Y = ll['Total Enrolment']"
   ]
  },
  {
   "cell_type": "code",
   "execution_count": 38,
   "metadata": {},
   "outputs": [],
   "source": [
    "#training data, 80%\n",
    "xTrain = X[:1024]\n",
    "yTrain = Y[:1024]\n",
    "xTest = X[1024:]\n",
    "yTest = Y[1024:]"
   ]
  },
  {
   "cell_type": "code",
   "execution_count": 39,
   "metadata": {},
   "outputs": [
    {
     "data": {
      "text/plain": [
       "<matplotlib.collections.PathCollection at 0x7f902f177e48>"
      ]
     },
     "execution_count": 39,
     "metadata": {},
     "output_type": "execute_result"
    },
    {
     "data": {
      "image/png": "[encoded data removed]",
      "text/plain": [
       "<Figure size 1080x576 with 1 Axes>"
      ]
     },
     "metadata": {
      "needs_background": "light"
     },
     "output_type": "display_data"
    }
   ],
   "source": [
    "#Plot training data\n",
    "plt.figure(figsize=(15, 8))\n",
    "plt.scatter(xTrain, yTrain)"
   ]
  },
  {
   "cell_type": "code",
   "execution_count": 41,
   "metadata": {},
   "outputs": [
    {
     "data": {
      "text/plain": [
       "<matplotlib.collections.PathCollection at 0x7f902ed41e10>"
      ]
     },
     "execution_count": 41,
     "metadata": {},
     "output_type": "execute_result"
    },
    {
     "data": {
      "image/png": "[encoded data removed]",
      "text/plain": [
       "<Figure size 720x288 with 1 Axes>"
      ]
     },
     "metadata": {
      "needs_background": "light"
     },
     "output_type": "display_data"
    }
   ],
   "source": [
    "#plot testing data\n",
    "plt.figure(figsize=(10, 4))\n",
    "plt.scatter(xTest, yTest)"
   ]
  },
  {
   "cell_type": "code",
   "execution_count": 42,
   "metadata": {},
   "outputs": [],
   "source": [
    "from scipy import stats"
   ]
  },
  {
   "cell_type": "code",
   "execution_count": 46,
   "metadata": {},
   "outputs": [
    {
     "data": {
      "text/plain": [
       "LinregressResult(slope=39.253505504668745, intercept=-83.15660604860494, rvalue=0.8179977896003555, pvalue=3.197484523601706e-309, stderr=0.7721397253634185)"
      ]
     },
     "execution_count": 46,
     "metadata": {},
     "output_type": "execute_result"
    }
   ],
   "source": [
    "# Entire dataset \n",
    "r = stats.linregress(X, Y)\n",
    "r"
   ]
  },
  {
   "cell_type": "code",
   "execution_count": 47,
   "metadata": {},
   "outputs": [
    {
     "data": {
      "text/plain": [
       "LinregressResult(slope=38.40812053887466, intercept=-77.48156782477179, rvalue=0.8174345270161376, pvalue=4.495802164496318e-247, stderr=0.8466098966122552)"
      ]
     },
     "execution_count": 47,
     "metadata": {},
     "output_type": "execute_result"
    }
   ],
   "source": [
    "# Training data set\n",
    "r2 = stats.linregress(xTrain, yTrain)\n",
    "r2"
   ]
  },
  {
   "cell_type": "code",
   "execution_count": 48,
   "metadata": {},
   "outputs": [
    {
     "data": {
      "text/plain": [
       "LinregressResult(slope=42.678430747852175, intercept=-108.13470617035256, rvalue=0.8225887132553475, pvalue=3.244786816148333e-64, stderr=1.8511593244638929)"
      ]
     },
     "execution_count": 48,
     "metadata": {},
     "output_type": "execute_result"
    }
   ],
   "source": [
    "# Testing data set\n",
    "r3 = stats.linregress(xTest, yTest)\n",
    "r3"
   ]
  },
  {
   "cell_type": "code",
   "execution_count": 50,
   "metadata": {},
   "outputs": [],
   "source": [
    "#using the training dataset\n",
    "def myfunc(x):\n",
    "    return r2.slope * x + r2.intercept"
   ]
  },
  {
   "cell_type": "code",
   "execution_count": 51,
   "metadata": {},
   "outputs": [],
   "source": [
    "# using testing dataset\n",
    "def myfunc1(x):\n",
    "    return r3.slope * x + r3.intercept"
   ]
  },
  {
   "cell_type": "code",
   "execution_count": 52,
   "metadata": {},
   "outputs": [],
   "source": [
    "# using entire dataset\n",
    "def myfunc2(x):\n",
    "    return r.slope * x + r.intercept"
   ]
  },
  {
   "cell_type": "code",
   "execution_count": 55,
   "metadata": {},
   "outputs": [
    {
     "data": {
      "text/plain": [
       "[<matplotlib.lines.Line2D at 0x7f902eae8278>]"
      ]
     },
     "execution_count": 55,
     "metadata": {},
     "output_type": "execute_result"
    },
    {
     "data": {
      "image/png": "[encoded data removed]",
      "text/plain": [
       "<Figure size 720x288 with 1 Axes>"
      ]
     },
     "metadata": {
      "needs_background": "light"
     },
     "output_type": "display_data"
    }
   ],
   "source": [
    " #Fit entire dataset\n",
    "plt.figure(figsize=(10, 4))\n",
    "plt.scatter(X, Y)\n",
    "newModel = list(map(myfunc2, X))\n",
    "plt.plot(X, newModel)"
   ]
  },
  {
   "cell_type": "code",
   "execution_count": 56,
   "metadata": {},
   "outputs": [
    {
     "data": {
      "text/plain": [
       "[<matplotlib.lines.Line2D at 0x7f902f10d0b8>]"
      ]
     },
     "execution_count": 56,
     "metadata": {},
     "output_type": "execute_result"
    },
    {
     "data": {
      "image/png": "[encoded data removed]",
      "text/plain": [
       "<Figure size 720x288 with 1 Axes>"
      ]
     },
     "metadata": {
      "needs_background": "light"
     },
     "output_type": "display_data"
    }
   ],
   "source": [
    " #Fit training dataset\n",
    "plt.figure(figsize=(10, 4))\n",
    "plt.scatter(xTrain, yTrain)\n",
    "newModel = list(map(myfunc, xTrain))\n",
    "plt.plot(xTrain, newModel)"
   ]
  },
  {
   "cell_type": "code",
   "execution_count": 57,
   "metadata": {},
   "outputs": [
    {
     "data": {
      "text/plain": [
       "[<matplotlib.lines.Line2D at 0x7f902ecf8eb8>]"
      ]
     },
     "execution_count": 57,
     "metadata": {},
     "output_type": "execute_result"
    },
    {
     "data": {
      "image/png": "[encoded data removed]",
      "text/plain": [
       "<Figure size 720x288 with 1 Axes>"
      ]
     },
     "metadata": {
      "needs_background": "light"
     },
     "output_type": "display_data"
    }
   ],
   "source": [
    " #Fit testing dataset\n",
    "plt.figure(figsize=(10, 4))\n",
    "plt.scatter(xTest, yTest)\n",
    "newModel = list(map(myfunc1, xTest))\n",
    "plt.plot(xTest, newModel)"
   ]
  },
  {
   "cell_type": "code",
   "execution_count": null,
   "metadata": {},
   "outputs": [],
   "source": []
  }
 ],
 "metadata": {
  "kernelspec": {
   "display_name": "Python 3",
   "language": "python",
   "name": "python3"
  },
  "language_info": {
   "codemirror_mode": {
    "name": "ipython",
    "version": 3
   },
   "file_extension": ".py",
   "mimetype": "text/x-python",
   "name": "python",
   "nbconvert_exporter": "python",
   "pygments_lexer": "ipython3",
   "version": "3.6.9"
  }
 },
 "nbformat": 4,
 "nbformat_minor": 4
}
