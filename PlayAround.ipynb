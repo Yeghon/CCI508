{
 "cells": [
  {
   "cell_type": "code",
   "execution_count": 1,
   "metadata": {},
   "outputs": [],
   "source": [
    "import numpy as np\n",
    "import pandas as pd"
   ]
  },
  {
   "cell_type": "code",
   "execution_count": 2,
   "metadata": {},
   "outputs": [
    {
     "data": {
      "text/html": [
       "<div>\n",
       "<style scoped>\n",
       "    .dataframe tbody tr th:only-of-type {\n",
       "        vertical-align: middle;\n",
       "    }\n",
       "\n",
       "    .dataframe tbody tr th {\n",
       "        vertical-align: top;\n",
       "    }\n",
       "\n",
       "    .dataframe thead th {\n",
       "        text-align: right;\n",
       "    }\n",
       "</style>\n",
       "<table border=\"1\" class=\"dataframe\">\n",
       "  <thead>\n",
       "    <tr style=\"text-align: right;\">\n",
       "      <th></th>\n",
       "      <th>Name of School</th>\n",
       "      <th>Level of Education</th>\n",
       "      <th>Status of School</th>\n",
       "      <th>Sponsor of School</th>\n",
       "      <th>School Institution Type_1</th>\n",
       "      <th>School Institution Type_2</th>\n",
       "      <th>School Institution Type_3</th>\n",
       "      <th>Pupil Teacher Ratio</th>\n",
       "      <th>Pupil Classroom Ratio</th>\n",
       "      <th>Pupil Toilet Ratio</th>\n",
       "      <th>...</th>\n",
       "      <th>Non-Teaching Staff Female</th>\n",
       "      <th>Province</th>\n",
       "      <th>District</th>\n",
       "      <th>Division</th>\n",
       "      <th>Location</th>\n",
       "      <th>Costituency</th>\n",
       "      <th>Geolocation</th>\n",
       "      <th>Latitude</th>\n",
       "      <th>Longitude</th>\n",
       "      <th>County</th>\n",
       "    </tr>\n",
       "  </thead>\n",
       "  <tbody>\n",
       "    <tr>\n",
       "      <th>0</th>\n",
       "      <td>VOO SPECIAL UNIT</td>\n",
       "      <td>PRIMARY SCHOOL</td>\n",
       "      <td>PUBLIC</td>\n",
       "      <td>CENTRAL GOVERNMENT/DEB</td>\n",
       "      <td>MIXED</td>\n",
       "      <td>DAY &amp; BOARDING</td>\n",
       "      <td>SPECIAL SCHOOL</td>\n",
       "      <td>19.0</td>\n",
       "      <td>19.0</td>\n",
       "      <td>6.3</td>\n",
       "      <td>...</td>\n",
       "      <td>0</td>\n",
       "      <td>EASTERN</td>\n",
       "      <td>KITUI</td>\n",
       "      <td>MUTHA</td>\n",
       "      <td>VOO</td>\n",
       "      <td>MUTITO</td>\n",
       "      <td>(-1.66668, 38.32132)</td>\n",
       "      <td>-1.666680</td>\n",
       "      <td>38.321320</td>\n",
       "      <td>KITUI</td>\n",
       "    </tr>\n",
       "    <tr>\n",
       "      <th>1</th>\n",
       "      <td>MASAANTARE PRI</td>\n",
       "      <td>PRIMARY SCHOOL</td>\n",
       "      <td>PUBLIC</td>\n",
       "      <td>RELIGIOUS ORGANIZATION</td>\n",
       "      <td>MIXED</td>\n",
       "      <td>DAY ONLY</td>\n",
       "      <td>ORDINARY</td>\n",
       "      <td>44.3</td>\n",
       "      <td>53.2</td>\n",
       "      <td>88.7</td>\n",
       "      <td>...</td>\n",
       "      <td>1</td>\n",
       "      <td>RIFT VALLEY</td>\n",
       "      <td>NAROK</td>\n",
       "      <td>OLOLUNGA</td>\n",
       "      <td>NAROK SOUTH</td>\n",
       "      <td>OLOLUNGA</td>\n",
       "      <td>(-1.012145, 35.648155)</td>\n",
       "      <td>-1.012145</td>\n",
       "      <td>35.648155</td>\n",
       "      <td>NAROK</td>\n",
       "    </tr>\n",
       "    <tr>\n",
       "      <th>2</th>\n",
       "      <td>NGOCHONI PRY SCH</td>\n",
       "      <td>PRIMARY SCHOOL</td>\n",
       "      <td>PUBLIC</td>\n",
       "      <td>CENTRAL GOVERNMET/DEB</td>\n",
       "      <td>MIXED</td>\n",
       "      <td>DAY ONLY</td>\n",
       "      <td>ORDINARY</td>\n",
       "      <td>37.6</td>\n",
       "      <td>32.9</td>\n",
       "      <td>131.5</td>\n",
       "      <td>...</td>\n",
       "      <td>0</td>\n",
       "      <td>NYANZA</td>\n",
       "      <td>KURIA</td>\n",
       "      <td>MABERA</td>\n",
       "      <td>BUGUMBE WEST</td>\n",
       "      <td>KURIA</td>\n",
       "      <td>(-1.159798, 34.394076)</td>\n",
       "      <td>-1.159798</td>\n",
       "      <td>34.394076</td>\n",
       "      <td>MIGORI</td>\n",
       "    </tr>\n",
       "    <tr>\n",
       "      <th>3</th>\n",
       "      <td>NEEMA JUNIOR ACADEMY</td>\n",
       "      <td>PRIMARY SCHOOL</td>\n",
       "      <td>PRIVATE</td>\n",
       "      <td>PRIVATE INDIVIDUAL</td>\n",
       "      <td>MIXED</td>\n",
       "      <td>DAY ONLY</td>\n",
       "      <td>ORDINARY</td>\n",
       "      <td>18.9</td>\n",
       "      <td>22.0</td>\n",
       "      <td>44.0</td>\n",
       "      <td>...</td>\n",
       "      <td>1</td>\n",
       "      <td>CENTRAL</td>\n",
       "      <td>THIKA</td>\n",
       "      <td>KAMWANGI</td>\n",
       "      <td>MANGU</td>\n",
       "      <td>GATUNDU NORTH</td>\n",
       "      <td>(-0.99747, 36.93082)</td>\n",
       "      <td>-0.997470</td>\n",
       "      <td>36.930820</td>\n",
       "      <td>KIAMBU</td>\n",
       "    </tr>\n",
       "    <tr>\n",
       "      <th>4</th>\n",
       "      <td>LWANDA PRI SCH</td>\n",
       "      <td>PRIMARY SCHOOL</td>\n",
       "      <td>PUBLIC</td>\n",
       "      <td>CENTRAL GOVERNMENT/DEB</td>\n",
       "      <td>MIXED</td>\n",
       "      <td>DAY ONLY</td>\n",
       "      <td>ORDINARY</td>\n",
       "      <td>42.0</td>\n",
       "      <td>52.5</td>\n",
       "      <td>0.0</td>\n",
       "      <td>...</td>\n",
       "      <td>0</td>\n",
       "      <td>NYANZA</td>\n",
       "      <td>RACHUONYO</td>\n",
       "      <td>KABONDO</td>\n",
       "      <td>KAWOUR</td>\n",
       "      <td>KASIPUL KABONDO</td>\n",
       "      <td>(-0.42783, 34.92995)</td>\n",
       "      <td>-0.427830</td>\n",
       "      <td>34.929950</td>\n",
       "      <td>HOMA BAY</td>\n",
       "    </tr>\n",
       "  </tbody>\n",
       "</table>\n",
       "<p>5 rows × 37 columns</p>\n",
       "</div>"
      ],
      "text/plain": [
       "         Name of School Level of Education Status of School  \\\n",
       "0      VOO SPECIAL UNIT     PRIMARY SCHOOL           PUBLIC   \n",
       "1        MASAANTARE PRI     PRIMARY SCHOOL           PUBLIC   \n",
       "2      NGOCHONI PRY SCH     PRIMARY SCHOOL           PUBLIC   \n",
       "3  NEEMA JUNIOR ACADEMY     PRIMARY SCHOOL          PRIVATE   \n",
       "4        LWANDA PRI SCH     PRIMARY SCHOOL           PUBLIC   \n",
       "\n",
       "        Sponsor of School School Institution Type_1 School Institution Type_2  \\\n",
       "0  CENTRAL GOVERNMENT/DEB                     MIXED            DAY & BOARDING   \n",
       "1  RELIGIOUS ORGANIZATION                     MIXED                  DAY ONLY   \n",
       "2   CENTRAL GOVERNMET/DEB                     MIXED                  DAY ONLY   \n",
       "3      PRIVATE INDIVIDUAL                     MIXED                  DAY ONLY   \n",
       "4  CENTRAL GOVERNMENT/DEB                     MIXED                  DAY ONLY   \n",
       "\n",
       "  School Institution Type_3  Pupil Teacher Ratio  Pupil Classroom Ratio  \\\n",
       "0            SPECIAL SCHOOL                 19.0                   19.0   \n",
       "1                  ORDINARY                 44.3                   53.2   \n",
       "2                  ORDINARY                 37.6                   32.9   \n",
       "3                  ORDINARY                 18.9                   22.0   \n",
       "4                  ORDINARY                 42.0                   52.5   \n",
       "\n",
       "   Pupil Toilet Ratio  ...  Non-Teaching Staff Female     Province   District  \\\n",
       "0                 6.3  ...                          0      EASTERN      KITUI   \n",
       "1                88.7  ...                          1  RIFT VALLEY      NAROK   \n",
       "2               131.5  ...                          0       NYANZA      KURIA   \n",
       "3                44.0  ...                          1      CENTRAL      THIKA   \n",
       "4                 0.0  ...                          0       NYANZA  RACHUONYO   \n",
       "\n",
       "   Division      Location      Costituency             Geolocation  Latitude  \\\n",
       "0     MUTHA           VOO           MUTITO    (-1.66668, 38.32132) -1.666680   \n",
       "1  OLOLUNGA   NAROK SOUTH         OLOLUNGA  (-1.012145, 35.648155) -1.012145   \n",
       "2    MABERA  BUGUMBE WEST            KURIA  (-1.159798, 34.394076) -1.159798   \n",
       "3  KAMWANGI         MANGU    GATUNDU NORTH    (-0.99747, 36.93082) -0.997470   \n",
       "4   KABONDO        KAWOUR  KASIPUL KABONDO    (-0.42783, 34.92995) -0.427830   \n",
       "\n",
       "   Longitude    County  \n",
       "0  38.321320     KITUI  \n",
       "1  35.648155     NAROK  \n",
       "2  34.394076    MIGORI  \n",
       "3  36.930820    KIAMBU  \n",
       "4  34.929950  HOMA BAY  \n",
       "\n",
       "[5 rows x 37 columns]"
      ]
     },
     "execution_count": 2,
     "metadata": {},
     "output_type": "execute_result"
    }
   ],
   "source": [
    "df = pd.read_csv(\"Kenya_Schools.csv\")\n",
    "df.head()"
   ]
  },
  {
   "cell_type": "code",
   "execution_count": 3,
   "metadata": {},
   "outputs": [],
   "source": [
    "ll = df.loc[df['County'] == 'NAIROBI']"
   ]
  },
  {
   "cell_type": "code",
   "execution_count": 4,
   "metadata": {},
   "outputs": [],
   "source": [
    "import matplotlib.pyplot as plt\n",
    "%matplotlib inline"
   ]
  },
  {
   "cell_type": "code",
   "execution_count": 5,
   "metadata": {},
   "outputs": [
    {
     "data": {
      "text/plain": [
       "Index(['Name of School', 'Level of Education', 'Status of School',\n",
       "       'Sponsor of School', 'School Institution Type_1',\n",
       "       'School Institution Type_2', 'School Institution Type_3',\n",
       "       'Pupil Teacher Ratio', 'Pupil Classroom Ratio', 'Pupil Toilet Ratio',\n",
       "       'Total Number of Classrooms', 'Boys Toilets', 'Girls Toilets',\n",
       "       'Teachers Toilets', 'Total Toilets', 'Total Boys', 'Total Girls',\n",
       "       'Total Enrolment', 'GOK TSC Male', 'GOK TSC Female',\n",
       "       'Local Authority Male', 'Local Authority Female', 'PTA BOG Male',\n",
       "       'PTA BOG Female', 'Others Male', 'Others Female',\n",
       "       'Non-Teaching Staff Male', 'Non-Teaching Staff Female', 'Province',\n",
       "       'District', 'Division', 'Location', 'Costituency', 'Geolocation',\n",
       "       'Latitude', 'Longitude', 'County'],\n",
       "      dtype='object')"
      ]
     },
     "execution_count": 5,
     "metadata": {},
     "output_type": "execute_result"
    }
   ],
   "source": [
    "ll.columns"
   ]
  },
  {
   "cell_type": "code",
   "execution_count": 8,
   "metadata": {},
   "outputs": [],
   "source": [
    "X = ll['Total Number of Classrooms']\n",
    "Y = ll['Total Enrolment']"
   ]
  },
  {
   "cell_type": "code",
   "execution_count": 14,
   "metadata": {},
   "outputs": [],
   "source": [
    "#training data, 80%\n",
    "xTrain = X[:1024]\n",
    "yTrain = Y[:1024]\n",
    "xTest = X[1024:]\n",
    "yTest = Y[1024:]"
   ]
  },
  {
   "cell_type": "code",
   "execution_count": 15,
   "metadata": {},
   "outputs": [
    {
     "data": {
      "text/plain": [
       "<matplotlib.collections.PathCollection at 0x7f904afa3cc0>"
      ]
     },
     "execution_count": 15,
     "metadata": {},
     "output_type": "execute_result"
    },
    {
     "data": {
      "image/png": "[encoded data removed]",
      "text/plain": [
       "<Figure size 1080x576 with 1 Axes>"
      ]
     },
     "metadata": {
      "needs_background": "light"
     },
     "output_type": "display_data"
    }
   ],
   "source": [
    "#Plot training data\n",
    "plt.figure(figsize=(15, 8))\n",
    "plt.scatter(xTrain, yTrain)"
   ]
  },
  {
   "cell_type": "code",
   "execution_count": 16,
   "metadata": {},
   "outputs": [
    {
     "data": {
      "text/plain": [
       "<matplotlib.collections.PathCollection at 0x7f9042f11c88>"
      ]
     },
     "execution_count": 16,
     "metadata": {},
     "output_type": "execute_result"
    },
    {
     "data": {
      "image/png": "[encoded data removed]",
      "text/plain": [
       "<Figure size 1080x576 with 1 Axes>"
      ]
     },
     "metadata": {
      "needs_background": "light"
     },
     "output_type": "display_data"
    }
   ],
   "source": [
    "#plot testing data\n",
    "plt.figure(figsize=(15, 8))\n",
    "plt.scatter(xTest, yTest)"
   ]
  },
  {
   "cell_type": "code",
   "execution_count": 17,
   "metadata": {},
   "outputs": [],
   "source": [
    "from scipy import stats"
   ]
  },
  {
   "cell_type": "code",
   "execution_count": 19,
   "metadata": {},
   "outputs": [
    {
     "data": {
      "text/plain": [
       "LinregressResult(slope=39.253505504668745, intercept=-83.15660604860494, rvalue=0.8179977896003555, pvalue=3.197484523601706e-309, stderr=0.7721397253634185)"
      ]
     },
     "execution_count": 19,
     "metadata": {},
     "output_type": "execute_result"
    }
   ],
   "source": [
    "# Entire dataset \n",
    "r = stats.linregress(X, Y)\n",
    "r"
   ]
  },
  {
   "cell_type": "code",
   "execution_count": 20,
   "metadata": {},
   "outputs": [
    {
     "data": {
      "text/plain": [
       "LinregressResult(slope=38.40812053887466, intercept=-77.48156782477179, rvalue=0.8174345270161376, pvalue=4.495802164496318e-247, stderr=0.8466098966122552)"
      ]
     },
     "execution_count": 20,
     "metadata": {},
     "output_type": "execute_result"
    }
   ],
   "source": [
    "# Testing data set\n",
    "r = stats.linregress(xTrain, yTrain)\n",
    "r"
   ]
  },
  {
   "cell_type": "code",
   "execution_count": 21,
   "metadata": {},
   "outputs": [
    {
     "data": {
      "text/plain": [
       "LinregressResult(slope=42.678430747852175, intercept=-108.13470617035256, rvalue=0.8225887132553475, pvalue=3.244786816148333e-64, stderr=1.8511593244638929)"
      ]
     },
     "execution_count": 21,
     "metadata": {},
     "output_type": "execute_result"
    }
   ],
   "source": [
    "# Training data set\n",
    "r = stats.linregress(xTest, yTest)\n",
    "r"
   ]
  },
  {
   "cell_type": "code",
   "execution_count": 94,
   "metadata": {},
   "outputs": [],
   "source": [
    "def myfunc(x):\n",
    "    return r.slope * x + r.intercept"
   ]
  },
  {
   "cell_type": "code",
   "execution_count": 96,
   "metadata": {},
   "outputs": [
    {
     "data": {
      "text/plain": [
       "[<matplotlib.lines.Line2D at 0x7f9e2815c748>]"
      ]
     },
     "execution_count": 96,
     "metadata": {},
     "output_type": "execute_result"
    },
    {
     "data": {
      "image/png": "[encoded data removed]",
      "text/plain": [
       "<Figure size 1080x432 with 1 Axes>"
      ]
     },
     "metadata": {
      "needs_background": "light"
     },
     "output_type": "display_data"
    }
   ],
   "source": [
    "plt.figure(figsize=(15, 6))\n",
    "plt.scatter(X, Y)\n",
    "newModel = list(map(myfunc, X))\n",
    "plt.plot(X, newModel)"
   ]
  },
  {
   "cell_type": "code",
   "execution_count": 98,
   "metadata": {},
   "outputs": [],
   "source": [
    "xx = df['Total Number of Classrooms']\n",
    "yy = df['Total Enrolment']"
   ]
  },
  {
   "cell_type": "code",
   "execution_count": 100,
   "metadata": {},
   "outputs": [
    {
     "data": {
      "text/plain": [
       "<matplotlib.collections.PathCollection at 0x7f9e28050f98>"
      ]
     },
     "execution_count": 100,
     "metadata": {},
     "output_type": "execute_result"
    },
    {
     "data": {
      "image/png": "[encoded data removed]",
      "text/plain": [
       "<Figure size 1080x360 with 1 Axes>"
      ]
     },
     "metadata": {
      "needs_background": "light"
     },
     "output_type": "display_data"
    }
   ],
   "source": [
    "plt.figure(figsize=(15, 5))\n",
    "plt.scatter(xx, yy)"
   ]
  },
  {
   "cell_type": "code",
   "execution_count": 101,
   "metadata": {},
   "outputs": [
    {
     "data": {
      "text/plain": [
       "LinregressResult(slope=38.382091918474465, intercept=-31.410499092094767, rvalue=0.7574212741537655, pvalue=0.0, stderr=0.20523146357965324)"
      ]
     },
     "execution_count": 101,
     "metadata": {},
     "output_type": "execute_result"
    }
   ],
   "source": [
    "xxc = stats.linregress(xx, yy)\n",
    "xxc"
   ]
  },
  {
   "cell_type": "code",
   "execution_count": null,
   "metadata": {},
   "outputs": [],
   "source": []
  }
 ],
 "metadata": {
  "kernelspec": {
   "display_name": "Python 3",
   "language": "python",
   "name": "python3"
  },
  "language_info": {
   "codemirror_mode": {
    "name": "ipython",
    "version": 3
   },
   "file_extension": ".py",
   "mimetype": "text/x-python",
   "name": "python",
   "nbconvert_exporter": "python",
   "pygments_lexer": "ipython3",
   "version": "3.6.9"
  }
 },
 "nbformat": 4,
 "nbformat_minor": 4
}
