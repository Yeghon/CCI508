{
 "cells": [
  {
   "cell_type": "code",
   "execution_count": 21,
   "metadata": {},
   "outputs": [],
   "source": [
    "import pandas as pd\n",
    "import numpy as np\n",
    "from nltk.corpus import stopwords\n",
    "from nltk.tokenize import word_tokenize\n",
    "from nltk.tag import pos_tag\n",
    "import nltk"
   ]
  },
  {
   "cell_type": "code",
   "execution_count": 12,
   "metadata": {},
   "outputs": [
    {
     "data": {
      "text/html": [
       "<div>\n",
       "<style scoped>\n",
       "    .dataframe tbody tr th:only-of-type {\n",
       "        vertical-align: middle;\n",
       "    }\n",
       "\n",
       "    .dataframe tbody tr th {\n",
       "        vertical-align: top;\n",
       "    }\n",
       "\n",
       "    .dataframe thead th {\n",
       "        text-align: right;\n",
       "    }\n",
       "</style>\n",
       "<table border=\"1\" class=\"dataframe\">\n",
       "  <thead>\n",
       "    <tr style=\"text-align: right;\">\n",
       "      <th></th>\n",
       "      <th>Artist</th>\n",
       "      <th>Lyrics</th>\n",
       "    </tr>\n",
       "  </thead>\n",
       "  <tbody>\n",
       "    <tr>\n",
       "      <th>0</th>\n",
       "      <td>E-sir feat Nameless</td>\n",
       "      <td>Intro Tumekuja, kuparty, Dj hebu weka tracky T...</td>\n",
       "    </tr>\n",
       "    <tr>\n",
       "      <th>1</th>\n",
       "      <td>gigidi majimaji</td>\n",
       "      <td>Chorus  Who can bwogo me  Who can bwogo me  Wh...</td>\n",
       "    </tr>\n",
       "    <tr>\n",
       "      <th>2</th>\n",
       "      <td>E-sir</td>\n",
       "      <td>Jasho yatiririka Moyo wapiga Kila mtu Anawika ...</td>\n",
       "    </tr>\n",
       "    <tr>\n",
       "      <th>3</th>\n",
       "      <td>Mr. Googz Githurai</td>\n",
       "      <td>Intro (Lenny) when we… should we say… lemme se...</td>\n",
       "    </tr>\n",
       "    <tr>\n",
       "      <th>4</th>\n",
       "      <td>Kleptomaniaxx</td>\n",
       "      <td>Verse 1 (Nakiri aka Nyashinski) ka ningekuwa m...</td>\n",
       "    </tr>\n",
       "    <tr>\n",
       "      <th>5</th>\n",
       "      <td>E-sir</td>\n",
       "      <td>[Intro: E-Sir] Ogopa Police Station presents I...</td>\n",
       "    </tr>\n",
       "  </tbody>\n",
       "</table>\n",
       "</div>"
      ],
      "text/plain": [
       "                Artist                                             Lyrics\n",
       "0  E-sir feat Nameless  Intro Tumekuja, kuparty, Dj hebu weka tracky T...\n",
       "1      gigidi majimaji  Chorus  Who can bwogo me  Who can bwogo me  Wh...\n",
       "2                E-sir  Jasho yatiririka Moyo wapiga Kila mtu Anawika ...\n",
       "3   Mr. Googz Githurai  Intro (Lenny) when we… should we say… lemme se...\n",
       "4        Kleptomaniaxx  Verse 1 (Nakiri aka Nyashinski) ka ningekuwa m...\n",
       "5                E-sir  [Intro: E-Sir] Ogopa Police Station presents I..."
      ]
     },
     "execution_count": 12,
     "metadata": {},
     "output_type": "execute_result"
    }
   ],
   "source": [
    "df = pd.read_csv(\"ClassicsKenyans.tsv\", sep='\\t')\n",
    "df.head(10)"
   ]
  },
  {
   "cell_type": "code",
   "execution_count": 16,
   "metadata": {},
   "outputs": [],
   "source": [
    "popular = df['Artist'].value_counts()"
   ]
  },
  {
   "cell_type": "code",
   "execution_count": 14,
   "metadata": {},
   "outputs": [
    {
     "data": {
      "text/plain": [
       "E-sir                  2\n",
       "Mr. Googz Githurai     1\n",
       "Kleptomaniaxx          1\n",
       "gigidi majimaji        1\n",
       "E-sir feat Nameless    1\n",
       "Name: Artist, dtype: int64"
      ]
     },
     "execution_count": 14,
     "metadata": {},
     "output_type": "execute_result"
    }
   ],
   "source": [
    "popular"
   ]
  },
  {
   "cell_type": "code",
   "execution_count": 17,
   "metadata": {},
   "outputs": [
    {
     "data": {
      "text/plain": [
       "0    E-sir feat Nameless\n",
       "1        gigidi majimaji\n",
       "2                  E-sir\n",
       "3     Mr. Googz Githurai\n",
       "4          Kleptomaniaxx\n",
       "5                  E-sir\n",
       "Name: Artist, dtype: object"
      ]
     },
     "execution_count": 17,
     "metadata": {},
     "output_type": "execute_result"
    }
   ],
   "source": [
    "top_artists = df['Artist']\n",
    "top_artists"
   ]
  },
  {
   "cell_type": "code",
   "execution_count": 18,
   "metadata": {},
   "outputs": [
    {
     "data": {
      "text/plain": [
       "6"
      ]
     },
     "execution_count": 18,
     "metadata": {},
     "output_type": "execute_result"
    }
   ],
   "source": [
    "len(top_artists)"
   ]
  },
  {
   "cell_type": "code",
   "execution_count": 19,
   "metadata": {},
   "outputs": [
    {
     "data": {
      "text/plain": [
       "['e-sir feat nameless',\n",
       " 'gigidi majimaji',\n",
       " 'e-sir',\n",
       " 'mr. googz githurai',\n",
       " 'kleptomaniaxx',\n",
       " 'e-sir']"
      ]
     },
     "execution_count": 19,
     "metadata": {},
     "output_type": "execute_result"
    }
   ],
   "source": [
    "artists_lowercase = []\n",
    "for x in top_artists:\n",
    "    artists_lowercase.append(x.lower())\n",
    "    pass\n",
    "artists_lowercase       "
   ]
  },
  {
   "cell_type": "code",
   "execution_count": 25,
   "metadata": {},
   "outputs": [
    {
     "data": {
      "image/png": "[encoded data removed]",
      "text/plain": [
       "<Figure size 432x288 with 1 Axes>"
      ]
     },
     "metadata": {
      "needs_background": "light"
     },
     "output_type": "display_data"
    },
    {
     "data": {
      "text/plain": [
       "<AxesSubplot:xlabel='Samples', ylabel='Counts'>"
      ]
     },
     "execution_count": 25,
     "metadata": {},
     "output_type": "execute_result"
    }
   ],
   "source": [
    "frewqDist = nltk.FreqDist(artists_lowercase)\n",
    "frewqDist.plot()"
   ]
  },
  {
   "cell_type": "code",
   "execution_count": 23,
   "metadata": {},
   "outputs": [
    {
     "data": {
      "image/png": "[encoded data removed]",
      "text/plain": [
       "<Figure size 432x288 with 1 Axes>"
      ]
     },
     "metadata": {
      "needs_background": "light"
     },
     "output_type": "display_data"
    },
    {
     "data": {
      "text/plain": [
       "<AxesSubplot:xlabel='Samples', ylabel='Counts'>"
      ]
     },
     "execution_count": 23,
     "metadata": {},
     "output_type": "execute_result"
    }
   ],
   "source": [
    "frewqDist.plot()"
   ]
  },
  {
   "cell_type": "code",
   "execution_count": 24,
   "metadata": {},
   "outputs": [
    {
     "data": {
      "text/plain": [
       "[['e-sir', 'feat', 'nameless'],\n",
       " ['gigidi', 'majimaji'],\n",
       " ['e-sir'],\n",
       " ['mr.', 'googz', 'githurai'],\n",
       " ['kleptomaniaxx'],\n",
       " ['e-sir']]"
      ]
     },
     "execution_count": 24,
     "metadata": {},
     "output_type": "execute_result"
    }
   ],
   "source": [
    "artist_ = []\n",
    "for x in artists_lowercase:\n",
    "    artist = []\n",
    "    for y in word_tokenize(x):\n",
    "        artist.append(y)\n",
    "        pass\n",
    "    artist_.append(artist)\n",
    "    pass\n",
    "artist_        "
   ]
  },
  {
   "cell_type": "code",
   "execution_count": 27,
   "metadata": {},
   "outputs": [
    {
     "data": {
      "text/plain": [
       "['e-sir',\n",
       " 'feat',\n",
       " 'nameless',\n",
       " 'gigidi',\n",
       " 'majimaji',\n",
       " 'e-sir',\n",
       " 'mr.',\n",
       " 'googz',\n",
       " 'githurai',\n",
       " 'kleptomaniaxx',\n",
       " 'e-sir']"
      ]
     },
     "execution_count": 27,
     "metadata": {},
     "output_type": "execute_result"
    }
   ],
   "source": [
    "artistss_ = []\n",
    "for x in artist_:\n",
    "    for y in x:\n",
    "        artistss_.append(y)\n",
    "        pass\n",
    "    pass\n",
    "artistss_"
   ]
  },
  {
   "cell_type": "code",
   "execution_count": 28,
   "metadata": {},
   "outputs": [
    {
     "data": {
      "image/png": "[encoded data removed]",
      "text/plain": [
       "<Figure size 432x288 with 1 Axes>"
      ]
     },
     "metadata": {
      "needs_background": "light"
     },
     "output_type": "display_data"
    },
    {
     "data": {
      "text/plain": [
       "<AxesSubplot:xlabel='Samples', ylabel='Counts'>"
      ]
     },
     "execution_count": 28,
     "metadata": {},
     "output_type": "execute_result"
    }
   ],
   "source": [
    "frewqDist = nltk.FreqDist(artistss_)\n",
    "frewqDist.plot()"
   ]
  },
  {
   "cell_type": "code",
   "execution_count": 29,
   "metadata": {},
   "outputs": [
    {
     "data": {
      "text/plain": [
       "['e-sir',\n",
       " 'nameless',\n",
       " 'gigidi',\n",
       " 'majimaji',\n",
       " 'e-sir',\n",
       " 'googz',\n",
       " 'githurai',\n",
       " 'kleptomaniaxx',\n",
       " 'e-sir']"
      ]
     },
     "execution_count": 29,
     "metadata": {},
     "output_type": "execute_result"
    }
   ],
   "source": [
    "''' Remove unnecessary words such as feat and mr'''\n",
    "no_fills = []\n",
    "fillers = ['feat', 'mr.']\n",
    "for x in artistss_:\n",
    "    if x not in fillers:\n",
    "        no_fills.append(x)\n",
    "        pass\n",
    "    pass\n",
    "no_fills      "
   ]
  },
  {
   "cell_type": "code",
   "execution_count": 31,
   "metadata": {},
   "outputs": [
    {
     "data": {
      "image/png": "[encoded data removed]",
      "text/plain": [
       "<Figure size 432x288 with 1 Axes>"
      ]
     },
     "metadata": {
      "needs_background": "light"
     },
     "output_type": "display_data"
    },
    {
     "data": {
      "text/plain": [
       "<AxesSubplot:xlabel='Samples', ylabel='Counts'>"
      ]
     },
     "execution_count": 31,
     "metadata": {},
     "output_type": "execute_result"
    }
   ],
   "source": [
    "frewqDist = nltk.FreqDist(no_fills)\n",
    "frewqDist.plot()"
   ]
  },
  {
   "cell_type": "code",
   "execution_count": 47,
   "metadata": {},
   "outputs": [],
   "source": [
    "'''Determine an artist\\'s key index on the song by calculating the number of times their names occur\n",
    "divided by the total number of artists multiply the result by 100%'''\n",
    "sample = ['e-sir feat nameless', 'mr. Googz', 'Nameless']\n",
    "def topArtists(token):\n",
    "    tokenized = []\n",
    "    for x in token:\n",
    "        for y in (nltk.word_tokenize(x)):\n",
    "            tokenized.append(y)\n",
    "            pass\n",
    "        pass\n",
    "    return tokenized"
   ]
  },
  {
   "cell_type": "code",
   "execution_count": 53,
   "metadata": {},
   "outputs": [
    {
     "data": {
      "text/plain": [
       "['E-sir',\n",
       " 'feat',\n",
       " 'Nameless',\n",
       " 'gigidi',\n",
       " 'majimaji',\n",
       " 'E-sir',\n",
       " 'Mr.',\n",
       " 'Googz',\n",
       " 'Githurai',\n",
       " 'Kleptomaniaxx',\n",
       " 'E-sir']"
      ]
     },
     "execution_count": 53,
     "metadata": {},
     "output_type": "execute_result"
    }
   ],
   "source": [
    "top_artists = topArtists(df.Artist)\n",
    "top_artists\n",
    "# hitRatioBasedOnArtist"
   ]
  },
  {
   "cell_type": "code",
   "execution_count": 64,
   "metadata": {},
   "outputs": [],
   "source": [
    "def hitRatioBasedOnArtist(artists):\n",
    "    lower_cased = []\n",
    "    for x in artists:\n",
    "        lower_cased.append(x.lower())\n",
    "        pass\n",
    "    return nltk.FreqDist(lower_cased)    "
   ]
  },
  {
   "cell_type": "code",
   "execution_count": 66,
   "metadata": {},
   "outputs": [
    {
     "data": {
      "text/plain": [
       "FreqDist({'e-sir': 3, 'feat': 1, 'nameless': 1, 'gigidi': 1, 'majimaji': 1, 'mr.': 1, 'googz': 1, 'githurai': 1, 'kleptomaniaxx': 1})"
      ]
     },
     "execution_count": 66,
     "metadata": {},
     "output_type": "execute_result"
    }
   ],
   "source": [
    "hits_index_map = hitRatioBasedOnArtist(top_artists)\n",
    "hits_index_map"
   ]
  },
  {
   "cell_type": "code",
   "execution_count": 80,
   "metadata": {},
   "outputs": [],
   "source": [
    "def asignWeight(artists):\n",
    "    tokenized = nltk.word_tokenize(artists.lower())\n",
    "    totalweights = 0\n",
    "    song_weight = 0\n",
    "    for x in hits_index_map.values():\n",
    "        totalweights += x\n",
    "        pass\n",
    "    for y in tokenized:\n",
    "        song_weight += hits_index_map[y]\n",
    "        pass\n",
    "    return (song_weight / totalweights) * 100"
   ]
  },
  {
   "cell_type": "code",
   "execution_count": 81,
   "metadata": {},
   "outputs": [
    {
     "data": {
      "text/plain": [
       "45.45454545454545"
      ]
     },
     "execution_count": 81,
     "metadata": {},
     "output_type": "execute_result"
    }
   ],
   "source": [
    "asignWeight('e-sir feat nameless')"
   ]
  },
  {
   "cell_type": "code",
   "execution_count": null,
   "metadata": {},
   "outputs": [],
   "source": []
  },
  {
   "cell_type": "code",
   "execution_count": 82,
   "metadata": {},
   "outputs": [
    {
     "data": {
      "text/html": [
       "<div>\n",
       "<style scoped>\n",
       "    .dataframe tbody tr th:only-of-type {\n",
       "        vertical-align: middle;\n",
       "    }\n",
       "\n",
       "    .dataframe tbody tr th {\n",
       "        vertical-align: top;\n",
       "    }\n",
       "\n",
       "    .dataframe thead th {\n",
       "        text-align: right;\n",
       "    }\n",
       "</style>\n",
       "<table border=\"1\" class=\"dataframe\">\n",
       "  <thead>\n",
       "    <tr style=\"text-align: right;\">\n",
       "      <th></th>\n",
       "      <th>Artist</th>\n",
       "      <th>Lyrics</th>\n",
       "      <th>weight_on_artist</th>\n",
       "    </tr>\n",
       "  </thead>\n",
       "  <tbody>\n",
       "    <tr>\n",
       "      <th>0</th>\n",
       "      <td>E-sir feat Nameless</td>\n",
       "      <td>Intro Tumekuja, kuparty, Dj hebu weka tracky T...</td>\n",
       "      <td>45.454545</td>\n",
       "    </tr>\n",
       "    <tr>\n",
       "      <th>1</th>\n",
       "      <td>gigidi majimaji</td>\n",
       "      <td>Chorus  Who can bwogo me  Who can bwogo me  Wh...</td>\n",
       "      <td>18.181818</td>\n",
       "    </tr>\n",
       "    <tr>\n",
       "      <th>2</th>\n",
       "      <td>E-sir</td>\n",
       "      <td>Jasho yatiririka Moyo wapiga Kila mtu Anawika ...</td>\n",
       "      <td>27.272727</td>\n",
       "    </tr>\n",
       "    <tr>\n",
       "      <th>3</th>\n",
       "      <td>Mr. Googz Githurai</td>\n",
       "      <td>Intro (Lenny) when we… should we say… lemme se...</td>\n",
       "      <td>27.272727</td>\n",
       "    </tr>\n",
       "    <tr>\n",
       "      <th>4</th>\n",
       "      <td>Kleptomaniaxx</td>\n",
       "      <td>Verse 1 (Nakiri aka Nyashinski) ka ningekuwa m...</td>\n",
       "      <td>9.090909</td>\n",
       "    </tr>\n",
       "  </tbody>\n",
       "</table>\n",
       "</div>"
      ],
      "text/plain": [
       "                Artist                                             Lyrics  \\\n",
       "0  E-sir feat Nameless  Intro Tumekuja, kuparty, Dj hebu weka tracky T...   \n",
       "1      gigidi majimaji  Chorus  Who can bwogo me  Who can bwogo me  Wh...   \n",
       "2                E-sir  Jasho yatiririka Moyo wapiga Kila mtu Anawika ...   \n",
       "3   Mr. Googz Githurai  Intro (Lenny) when we… should we say… lemme se...   \n",
       "4        Kleptomaniaxx  Verse 1 (Nakiri aka Nyashinski) ka ningekuwa m...   \n",
       "\n",
       "   weight_on_artist  \n",
       "0         45.454545  \n",
       "1         18.181818  \n",
       "2         27.272727  \n",
       "3         27.272727  \n",
       "4          9.090909  "
      ]
     },
     "execution_count": 82,
     "metadata": {},
     "output_type": "execute_result"
    }
   ],
   "source": [
    "'''apply weights based on the presence of an artist in the song'''\n",
    "\n",
    "df['weight_on_artist'] = df['Artist'].apply(lambda c: asignWeight(c))\n",
    "df.head()"
   ]
  },
  {
   "cell_type": "code",
   "execution_count": null,
   "metadata": {},
   "outputs": [],
   "source": []
  },
  {
   "cell_type": "code",
   "execution_count": 33,
   "metadata": {},
   "outputs": [
    {
     "data": {
      "text/plain": [
       "0    Intro Tumekuja, kuparty, Dj hebu weka tracky T...\n",
       "1    Chorus  Who can bwogo me  Who can bwogo me  Wh...\n",
       "2    Jasho yatiririka Moyo wapiga Kila mtu Anawika ...\n",
       "3    Intro (Lenny) when we… should we say… lemme se...\n",
       "4    Verse 1 (Nakiri aka Nyashinski) ka ningekuwa m...\n",
       "5    [Intro: E-Sir] Ogopa Police Station presents I...\n",
       "Name: Lyrics, dtype: object"
      ]
     },
     "execution_count": 33,
     "metadata": {},
     "output_type": "execute_result"
    }
   ],
   "source": [
    "'''process lyrics'''\n",
    "lyrics = df['Lyrics']\n",
    "lyrics"
   ]
  },
  {
   "cell_type": "code",
   "execution_count": 34,
   "metadata": {},
   "outputs": [
    {
     "data": {
      "text/html": [
       "<div>\n",
       "<style scoped>\n",
       "    .dataframe tbody tr th:only-of-type {\n",
       "        vertical-align: middle;\n",
       "    }\n",
       "\n",
       "    .dataframe tbody tr th {\n",
       "        vertical-align: top;\n",
       "    }\n",
       "\n",
       "    .dataframe thead th {\n",
       "        text-align: right;\n",
       "    }\n",
       "</style>\n",
       "<table border=\"1\" class=\"dataframe\">\n",
       "  <thead>\n",
       "    <tr style=\"text-align: right;\">\n",
       "      <th></th>\n",
       "      <th>Artist</th>\n",
       "      <th>Lyrics</th>\n",
       "    </tr>\n",
       "  </thead>\n",
       "  <tbody>\n",
       "    <tr>\n",
       "      <th>0</th>\n",
       "      <td>E-sir feat Nameless</td>\n",
       "      <td>Intro Tumekuja, kuparty, Dj hebu weka tracky T...</td>\n",
       "    </tr>\n",
       "    <tr>\n",
       "      <th>1</th>\n",
       "      <td>gigidi majimaji</td>\n",
       "      <td>Chorus  Who can bwogo me  Who can bwogo me  Wh...</td>\n",
       "    </tr>\n",
       "    <tr>\n",
       "      <th>2</th>\n",
       "      <td>E-sir</td>\n",
       "      <td>Jasho yatiririka Moyo wapiga Kila mtu Anawika ...</td>\n",
       "    </tr>\n",
       "    <tr>\n",
       "      <th>3</th>\n",
       "      <td>Mr. Googz Githurai</td>\n",
       "      <td>Intro (Lenny) when we… should we say… lemme se...</td>\n",
       "    </tr>\n",
       "    <tr>\n",
       "      <th>4</th>\n",
       "      <td>Kleptomaniaxx</td>\n",
       "      <td>Verse 1 (Nakiri aka Nyashinski) ka ningekuwa m...</td>\n",
       "    </tr>\n",
       "  </tbody>\n",
       "</table>\n",
       "</div>"
      ],
      "text/plain": [
       "                Artist                                             Lyrics\n",
       "0  E-sir feat Nameless  Intro Tumekuja, kuparty, Dj hebu weka tracky T...\n",
       "1      gigidi majimaji  Chorus  Who can bwogo me  Who can bwogo me  Wh...\n",
       "2                E-sir  Jasho yatiririka Moyo wapiga Kila mtu Anawika ...\n",
       "3   Mr. Googz Githurai  Intro (Lenny) when we… should we say… lemme se...\n",
       "4        Kleptomaniaxx  Verse 1 (Nakiri aka Nyashinski) ka ningekuwa m..."
      ]
     },
     "execution_count": 34,
     "metadata": {},
     "output_type": "execute_result"
    }
   ],
   "source": [
    "df.head()"
   ]
  },
  {
   "cell_type": "code",
   "execution_count": null,
   "metadata": {},
   "outputs": [],
   "source": []
  }
 ],
 "metadata": {
  "kernelspec": {
   "display_name": "Python 3",
   "language": "python",
   "name": "python3"
  },
  "language_info": {
   "codemirror_mode": {
    "name": "ipython",
    "version": 3
   },
   "file_extension": ".py",
   "mimetype": "text/x-python",
   "name": "python",
   "nbconvert_exporter": "python",
   "pygments_lexer": "ipython3",
   "version": "3.6.9"
  }
 },
 "nbformat": 4,
 "nbformat_minor": 4
}
