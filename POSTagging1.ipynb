{
 "cells": [
  {
   "cell_type": "code",
   "execution_count": 98,
   "metadata": {},
   "outputs": [],
   "source": [
    "import pandas as pd\n",
    "import numpy as np\n",
    "from nltk.corpus import stopwords\n",
    "from nltk.tokenize import word_tokenize\n",
    "import re\n",
    "import emoji\n",
    "import string"
   ]
  },
  {
   "cell_type": "code",
   "execution_count": 99,
   "metadata": {},
   "outputs": [],
   "source": [
    "#Read csv into a dataframe, focus on tweets\n",
    "df = pd.read_csv(\"Tweets.csv\", header=None, usecols=[1])\n",
    "na = np.array(df)"
   ]
  },
  {
   "cell_type": "code",
   "execution_count": 100,
   "metadata": {},
   "outputs": [],
   "source": [
    "#Lowercase all words to level the playing field\n",
    "nb = []\n",
    "for x in na:\n",
    "    ar =[]\n",
    "    for y in x:\n",
    "        ar.append(y.lower())\n",
    "    nb.append(ar)"
   ]
  },
  {
   "cell_type": "code",
   "execution_count": 101,
   "metadata": {},
   "outputs": [],
   "source": [
    "#Tokenize \n",
    "nc = []\n",
    "for x in nb:\n",
    "    for y in x:\n",
    "        nc.append(word_tokenize(y))"
   ]
  },
  {
   "cell_type": "code",
   "execution_count": 102,
   "metadata": {},
   "outputs": [],
   "source": [
    "#Remove stopwords\n",
    "nd = []\n",
    "stopWords = stopwords.words('english')\n",
    "for x in nc:\n",
    "    ar = []\n",
    "    for y in x:\n",
    "        if y not in stopWords:\n",
    "            ar.append(y)\n",
    "    nd.append(ar)"
   ]
  },
  {
   "cell_type": "code",
   "execution_count": 103,
   "metadata": {},
   "outputs": [],
   "source": [
    "#Remove punctuations\n",
    "ne = []\n",
    "for x in nd:\n",
    "    ar = []\n",
    "    for y in x:\n",
    "        ar.append(y.translate(str.maketrans('', '', string.punctuation)))\n",
    "    ne.append(ar)"
   ]
  },
  {
   "cell_type": "code",
   "execution_count": 104,
   "metadata": {},
   "outputs": [],
   "source": [
    "#Clean up to remove single character members and empty list values\n",
    "nf = []\n",
    "for x in ne:\n",
    "    ar = []\n",
    "    for y in x:\n",
    "        if len(y) > 1:\n",
    "            ar.append(y)\n",
    "    nf.append(ar)"
   ]
  },
  {
   "cell_type": "code",
   "execution_count": 105,
   "metadata": {},
   "outputs": [],
   "source": [
    "# function to check for ascii characters\n",
    "def is_ascii(s):\n",
    "    return all(ord(c) < 128 for c in s)\n"
   ]
  },
  {
   "cell_type": "code",
   "execution_count": 107,
   "metadata": {},
   "outputs": [],
   "source": [
    "#Remove non ascii characters\n",
    "ng = []\n",
    "for x in nf:\n",
    "    ar = []\n",
    "    for y in x:\n",
    "        c = \"\"\n",
    "        for q in y:\n",
    "            c = c + (q if is_ascii(q) else \" \")\n",
    "        ar.append(c)\n",
    "    ng.append(ar)"
   ]
  },
  {
   "cell_type": "code",
   "execution_count": 108,
   "metadata": {},
   "outputs": [],
   "source": [
    "#Remove html characters\n",
    "nh = []\n",
    "for x in ng:\n",
    "    ar = []\n",
    "    for y in x:\n",
    "        ar.append(re.compile(r'<[^>]+>').sub('', y))\n",
    "    nh.append(ar)"
   ]
  },
  {
   "cell_type": "code",
   "execution_count": 109,
   "metadata": {},
   "outputs": [],
   "source": [
    "#Remove emoji\n",
    "ni = []\n",
    "for x in nh:\n",
    "    ar = []\n",
    "    for y in x:\n",
    "        ar.append(re.sub(emoji.get_emoji_regexp(), r\"\", y))\n",
    "    ni.append(ar)"
   ]
  },
  {
   "cell_type": "code",
   "execution_count": 110,
   "metadata": {},
   "outputs": [],
   "source": [
    "#2nd row of cleaning remove numbers and any characters which may contain  numbers\n",
    "import numbers\n",
    "nj = []\n",
    "for x in ni:\n",
    "    ar = []\n",
    "    for y in x:\n",
    "        if not y.isdigit():\n",
    "            if not bool(re.search(r'\\d', y)):\n",
    "                ar.append(y)\n",
    "    nj.append(ar)"
   ]
  },
  {
   "cell_type": "code",
   "execution_count": 111,
   "metadata": {},
   "outputs": [],
   "source": [
    "#3rd round of cleaning, remove empty array elements caused by removal of html characters\n",
    "nk = []\n",
    "for x in nj:\n",
    "    ar = []\n",
    "    for y in x:\n",
    "        if len(y) > 1:\n",
    "            ar.append(y)\n",
    "    nk.append(ar)"
   ]
  },
  {
   "cell_type": "code",
   "execution_count": 112,
   "metadata": {},
   "outputs": [],
   "source": [
    "from nltk.stem import WordNetLemmatizer\n",
    "lemma = WordNetLemmatizer()"
   ]
  },
  {
   "cell_type": "code",
   "execution_count": 113,
   "metadata": {},
   "outputs": [],
   "source": [
    "#Lematize words using nltk\n",
    "nl = []\n",
    "for x in nk:\n",
    "    ar = []\n",
    "    for y in x:\n",
    "        ar.append(lemma.lemmatize(y))\n",
    "    nl.append(ar)"
   ]
  },
  {
   "cell_type": "code",
   "execution_count": 114,
   "metadata": {},
   "outputs": [],
   "source": [
    "from nltk.tag import pos_tag"
   ]
  },
  {
   "cell_type": "code",
   "execution_count": 91,
   "metadata": {},
   "outputs": [
    {
     "name": "stdout",
     "output_type": "stream",
     "text": [
      "[[('electionsboycottke', 'NN'), ('said', 'VBD'), ('chebukati', 'NNS'), ('lied', 'VBD'), ('said', 'VBD')], [('best', 'JJS'), ('estimate', 'NN'), ('tomorrow', 'NN'), ('start', 'VB'), ('hour', 'NN'), ('electionsboycottke', 'NN')], [('chebukati', 'NNS'), ('next', 'JJ'), ('transmission', 'NN'), ('tune', 'NN'), ('counting', 'VBG'), ('manually', 'RB'), ('electionsboycottke', 'VB')], [('electionsboycottke', 'NN'), ('hoping', 'VBG'), ('nt', 'NNS'), ('make', 'VBP'), ('fool', 'NN'), ('chairman', 'NN')], [('something', 'NN'), ('wrong', 'JJ'), ('wchebukati', 'JJ'), ('nt', 'JJ'), ('look', 'NN'), ('good', 'JJ'), ('electionsboycottke', 'NN')], [('electionsboycottke', 'NN'), ('lol', 'NN'), ('ntvkenya', 'IN'), ('watching', 'VBG'), ('panel', 'NN'), ('swear', 'NN')], [('people', 'NNS'), ('expecting', 'VBG'), ('much', 'JJ'), ('wanyonyi', 'NN'), ('though', 'IN'), ('electionsboycottke', 'NN')], [('voter', 'NN'), ('turnout', 'NN'), ('forget', 'NN'), ('electionsboycottke', 'NN'), ('kenyapoll', 'NN')], [('kenyaredcross', 'NN'), ('hrw', 'NN'), ('hakiknchr', 'NN'), ('reutersafrica', 'NN'), ('bbcafrica', 'NN'), ('electionsboycottke', 'NN')], [('minus', 'CC'), ('equal', 'JJ'), ('raila', 'NN'), ('kenyapoll', 'NN'), ('electionsboycottke', 'JJ'), ('murkomen', 'NNS'), ('panafrica', 'VBP')], [('murkomen', 'NNS'), ('uhuru', 'JJ'), ('get', 'VBP'), ('million', 'CD'), ('electionsboycottke', 'NN')], [('bomet', 'JJ'), ('central', 'JJ'), ('kabusare', 'NN'), ('polling', 'VBG'), ('station', 'NN'), ('uhuru', 'JJ'), ('raila', 'NN'), ('electionsboycottke', 'NN')], [('haha', 'NN'), ('must', 'MD'), ('laughing', 'VB'), ('confused', 'JJ'), ('voter', 'NN'), ('like', 'IN'), ('u', 'JJ'), ('electionsboycottke', 'NN')], [('electionsboycottke', 'JJ'), ('election', 'NN'), ('tumemaliza', 'NN'), ('waiting', 'VBG'), ('williamsruto', 'NN')], [('turn', 'NN'), ('lie', 'NN'), ('chebukati', 'NN'), ('bado', 'NN'), ('unashikwa', 'JJ'), ('makende', 'NN'), ('electionsboycottke', 'NN')], [('bosase', 'NN'), ('primary', 'JJ'), ('cj', 'NN'), ('maraga', 'NN'), ('voted', 'VBD'), ('uhuru', 'JJ'), ('raila', 'NN'), ('electionsboycottke', 'NN')], [('seems', 'VBZ'), ('kenyan', 'NNS'), ('know', 'VBP'), ('good', 'JJ'), ('country', 'NN'), ('electionsboycottke', 'NN')], [('electionsboycottke', 'JJ'), ('vote', 'NN'), ('railaodinga', 'NN'), ('tuko', 'NN'), ('na', 'TO'), ('wewe', 'NN'), ('till', 'JJ'), ('end', 'NN')], [('fire', 'NN'), ('met', 'VBD'), ('fire', 'JJ'), ('kipmurkomen', 'NNS'), ('kenyapoll', 'VBP'), ('electionsboycottke', 'NN')], [('election', 'NN'), ('day', 'NN'), ('take', 'VB'), ('nearest', 'JJS'), ('bank', 'NN'), ('electionsboycottke', 'NN')], [('murkomen', 'NNS'), ('abuse', 'VBP'), ('raila', 'JJ'), ('live', 'JJ'), ('tv', 'NN'), ('electionsboycottke', 'NN'), ('kenyaisvoting', 'NN')], [('murkomen', 'NNS'), ('airing', 'VBG'), ('illiteracy', 'JJ'), ('national', 'JJ'), ('tv', 'NN'), ('kenyapoll', 'NN'), ('electionsboycottke', 'NN')], [('murkomen', 'NNS'), ('said', 'VBD'), ('many', 'JJ'), ('word', 'NN'), ('air', 'NN'), ('electionsboycottke', 'NN')], [('kipmurkomen', 'NNS'), ('face', 'VBP'), ('show', 'VBP'), ('disappointment', 'JJ'), ('truthful', 'JJ'), ('electionsboycottke', 'NN')], [('electionsboycottke', 'JJ'), ('ama', 'NN'), ('kipmurkomen', 'NNS'), ('happy', 'JJ'), ('man', 'NN'), ('today', 'NN')], [('electionsboycottke', 'RB'), ('twitter', 'NN'), ('soo', 'NN'), ('lame', 'NN'), ('froze', 'VBD'), ('hashtag', 'NN')], [('stare', 'NN'), ('raila', 'VBZ'), ('shall', 'MD'), ('revisit', 'VB'), ('shindwe', 'NN'), ('electionsboycottke', 'NN')], [('electionsboycottke', 'RB'), ('optimistic', 'JJ'), ('pessimist', 'NN')], [('electionsboycottke', 'NN'), ('nt', 'NN'), ('complain', 'NN'), ('bad', 'JJ'), ('governance', 'NN'), ('nt', 'JJ'), ('vote', 'NN'), ('obama', 'NN')], [('luyhas', 'NNS'), ('beware', 'VBP'), ('trap', 'NN'), ('electionsboycottke', 'NN')], [('electionsboycottke', 'NN'), ('kenyapoll', 'NN'), ('konnect', 'VBP'), ('really', 'RB')], [('electionsboycottke', 'NN'), ('isupportnrm', 'NN')], [('electionsboycottke', 'JJ'), ('vote', 'NN'), ('come', 'VB')], [('hii', 'NN'), ('time', 'NN'), ('ya', 'JJ'), ('erection', 'NN'), ('natafuta', 'NN'), ('tu', 'NN'), ('dem', 'NN'), ('yangu', 'NN'), ('nipige', 'JJ'), ('kupiga', 'NN'), ('electionsboycottke', 'NN')], [('voting', 'VBG'), ('four', 'CD'), ('county', 'NN'), ('far', 'RB'), ('null', 'JJ'), ('invalid', 'JJ'), ('void', 'NN'), ('electionsboycottke', 'NN')], [('electionsboycottke', 'NN'), ('na', 'TO'), ('atataka', 'VB'), ('kazi', 'JJ'), ('bure', 'NN'), ('kabisa', 'NN')], [('back', 'RB'), ('sender', 'NN'), ('electionsboycottke', 'NN'), ('wakirusha', 'NN'), ('pictwittercomwqtrqrggbd', 'NN')], [('situation', 'NN'), ('komarock', 'NN'), ('primary', 'JJ'), ('electionsboycottke', 'NN')], [('jamessmat', 'NN'), ('huge', 'JJ'), ('voter', 'NN'), ('turnout', 'NN'), ('electionsboycottke', 'NN')], [('shower', 'JJR'), ('accompany', 'NN'), ('jugdement', 'NN'), ('within', 'IN'), ('nairobi', 'JJ'), ('blessing', 'NN')], [('addition', 'NN'), ('prayer', 'NN'), ('find', 'VBP'), ('another', 'DT'), ('way', 'NN'), ('positively', 'RB'), ('engage', 'VB')], [('see', 'VB'), ('dark', 'JJ'), ('moment', 'NN'), ('nt', 'NN'), ('come', 'VB'), ('back', 'RB'), ('sens', 'NNS')], [('like', 'IN'), ('way', 'NN'), ('charles', 'NNS'), ('kanjama', 'VBP'), ('reason', 'NN'), ('bomas', 'NN')], [('http', 'NN'), ('kenyapoll', 'NN'), ('electionboycottke', 'NN')], [('cant', 'JJ'), ('wait', 'NN'), ('see', 'VBP'), ('iebc', 'JJ'), ('portal', 'JJ'), ('displaying', 'NN'), ('turnout', 'NN')], [('machakos', 'NN'), ('township', 'NN'), ('primary', 'JJ'), ('school', 'NN'), ('pictwittercomnrzyxofnvz', 'NN')], [('wishing', 'VBG'), ('comrade', 'NN'), ('kenya', 'NN'), ('swift', 'NN'), ('peaceful', 'JJ'), ('election', 'NN')], [('remains', 'NNS'), ('constitution', 'NN'), ('act', 'NN'), ('parliament', 'JJ'), ('supreme', 'JJ'), ('court', 'NN')], [('embus', 'NN'), ('mbeeres', 'VBZ'), ('serious', 'JJ'), ('confrontation', 'NN'), ('bound', 'NN'), ('get', 'VBP'), ('ugly', 'RB')], [('robertalai', 'VB'), ('one', 'CD'), ('happen', 'NN'), ('blame', 'NN'), ('insecurity', 'NN'), ('ethnichateinkenya', 'NN')], [('must', 'MD'), ('piece', 'VB'), ('recycling', 'VBG'), ('fagiawote', 'JJ'), ('bring', 'NN'), ('back', 'RP'), ('oldheads', 'NNS')], [('fagiawote', 'NN'), ('http', 'NN'), ('twittercomkresearcherst', 'NN')], [('fagiawote', 'NN'), ('http', 'NN')], [('fagiawote', 'NN'), ('http', 'NN'), ('twittercomkenyafootball', 'NN')], [('fagiawote', 'NN'), ('http', 'NN'), ('twittercomahmednasirlaw', 'NN')], [('fagiawote', 'NN'), ('http', 'NN'), ('twittercomterrikibiriti', 'NN')], [('nasa', 'NN'), ('jubilee', 'NN'), ('agree', 'VBP'), ('missing', 'VBG'), ('debate', 'NN'), ('fagiawote', 'NN'), ('debateske', 'NN')], [('fagiawote', 'NN'), ('debateske', 'NN'), ('dpmwitu', 'NN'), ('deserve', 'NN'), ('better', 'RBR'), ('leader', 'NN'), ('absent', 'JJ'), ('leader', 'NN')], [('fagiawote', 'NN'), ('http', 'NN'), ('twittercomnelsonhavista', 'NN')], [('fagiawote', 'NN'), ('http', 'NN'), ('twittercomahmednasirlaw', 'NN')], [('fagiawote', 'NN'), ('presidentialdebateke', 'NN')], [('fagiawote', 'NN'), ('http', 'NN'), ('twittercomdoreenapollos', 'NN')], [('fagiawote', 'NN'), ('eaukot', 'VBZ'), ('the', 'DT'), ('president', 'NN'), ('kenya', 'NN'), ('deserves', 'VBZ'), ('yearning', 'VBG')], [('fagiawote', 'NN'), ('http', 'NN'), ('twittercompeopledailyke', 'NN')], [('yeap', 'JJ'), ('fagiawote', 'NN'), ('need', 'VBP'), ('chap', 'NN'), ('implemented', 'VBN'), ('entirety', 'NN'), ('kenyanpundit', 'NN')], [('fagiawote', 'NN'), ('http', 'NN'), ('twittercomelvokibetstat', 'NN')], [('fagiawote', 'NN'), ('http', 'NN'), ('twittercomvickyrubadiri', 'NN')], [('perfect', 'JJ'), ('fagiawote', 'NN'), ('let', 'NN'), ('mulika', 'FW'), ('psvs', 'VB'), ('dere', 'RB'), ('wa', 'JJ'), ('akichotewa', 'NN')], [('fagiawote', 'NN'), ('http', 'NN'), ('twittercomwanjikurevolt', 'NN')], [('fagiawote', 'NN'), ('http', 'NN'), ('twittercommzalendowatch', 'NN')], [('much', 'JJ'), ('ponder', 'JJR'), ('question', 'NN'), ('weigh', 'JJ'), ('meantime', 'NN'), ('fagiawote', 'NN'), ('electionske', 'NN')], [('fagiawote', 'NN'), ('http', 'NN')], [('tunasafisha', 'NN'), ('nchi', 'CC'), ('yetu', 'NN'), ('uchafu', 'JJ'), ('hatutaki', 'NN'), ('fagiawote', 'NN')], [('fagiawote', 'NN'), ('http', 'NN'), ('twittercomsunnysunwords', 'NNS')], [('latest', 'JJS'), ('fagiawote', 'NN'), ('casualty', 'NN'), ('non', 'NN'), ('jamleck', 'NN'), ('kamau', 'NN'), ('murang', 'NN'), ('adecides', 'NNS')], [('sending', 'VBG'), ('first', 'JJ'), ('time', 'NN'), ('incumbent', 'JJ'), ('go', 'VB'), ('encourage', 'JJ'), ('looting', 'JJ'), ('culture', 'NN'), ('fagiawote', 'NN')], [('wind', 'NN'), ('strong', 'JJ'), ('governor', 'NN'), ('kidero', 'NNS'), ('say', 'VBP'), ('last', 'JJ'), ('prayer', 'NN'), ('fagiawote', 'NN')], [('fagiawote', 'NN'), ('http', 'NN')], [('heh', 'JJ'), ('fagiawote', 'NN'), ('http', 'NN'), ('twittercomkinyanboystat', 'NN')], [('pettiness', 'JJ'), ('area', 'NN'), ('showing', 'VBG'), ('regard', 'JJ'), ('fagiawote', 'NN'), ('everything', 'NN')], [('fagiawote', 'NN'), ('nandi', 'IN'), ('leading', 'VBG'), ('way', 'NN'), ('sending', 'VBG'), ('none', 'NN'), ('performer', 'NN'), ('home', 'NN')], [('fagiawote', 'NN'), ('http', 'NN'), ('twittercomcollodhiambo', 'NN')], [('congrats', 'NNS'), ('order', 'NN'), ('kibetbenardverified', 'VBD'), ('ni', 'JJ'), ('kama', 'NN'), ('pia', 'NN'), ('ume', 'JJ'), ('fagiawote', 'NN')], [('fagiawote', 'NN'), ('http', 'NN'), ('twittercomstandardkenya', 'NN')], [('polycarpigathe', 'NN'), ('resigns', 'NNS'), ('githeriman', 'NN'), ('expected', 'VBN'), ('fill', 'RB'), ('gap', 'VB'), ('tanotena', 'NN')], [('teargasman', 'NNS'), ('make', 'VBP'), ('sense', 'NN'), ('githeriman', 'NN')], [('need', 'MD'), ('trend', 'NN'), ('githeriman', 'VB'), ('kibandabae', 'JJ'), ('political', 'JJ'), ('thing', 'NN'), ('much', 'JJ')], [('kwani', 'NN'), ('githeriman', 'NN'), ('haja', 'NN'), ('vote', 'NN'), ('leo', 'JJ'), ('ama', 'NN'), ('ako', 'NN'), ('majuu', 'NN'), ('kenyapoll', 'NN'), ('electionboycottke', 'NN')], [('githeriman', 'NN'), ('kenyapoll', 'NN'), ('kenyaelection', 'NN'), ('electionsboy', 'NN'), ('kenyadecides', 'NNS')], [('go', 'VB'), ('ask', 'JJ'), ('githeriman', 'NN'), ('went', 'VBD'), ('cast', 'JJ'), ('vote', 'NN'), ('ripjubilee', 'NN')], [('heylarry', 'NN'), ('larrymadowo', 'VBZ'), ('nani', 'JJ'), ('ameambia', 'JJ'), ('hao', 'NN'), ('watu', 'NN'), ('maasai', 'NN'), ('huruka', 'NN'), ('hivyo', 'NN'), ('thetrend', 'NN')], [('hao', 'NN'), ('maasai', 'NN'), ('hawajasare', 'NN'), ('kuvuruga', 'FW'), ('magocideh', 'NN'), ('iamrapcha', 'NN'), ('shicoshix', 'NN')], [('yule', 'NN'), ('maasai', 'NN'), ('alipeleka', 'NN'), ('redio', 'NN'), ('kwa', 'NN'), ('fundus', 'NN'), ('kufungua', 'NN'), ('cockroches', 'NNS'), ('zika', 'VBP'), ('toka', 'JJ'), ('akasema', 'NN')], [('mbusih', 'NN'), ('deustanzania', 'NN'), ('nyandua', 'NN'), ('hao', 'NN'), ('wajaluo', 'NN'), ('hehehe', 'NN'), ('hehe', 'NN'), ('upus', 'JJ'), ('tu', 'NN')], [('ha', 'NN'), ('ha', 'NN'), ('ha', 'NN'), ('hao', 'NN'), ('ni', 'JJ'), ('wakikuyu', 'NN'), ('wa', 'NN'), ('kwao', 'NN'), ('nkt', 'JJ'), ('jalangomwenyewe', 'NN'), ('alexmwakideu', 'NN')], [('symokuraya', 'NN'), ('lol', 'NN'), ('yah', 'JJ'), ('price', 'NN'), ('exorbitant', 'NN'), ('hao', 'NN'), ('ni', 'IN'), ('wachinese', 'JJ'), ('wakikuyu', 'NN')], [('jalangomwenyewe', 'NN'), ('hao', 'NN'), ('wakisii', 'NN'), ('wafunguliwe', 'NN'), ('radio', 'NN'), ('station', 'NN'), ('yao', 'NN'), ('teammaishasubuhi', 'NN')], [('stop', 'VB'), ('harbouring', 'NN'), ('hatred', 'JJ'), ('hate', 'NN'), ('one', 'CD'), ('another', 'DT'), ('especially', 'RB'), ('luo', 'JJ'), ('kikuyus', 'NN')], [('seem', 'JJ'), ('hate', 'NN'), ('kikuyus', 'NNS'), ('nickname', 'JJ'), ('kikuyu', 'JJ'), ('name', 'NN'), ('chieth', 'JJ'), ('thing', 'NN')], [('would', 'MD'), ('kikuyus', 'VB'), ('taught', 'JJ'), ('hate', 'NN'), ('luo', 'NNS'), ('go', 'VBP'), ('live', 'JJ'), ('among', 'IN')]]\n"
     ]
    }
   ],
   "source": [
    "nm = []\n",
    "for x in nl:\n",
    "    nm.append(pos_tag(x))"
   ]
  },
  {
   "cell_type": "code",
   "execution_count": 92,
   "metadata": {},
   "outputs": [
    {
     "data": {
      "text/plain": [
       "[Tree('S', [('electionsboycottke', 'NN'), ('said', 'VBD'), ('chebukati', 'NNS'), ('lied', 'VBD'), ('said', 'VBD')]),\n",
       " Tree('S', [('best', 'JJS'), ('estimate', 'NN'), ('tomorrow', 'NN'), ('start', 'VB'), ('hour', 'NN'), ('electionsboycottke', 'NN')]),\n",
       " Tree('S', [('chebukati', 'NNS'), ('next', 'JJ'), ('transmission', 'NN'), ('tune', 'NN'), ('counting', 'VBG'), ('manually', 'RB'), ('electionsboycottke', 'VB')]),\n",
       " Tree('S', [('electionsboycottke', 'NN'), ('hoping', 'VBG'), ('nt', 'NNS'), ('make', 'VBP'), ('fool', 'NN'), ('chairman', 'NN')]),\n",
       " Tree('S', [('something', 'NN'), ('wrong', 'JJ'), ('wchebukati', 'JJ'), ('nt', 'JJ'), ('look', 'NN'), ('good', 'JJ'), ('electionsboycottke', 'NN')]),\n",
       " Tree('S', [('electionsboycottke', 'NN'), ('lol', 'NN'), ('ntvkenya', 'IN'), ('watching', 'VBG'), ('panel', 'NN'), ('swear', 'NN')]),\n",
       " Tree('S', [('people', 'NNS'), ('expecting', 'VBG'), ('much', 'JJ'), ('wanyonyi', 'NN'), ('though', 'IN'), ('electionsboycottke', 'NN')]),\n",
       " Tree('S', [('voter', 'NN'), ('turnout', 'NN'), ('forget', 'NN'), ('electionsboycottke', 'NN'), ('kenyapoll', 'NN')]),\n",
       " Tree('S', [('kenyaredcross', 'NN'), ('hrw', 'NN'), ('hakiknchr', 'NN'), ('reutersafrica', 'NN'), ('bbcafrica', 'NN'), ('electionsboycottke', 'NN')]),\n",
       " Tree('S', [('minus', 'CC'), ('equal', 'JJ'), ('raila', 'NN'), ('kenyapoll', 'NN'), ('electionsboycottke', 'JJ'), ('murkomen', 'NNS'), ('panafrica', 'VBP')]),\n",
       " Tree('S', [('murkomen', 'NNS'), ('uhuru', 'JJ'), ('get', 'VBP'), ('million', 'CD'), ('electionsboycottke', 'NN')]),\n",
       " Tree('S', [('bomet', 'JJ'), ('central', 'JJ'), ('kabusare', 'NN'), ('polling', 'VBG'), ('station', 'NN'), ('uhuru', 'JJ'), ('raila', 'NN'), ('electionsboycottke', 'NN')]),\n",
       " Tree('S', [('haha', 'NN'), ('must', 'MD'), ('laughing', 'VB'), ('confused', 'JJ'), ('voter', 'NN'), ('like', 'IN'), ('u', 'JJ'), ('electionsboycottke', 'NN')]),\n",
       " Tree('S', [('electionsboycottke', 'JJ'), ('election', 'NN'), ('tumemaliza', 'NN'), ('waiting', 'VBG'), ('williamsruto', 'NN')]),\n",
       " Tree('S', [('turn', 'NN'), ('lie', 'NN'), ('chebukati', 'NN'), ('bado', 'NN'), ('unashikwa', 'JJ'), ('makende', 'NN'), ('electionsboycottke', 'NN')]),\n",
       " Tree('S', [('bosase', 'NN'), ('primary', 'JJ'), ('cj', 'NN'), ('maraga', 'NN'), ('voted', 'VBD'), ('uhuru', 'JJ'), ('raila', 'NN'), ('electionsboycottke', 'NN')]),\n",
       " Tree('S', [('seems', 'VBZ'), ('kenyan', 'NNS'), ('know', 'VBP'), ('good', 'JJ'), ('country', 'NN'), ('electionsboycottke', 'NN')]),\n",
       " Tree('S', [('electionsboycottke', 'JJ'), ('vote', 'NN'), ('railaodinga', 'NN'), ('tuko', 'NN'), ('na', 'TO'), ('wewe', 'NN'), ('till', 'JJ'), ('end', 'NN')]),\n",
       " Tree('S', [('fire', 'NN'), ('met', 'VBD'), ('fire', 'JJ'), ('kipmurkomen', 'NNS'), ('kenyapoll', 'VBP'), ('electionsboycottke', 'NN')]),\n",
       " Tree('S', [('election', 'NN'), ('day', 'NN'), ('take', 'VB'), ('nearest', 'JJS'), ('bank', 'NN'), ('electionsboycottke', 'NN')]),\n",
       " Tree('S', [('murkomen', 'NNS'), ('abuse', 'VBP'), ('raila', 'JJ'), ('live', 'JJ'), ('tv', 'NN'), ('electionsboycottke', 'NN'), ('kenyaisvoting', 'NN')]),\n",
       " Tree('S', [('murkomen', 'NNS'), ('airing', 'VBG'), ('illiteracy', 'JJ'), ('national', 'JJ'), ('tv', 'NN'), ('kenyapoll', 'NN'), ('electionsboycottke', 'NN')]),\n",
       " Tree('S', [('murkomen', 'NNS'), ('said', 'VBD'), ('many', 'JJ'), ('word', 'NN'), ('air', 'NN'), ('electionsboycottke', 'NN')]),\n",
       " Tree('S', [('kipmurkomen', 'NNS'), ('face', 'VBP'), ('show', 'VBP'), ('disappointment', 'JJ'), ('truthful', 'JJ'), ('electionsboycottke', 'NN')]),\n",
       " Tree('S', [('electionsboycottke', 'JJ'), ('ama', 'NN'), ('kipmurkomen', 'NNS'), ('happy', 'JJ'), ('man', 'NN'), ('today', 'NN')]),\n",
       " Tree('S', [('electionsboycottke', 'RB'), ('twitter', 'NN'), ('soo', 'NN'), ('lame', 'NN'), ('froze', 'VBD'), ('hashtag', 'NN')]),\n",
       " Tree('S', [('stare', 'NN'), ('raila', 'VBZ'), ('shall', 'MD'), ('revisit', 'VB'), ('shindwe', 'NN'), ('electionsboycottke', 'NN')]),\n",
       " Tree('S', [('electionsboycottke', 'RB'), ('optimistic', 'JJ'), ('pessimist', 'NN')]),\n",
       " Tree('S', [('electionsboycottke', 'NN'), ('nt', 'NN'), ('complain', 'NN'), ('bad', 'JJ'), ('governance', 'NN'), ('nt', 'JJ'), ('vote', 'NN'), ('obama', 'NN')]),\n",
       " Tree('S', [('luyhas', 'NNS'), ('beware', 'VBP'), ('trap', 'NN'), ('electionsboycottke', 'NN')]),\n",
       " Tree('S', [('electionsboycottke', 'NN'), ('kenyapoll', 'NN'), ('konnect', 'VBP'), ('really', 'RB')]),\n",
       " Tree('S', [('electionsboycottke', 'NN'), ('isupportnrm', 'NN')]),\n",
       " Tree('S', [('electionsboycottke', 'JJ'), ('vote', 'NN'), ('come', 'VB')]),\n",
       " Tree('S', [('hii', 'NN'), ('time', 'NN'), ('ya', 'JJ'), ('erection', 'NN'), ('natafuta', 'NN'), ('tu', 'NN'), ('dem', 'NN'), ('yangu', 'NN'), ('nipige', 'JJ'), ('kupiga', 'NN'), ('electionsboycottke', 'NN')]),\n",
       " Tree('S', [('voting', 'VBG'), ('four', 'CD'), ('county', 'NN'), ('far', 'RB'), ('null', 'JJ'), ('invalid', 'JJ'), ('void', 'NN'), ('electionsboycottke', 'NN')]),\n",
       " Tree('S', [('electionsboycottke', 'NN'), ('na', 'TO'), ('atataka', 'VB'), ('kazi', 'JJ'), ('bure', 'NN'), ('kabisa', 'NN')]),\n",
       " Tree('S', [('back', 'RB'), ('sender', 'NN'), ('electionsboycottke', 'NN'), ('wakirusha', 'NN'), ('pictwittercomwqtrqrggbd', 'NN')]),\n",
       " Tree('S', [('situation', 'NN'), ('komarock', 'NN'), ('primary', 'JJ'), ('electionsboycottke', 'NN')]),\n",
       " Tree('S', [('jamessmat', 'NN'), ('huge', 'JJ'), ('voter', 'NN'), ('turnout', 'NN'), ('electionsboycottke', 'NN')]),\n",
       " Tree('S', [('shower', 'JJR'), ('accompany', 'NN'), ('jugdement', 'NN'), ('within', 'IN'), ('nairobi', 'JJ'), ('blessing', 'NN')]),\n",
       " Tree('S', [('addition', 'NN'), ('prayer', 'NN'), ('find', 'VBP'), ('another', 'DT'), ('way', 'NN'), ('positively', 'RB'), ('engage', 'VB')]),\n",
       " Tree('S', [('see', 'VB'), ('dark', 'JJ'), ('moment', 'NN'), ('nt', 'NN'), ('come', 'VB'), ('back', 'RB'), ('sens', 'NNS')]),\n",
       " Tree('S', [('like', 'IN'), ('way', 'NN'), ('charles', 'NNS'), ('kanjama', 'VBP'), ('reason', 'NN'), ('bomas', 'NN')]),\n",
       " Tree('S', [('http', 'NN'), ('kenyapoll', 'NN'), ('electionboycottke', 'NN')]),\n",
       " Tree('S', [('cant', 'JJ'), ('wait', 'NN'), ('see', 'VBP'), ('iebc', 'JJ'), ('portal', 'JJ'), ('displaying', 'NN'), ('turnout', 'NN')]),\n",
       " Tree('S', [('machakos', 'NN'), ('township', 'NN'), ('primary', 'JJ'), ('school', 'NN'), ('pictwittercomnrzyxofnvz', 'NN')]),\n",
       " Tree('S', [('wishing', 'VBG'), ('comrade', 'NN'), ('kenya', 'NN'), ('swift', 'NN'), ('peaceful', 'JJ'), ('election', 'NN')]),\n",
       " Tree('S', [('remains', 'NNS'), ('constitution', 'NN'), ('act', 'NN'), ('parliament', 'JJ'), ('supreme', 'JJ'), ('court', 'NN')]),\n",
       " Tree('S', [('embus', 'NN'), ('mbeeres', 'VBZ'), ('serious', 'JJ'), ('confrontation', 'NN'), ('bound', 'NN'), ('get', 'VBP'), ('ugly', 'RB')]),\n",
       " Tree('S', [('robertalai', 'VB'), ('one', 'CD'), ('happen', 'NN'), ('blame', 'NN'), ('insecurity', 'NN'), ('ethnichateinkenya', 'NN')]),\n",
       " Tree('S', [('must', 'MD'), ('piece', 'VB'), ('recycling', 'VBG'), ('fagiawote', 'JJ'), ('bring', 'NN'), ('back', 'RP'), ('oldheads', 'NNS')]),\n",
       " Tree('S', [('fagiawote', 'NN'), ('http', 'NN'), ('twittercomkresearcherst', 'NN')]),\n",
       " Tree('S', [('fagiawote', 'NN'), ('http', 'NN')]),\n",
       " Tree('S', [('fagiawote', 'NN'), ('http', 'NN'), ('twittercomkenyafootball', 'NN')]),\n",
       " Tree('S', [('fagiawote', 'NN'), ('http', 'NN'), ('twittercomahmednasirlaw', 'NN')]),\n",
       " Tree('S', [('fagiawote', 'NN'), ('http', 'NN'), ('twittercomterrikibiriti', 'NN')]),\n",
       " Tree('S', [('nasa', 'NN'), ('jubilee', 'NN'), ('agree', 'VBP'), ('missing', 'VBG'), ('debate', 'NN'), ('fagiawote', 'NN'), ('debateske', 'NN')]),\n",
       " Tree('S', [('fagiawote', 'NN'), ('debateske', 'NN'), ('dpmwitu', 'NN'), ('deserve', 'NN'), ('better', 'RBR'), ('leader', 'NN'), ('absent', 'JJ'), ('leader', 'NN')]),\n",
       " Tree('S', [('fagiawote', 'NN'), ('http', 'NN'), ('twittercomnelsonhavista', 'NN')]),\n",
       " Tree('S', [('fagiawote', 'NN'), ('http', 'NN'), ('twittercomahmednasirlaw', 'NN')]),\n",
       " Tree('S', [('fagiawote', 'NN'), ('presidentialdebateke', 'NN')]),\n",
       " Tree('S', [('fagiawote', 'NN'), ('http', 'NN'), ('twittercomdoreenapollos', 'NN')]),\n",
       " Tree('S', [('fagiawote', 'NN'), ('eaukot', 'VBZ'), ('the', 'DT'), ('president', 'NN'), ('kenya', 'NN'), ('deserves', 'VBZ'), ('yearning', 'VBG')]),\n",
       " Tree('S', [('fagiawote', 'NN'), ('http', 'NN'), ('twittercompeopledailyke', 'NN')]),\n",
       " Tree('S', [('yeap', 'JJ'), ('fagiawote', 'NN'), ('need', 'VBP'), ('chap', 'NN'), ('implemented', 'VBN'), ('entirety', 'NN'), ('kenyanpundit', 'NN')]),\n",
       " Tree('S', [('fagiawote', 'NN'), ('http', 'NN'), ('twittercomelvokibetstat', 'NN')]),\n",
       " Tree('S', [('fagiawote', 'NN'), ('http', 'NN'), ('twittercomvickyrubadiri', 'NN')]),\n",
       " Tree('S', [('perfect', 'JJ'), ('fagiawote', 'NN'), ('let', 'NN'), ('mulika', 'FW'), ('psvs', 'VB'), ('dere', 'RB'), ('wa', 'JJ'), ('akichotewa', 'NN')]),\n",
       " Tree('S', [('fagiawote', 'NN'), ('http', 'NN'), ('twittercomwanjikurevolt', 'NN')]),\n",
       " Tree('S', [('fagiawote', 'NN'), ('http', 'NN'), ('twittercommzalendowatch', 'NN')]),\n",
       " Tree('S', [('much', 'JJ'), ('ponder', 'JJR'), ('question', 'NN'), ('weigh', 'JJ'), ('meantime', 'NN'), ('fagiawote', 'NN'), ('electionske', 'NN')]),\n",
       " Tree('S', [('fagiawote', 'NN'), ('http', 'NN')]),\n",
       " Tree('S', [('tunasafisha', 'NN'), ('nchi', 'CC'), ('yetu', 'NN'), ('uchafu', 'JJ'), ('hatutaki', 'NN'), ('fagiawote', 'NN')]),\n",
       " Tree('S', [('fagiawote', 'NN'), ('http', 'NN'), ('twittercomsunnysunwords', 'NNS')]),\n",
       " Tree('S', [('latest', 'JJS'), ('fagiawote', 'NN'), ('casualty', 'NN'), ('non', 'NN'), ('jamleck', 'NN'), ('kamau', 'NN'), ('murang', 'NN'), ('adecides', 'NNS')]),\n",
       " Tree('S', [('sending', 'VBG'), ('first', 'JJ'), ('time', 'NN'), ('incumbent', 'JJ'), ('go', 'VB'), ('encourage', 'JJ'), ('looting', 'JJ'), ('culture', 'NN'), ('fagiawote', 'NN')]),\n",
       " Tree('S', [('wind', 'NN'), ('strong', 'JJ'), ('governor', 'NN'), ('kidero', 'NNS'), ('say', 'VBP'), ('last', 'JJ'), ('prayer', 'NN'), ('fagiawote', 'NN')]),\n",
       " Tree('S', [('fagiawote', 'NN'), ('http', 'NN')]),\n",
       " Tree('S', [('heh', 'JJ'), ('fagiawote', 'NN'), ('http', 'NN'), ('twittercomkinyanboystat', 'NN')]),\n",
       " Tree('S', [('pettiness', 'JJ'), ('area', 'NN'), ('showing', 'VBG'), ('regard', 'JJ'), ('fagiawote', 'NN'), ('everything', 'NN')]),\n",
       " Tree('S', [('fagiawote', 'NN'), ('nandi', 'IN'), ('leading', 'VBG'), ('way', 'NN'), ('sending', 'VBG'), ('none', 'NN'), ('performer', 'NN'), ('home', 'NN')]),\n",
       " Tree('S', [('fagiawote', 'NN'), ('http', 'NN'), ('twittercomcollodhiambo', 'NN')]),\n",
       " Tree('S', [('congrats', 'NNS'), ('order', 'NN'), ('kibetbenardverified', 'VBD'), ('ni', 'JJ'), ('kama', 'NN'), ('pia', 'NN'), ('ume', 'JJ'), ('fagiawote', 'NN')]),\n",
       " Tree('S', [('fagiawote', 'NN'), ('http', 'NN'), ('twittercomstandardkenya', 'NN')]),\n",
       " Tree('S', [('polycarpigathe', 'NN'), ('resigns', 'NNS'), ('githeriman', 'NN'), ('expected', 'VBN'), ('fill', 'RB'), ('gap', 'VB'), ('tanotena', 'NN')]),\n",
       " Tree('S', [('teargasman', 'NNS'), ('make', 'VBP'), ('sense', 'NN'), ('githeriman', 'NN')]),\n",
       " Tree('S', [('need', 'MD'), ('trend', 'NN'), ('githeriman', 'VB'), ('kibandabae', 'JJ'), ('political', 'JJ'), ('thing', 'NN'), ('much', 'JJ')]),\n",
       " Tree('S', [('kwani', 'NN'), ('githeriman', 'NN'), ('haja', 'NN'), ('vote', 'NN'), ('leo', 'JJ'), ('ama', 'NN'), ('ako', 'NN'), ('majuu', 'NN'), ('kenyapoll', 'NN'), ('electionboycottke', 'NN')]),\n",
       " Tree('S', [('githeriman', 'NN'), ('kenyapoll', 'NN'), ('kenyaelection', 'NN'), ('electionsboy', 'NN'), ('kenyadecides', 'NNS')]),\n",
       " Tree('S', [('go', 'VB'), ('ask', 'JJ'), ('githeriman', 'NN'), ('went', 'VBD'), ('cast', 'JJ'), ('vote', 'NN'), ('ripjubilee', 'NN')]),\n",
       " Tree('S', [('heylarry', 'NN'), ('larrymadowo', 'VBZ'), ('nani', 'JJ'), ('ameambia', 'JJ'), ('hao', 'NN'), ('watu', 'NN'), ('maasai', 'NN'), ('huruka', 'NN'), ('hivyo', 'NN'), ('thetrend', 'NN')]),\n",
       " Tree('S', [('hao', 'NN'), ('maasai', 'NN'), ('hawajasare', 'NN'), ('kuvuruga', 'FW'), ('magocideh', 'NN'), ('iamrapcha', 'NN'), ('shicoshix', 'NN')]),\n",
       " Tree('S', [('yule', 'NN'), ('maasai', 'NN'), ('alipeleka', 'NN'), ('redio', 'NN'), ('kwa', 'NN'), ('fundus', 'NN'), ('kufungua', 'NN'), ('cockroches', 'NNS'), ('zika', 'VBP'), ('toka', 'JJ'), ('akasema', 'NN')]),\n",
       " Tree('S', [('mbusih', 'NN'), ('deustanzania', 'NN'), ('nyandua', 'NN'), ('hao', 'NN'), ('wajaluo', 'NN'), ('hehehe', 'NN'), ('hehe', 'NN'), ('upus', 'JJ'), ('tu', 'NN')]),\n",
       " Tree('S', [('ha', 'NN'), ('ha', 'NN'), ('ha', 'NN'), ('hao', 'NN'), ('ni', 'JJ'), ('wakikuyu', 'NN'), ('wa', 'NN'), ('kwao', 'NN'), ('nkt', 'JJ'), ('jalangomwenyewe', 'NN'), ('alexmwakideu', 'NN')]),\n",
       " Tree('S', [('symokuraya', 'NN'), ('lol', 'NN'), ('yah', 'JJ'), ('price', 'NN'), ('exorbitant', 'NN'), ('hao', 'NN'), ('ni', 'IN'), ('wachinese', 'JJ'), ('wakikuyu', 'NN')]),\n",
       " Tree('S', [('jalangomwenyewe', 'NN'), ('hao', 'NN'), ('wakisii', 'NN'), ('wafunguliwe', 'NN'), ('radio', 'NN'), ('station', 'NN'), ('yao', 'NN'), ('teammaishasubuhi', 'NN')]),\n",
       " Tree('S', [('stop', 'VB'), ('harbouring', 'NN'), ('hatred', 'JJ'), ('hate', 'NN'), ('one', 'CD'), ('another', 'DT'), ('especially', 'RB'), ('luo', 'JJ'), ('kikuyus', 'NN')]),\n",
       " Tree('S', [('seem', 'JJ'), ('hate', 'NN'), ('kikuyus', 'NNS'), ('nickname', 'JJ'), ('kikuyu', 'JJ'), ('name', 'NN'), ('chieth', 'JJ'), ('thing', 'NN')]),\n",
       " Tree('S', [('would', 'MD'), ('kikuyus', 'VB'), ('taught', 'JJ'), ('hate', 'NN'), ('luo', 'NNS'), ('go', 'VBP'), ('live', 'JJ'), ('among', 'IN')])]"
      ]
     },
     "execution_count": 92,
     "metadata": {},
     "output_type": "execute_result"
    }
   ],
   "source": [
    "# Named Entity recognition\n",
    "import nltk\n",
    "nn = []\n",
    "for x in nm:\n",
    "    nn.append(nltk.ne_chunk(x, binary=False))\n",
    "nn"
   ]
  },
  {
   "cell_type": "code",
   "execution_count": null,
   "metadata": {},
   "outputs": [],
   "source": []
  }
 ],
 "metadata": {
  "kernelspec": {
   "display_name": "Python 3",
   "language": "python",
   "name": "python3"
  },
  "language_info": {
   "codemirror_mode": {
    "name": "ipython",
    "version": 3
   },
   "file_extension": ".py",
   "mimetype": "text/x-python",
   "name": "python",
   "nbconvert_exporter": "python",
   "pygments_lexer": "ipython3",
   "version": "3.6.9"
  }
 },
 "nbformat": 4,
 "nbformat_minor": 4
}
