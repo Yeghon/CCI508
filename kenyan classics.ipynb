{
 "cells": [
  {
   "cell_type": "code",
   "execution_count": 8,
   "metadata": {},
   "outputs": [],
   "source": [
    "import pandas as pd\n",
    "import numpy as np\n",
    "import matplotlib.pyplot as plt\n",
    "%matplotlib inline\n",
    "from nltk.corpus import stopwords\n",
    "from nltk.tokenize import word_tokenize\n",
    "from selenium import webdriver"
   ]
  },
  {
   "cell_type": "code",
   "execution_count": 43,
   "metadata": {},
   "outputs": [],
   "source": [
    "class ScrapClassicsLyrics:\n",
    "    \n",
    "    def __init__(self, link):\n",
    "        self.link = link\n",
    "        self.driver = webdriver.Firefox(executable_path = '/usr/local/share/geckodriver')\n",
    "#         driver = webdriver.Chrome(\"/usr/lib/chromium-browser/chromedriver\") #Chromium driver\n",
    "        pass\n",
    "    \n",
    "    def scrapSong(self, link):\n",
    "        self.driver.get(self.link)\n",
    "        try:\n",
    "            for x in self.driver.find_elements_by_id('lyric-content'):\n",
    "                return x.text\n",
    "            pass\n",
    "        except:\n",
    "            return \"Could not extract lyrics\"\n",
    "        finally:\n",
    "            self.driver.quit()\n",
    "        pass     "
   ]
  },
  {
   "cell_type": "code",
   "execution_count": null,
   "metadata": {},
   "outputs": [],
   "source": []
  },
  {
   "cell_type": "code",
   "execution_count": 44,
   "metadata": {},
   "outputs": [
    {
     "data": {
      "text/plain": [
       "['0\\nSHARES\\nShare\\nTweet\\n\\nIntro\\nTumekuja, kuparty, Dj hebu weka tracky\\nTukule hepi, halafu, tufungue sakafu\\nSababu inabamba, inashika \\nWingu la tisa, inatufikisha\\nUkiachilia mahewa, maze Dj unatubeba\\n\\nChorus \\nAh (Uuuiih) boom boo-mba boom boom boom boo-mba\\n(aiyaah) boom boo-mba boomba boomba aah \\n\\nVerse 1\\n(E-sir)\\nKaribia, inakubamba, vipi dada, shaky your nanda\\nNinakutouch touch, usi relax-lax \\nKwenye dance floor, show us your work work \\nUnanoki, hauchoki, kwenye dance floor, hautoki  \\nUnahisi, hii muziki, unahisi, Nameless na mimi\\n(Nameless)\\nIts Nameless, (AH!) na E-sir, in conjunction with Ogopa\\ntumekuja kuhakikisha, kwamba spika zinasikika\\nHey you Mister are you a member\\nHey you sister wacha kulenga\\ncant you see that I’m talking to you\\nsasa weka mikono juu\\n\\nChorus \\nAh (Uuuiih) boom boo-mba boom boom boom boo-mba\\n(aiyaah) boom boo-mba boom boom boom boo-mba\\nUkikatika na hii ng’oma\\nJust be cool as a cucumber\\n\\nVerse 2\\n(E-Sir)\\nAaaaaaaah (Hallo nameless uko freshy lakini)\\nTwende  \\nWewe yeye, yeye wewe, vice versa\\nVile wataka, mister brother wacha kuzubaa  \\nUki sleki hautapata, fungua macho\\nFloor ni yako, cheza wimbo kama ni wako\\nCheza wimbo kama ni wako, sababu huu wimbo ni wako\\n(Nameless) E-Sir hatucheki na watu\\n(E-Sir) Nameless hatucheki na watu\\n(Nameless) Ma M.C. hatucheki na watu\\nOgopa hatucheki na watu\\n(E-Sir) Unahisi hizi flow za Africa (aha)  \\nUnahisi kama unakatika (aha)  \\nCan you feel this front to the rear (aha)\\nCan you feel this up in here\\n\\nChorus \\nAh (Uuuiih) boom boo-mba boom boom boom boo-mba\\n(aiyaah) boom boo-mba boom boom boom boo-mba\\nUkikatika na hii ng’oma\\njust be cool as a cucumber\\n\\nBridge (E-Sir)\\nTumekuja, kuparty, ambia wenzetu samahani\\nHawako nasi, hatuko nao, basi wametupa mbao,\\nSababu inabamba, inashika \\nWingu la tisa, inatufikisha\\nUkiachilia mahewa, maze Dj unatubeba\\n\\nChorus \\nAh (Uuuiih) boom boo-mba boom boom boom boo-mba\\n(aiyaah) boom boo-mba boomba boomba aah \\n\\nAh (Uuuiih) boom boo-mba boom boom boom boo-mba\\n(aiyaah) boom boo-mba boom boom boom boo-mba\\nUkikatika na hii ng’oma\\nJust be cool as a cucumber']"
      ]
     },
     "execution_count": 44,
     "metadata": {},
     "output_type": "execute_result"
    }
   ],
   "source": [
    "'''Set up song urls to be used when fetching lyrics'''\n",
    "# base_url = 'https://genius.com/'\n",
    "base_url = 'https://afrikalyrics.com/'\n",
    "tail = '-lyrics'\n",
    "lyrics_urls = ['e-sir-boomba-train']\n",
    "# lyrics_urls = ['E-sir-boomba-train', 'Gidigidi-majimaji-unbwogable', \n",
    "#                'E-sir-moss-moss', 'Mr-googz-githurai', 'Kleptomaniax-tuendelee',\n",
    "#               'E-sir-kamata']\n",
    "classics = []\n",
    "for x in lyrics_urls:\n",
    "    song = ScrapClassicsLyrics('https://kasilyrics.co.za/e-sir-ft-nameless-boomba-train-lyrics/')\n",
    "    classics.append(song.scrapSong(song.link))\n",
    "    pass\n",
    "classics"
   ]
  },
  {
   "cell_type": "code",
   "execution_count": null,
   "metadata": {},
   "outputs": [],
   "source": []
  },
  {
   "cell_type": "code",
   "execution_count": null,
   "metadata": {},
   "outputs": [],
   "source": []
  },
  {
   "cell_type": "code",
   "execution_count": 3,
   "metadata": {},
   "outputs": [
    {
     "data": {
      "text/html": [
       "<div>\n",
       "<style scoped>\n",
       "    .dataframe tbody tr th:only-of-type {\n",
       "        vertical-align: middle;\n",
       "    }\n",
       "\n",
       "    .dataframe tbody tr th {\n",
       "        vertical-align: top;\n",
       "    }\n",
       "\n",
       "    .dataframe thead th {\n",
       "        text-align: right;\n",
       "    }\n",
       "</style>\n",
       "<table border=\"1\" class=\"dataframe\">\n",
       "  <thead>\n",
       "    <tr style=\"text-align: right;\">\n",
       "      <th></th>\n",
       "      <th>artist</th>\n",
       "      <th>lyrics</th>\n",
       "    </tr>\n",
       "  </thead>\n",
       "  <tbody>\n",
       "    <tr>\n",
       "      <th>0</th>\n",
       "      <td>E-sir feat Nameless</td>\n",
       "      <td>Tumekuja ku-party, DJ hebu weka tracky</td>\n",
       "    </tr>\n",
       "    <tr>\n",
       "      <th>1</th>\n",
       "      <td>Lenny, Mr. Googz, vinnie banton</td>\n",
       "      <td>Intro (Lenny)</td>\n",
       "    </tr>\n",
       "    <tr>\n",
       "      <th>2</th>\n",
       "      <td>gidigidi majimaji</td>\n",
       "      <td>Okok Primary School, ewi got</td>\n",
       "    </tr>\n",
       "    <tr>\n",
       "      <th>3</th>\n",
       "      <td>sema</td>\n",
       "      <td>asubuhi naamka</td>\n",
       "    </tr>\n",
       "    <tr>\n",
       "      <th>4</th>\n",
       "      <td>Nameless ft amani</td>\n",
       "      <td>Ninanoki, ninanoki nikisikia hii muziki... Mim...</td>\n",
       "    </tr>\n",
       "  </tbody>\n",
       "</table>\n",
       "</div>"
      ],
      "text/plain": [
       "                            artist  \\\n",
       "0              E-sir feat Nameless   \n",
       "1  Lenny, Mr. Googz, vinnie banton   \n",
       "2                gidigidi majimaji   \n",
       "3                             sema   \n",
       "4               Nameless ft amani    \n",
       "\n",
       "                                              lyrics  \n",
       "0             Tumekuja ku-party, DJ hebu weka tracky  \n",
       "1                                      Intro (Lenny)  \n",
       "2                       Okok Primary School, ewi got  \n",
       "3                                     asubuhi naamka  \n",
       "4  Ninanoki, ninanoki nikisikia hii muziki... Mim...  "
      ]
     },
     "execution_count": 3,
     "metadata": {},
     "output_type": "execute_result"
    }
   ],
   "source": [
    "df = pd.read_csv(\"kenyanclassics.csv\")\n",
    "df.head(20)"
   ]
  },
  {
   "cell_type": "code",
   "execution_count": 8,
   "metadata": {},
   "outputs": [
    {
     "data": {
      "text/plain": [
       "artist                       E-sir feat Nameless\n",
       "lyrics    Tumekuja ku-party, DJ hebu weka tracky\n",
       "Name: 0, dtype: object"
      ]
     },
     "execution_count": 8,
     "metadata": {},
     "output_type": "execute_result"
    }
   ],
   "source": [
    "song_1 = df.loc[0]\n",
    "song_1"
   ]
  },
  {
   "cell_type": "code",
   "execution_count": 9,
   "metadata": {},
   "outputs": [
    {
     "data": {
      "text/plain": [
       "artist                       E-sir feat Nameless\n",
       "lyrics    Tumekuja ku-party, DJ hebu weka tracky\n",
       "Name: 0, dtype: object"
      ]
     },
     "execution_count": 9,
     "metadata": {},
     "output_type": "execute_result"
    }
   ],
   "source": [
    "song_1.head()"
   ]
  },
  {
   "cell_type": "code",
   "execution_count": 10,
   "metadata": {},
   "outputs": [
    {
     "data": {
      "text/plain": [
       "'Tumekuja ku-party, DJ hebu weka tracky'"
      ]
     },
     "execution_count": 10,
     "metadata": {},
     "output_type": "execute_result"
    }
   ],
   "source": [
    "s1_lyrics = song_1[1]\n",
    "s1_lyrics"
   ]
  },
  {
   "cell_type": "code",
   "execution_count": 11,
   "metadata": {},
   "outputs": [],
   "source": [
    "song1 = '''Tumekuja ku-party, DJ hebu weka tracky\n",
    "Tukule hepi halafu tufungue sakafu\n",
    "\n",
    "Sababu inabamba, inashika\n",
    "Wingu la tisa inatufikisha\n",
    "Ukiachilia mahewa, manze, DJ unatubeba\n",
    "\n",
    "Ah (Uu-wii!)\n",
    "Boom-boom-ba\n",
    "Boom-boom-boom-boom-ba (Ai-yah)\n",
    "Boom-boom-ba\n",
    "Boom-ba-boom-ba-ah\n",
    "Boom-boom-ba\n",
    "Boom-boom-boom-boom-ba (Ai-yah)\n",
    "Boom-boom-ba\n",
    "Boom-ba-boom-ba\n",
    "(Ahhh!)\n",
    "\n",
    "Karibia, inakubamba\n",
    "Vipi dada, shake hiyo nanda\n",
    "Inaku-touch-touch, usi-relax-lax\n",
    "Kwenye dance floor, show us your work-work\n",
    "Unanoki, hauchoki, kwenye dance floor, hautoki\n",
    "Unahisi hii mziki?\n",
    "Unahisi Nameless na mimi?\n",
    "It's Nameless (Ah!)\n",
    "And E-Sir, in conjunction with Ogopa\n",
    "Tumekuja kuhakikisha kwamba speaker zinasikika\n",
    "Hey, you, mister! Are you a member?\n",
    "Hey, you, sister! Wacha kulenga!\n",
    "Can't you see that I’m talking to you?\n",
    "Sasa weka mikono juu!\n",
    "\n",
    "Ah (Uu-wii!)\n",
    "Boom-boom-ba\n",
    "Boom-boom-boom-boom-ba (Ai-yah)\n",
    "Boom-boom-ba\n",
    "Ukikatika na hii ngoma\n",
    "Just be cool as a cucumber\n",
    "(Ahhh!)\n",
    "\n",
    "(Hello, Nameless, uko fresh lakini?)\n",
    "Twende\n",
    "Wewe, yeye, yeye, wewe\n",
    "Vice versa, vile wataka\n",
    "Mister, brother, wacha kuzubaa\n",
    "Ukisleki hautapata\n",
    "Fungua macho, floor ni yako\n",
    "Cheza wimbo kama ni wako\n",
    "Cheza wimbo kama ni wako, sababu huu wimbo ni wako\n",
    "E-Sir, hatucheki na watu\n",
    "Nameless, hatucheki na watu\n",
    "Ma-emcee, hatucheki na watu\n",
    "Ogopa, hatucheki na watu\n",
    "Unahisi hizi flow za Africa? (Uh-huh)\n",
    "Unahisi kama unakatika? (Uh-huh)\n",
    "Can you feel this, front to the rear? (Uh-huh)\n",
    "Can you feel this up in here?\n",
    "Ah (Uu-wii!)\n",
    "Boom-boom-ba\n",
    "Boom-boom-boom-boom-ba (Ai-yah)\n",
    "Boom-boom-ba\n",
    "Ukikatika na hii ngoma\n",
    "Just be cool as a cucumber\n",
    "(Ahhh!)\n",
    "\n",
    "Na tumekuja ku-party, ambia wenzetu, \"Samahani\"\n",
    "Hawako nasi, hatuko nao, basi wametupa mbao\n",
    "\n",
    "Sababu inabamba, inashika\n",
    "Wingu la tisa inatufikisha\n",
    "Ukiachilia mahewa, manze, DJ unatubeba\n",
    "\n",
    "Ah (Uu-wii!)\n",
    "Boom-boom-ba\n",
    "Boom-boom-boom-boom-ba (Ai-yah)\n",
    "Boom-boom-ba\n",
    "Boom-ba-boom-ba-ah\n",
    "Boom-boom-ba\n",
    "Boom-boom-boom-boom-ba (Ai-yah)\n",
    "Boom-boom-ba\n",
    "Ukikatika na hii ngoma\n",
    "Just be cool as a cucumber\n",
    "(Ah! Ah! Ah! Ah!)\n",
    "Ukikatika na hii ngoma\n",
    "Just be cool as a cucumber\n",
    "(Ahhh!)'''"
   ]
  },
  {
   "cell_type": "code",
   "execution_count": 12,
   "metadata": {},
   "outputs": [],
   "source": [
    "import nltk"
   ]
  },
  {
   "cell_type": "code",
   "execution_count": 13,
   "metadata": {},
   "outputs": [
    {
     "data": {
      "text/plain": [
       "['Tumekuja',\n",
       " 'ku-party',\n",
       " ',',\n",
       " 'DJ',\n",
       " 'hebu',\n",
       " 'weka',\n",
       " 'tracky',\n",
       " 'Tukule',\n",
       " 'hepi',\n",
       " 'halafu',\n",
       " 'tufungue',\n",
       " 'sakafu',\n",
       " 'Sababu',\n",
       " 'inabamba',\n",
       " ',',\n",
       " 'inashika',\n",
       " 'Wingu',\n",
       " 'la',\n",
       " 'tisa',\n",
       " 'inatufikisha',\n",
       " 'Ukiachilia',\n",
       " 'mahewa',\n",
       " ',',\n",
       " 'manze',\n",
       " ',',\n",
       " 'DJ',\n",
       " 'unatubeba',\n",
       " 'Ah',\n",
       " '(',\n",
       " 'Uu-wii',\n",
       " '!',\n",
       " ')',\n",
       " 'Boom-boom-ba',\n",
       " 'Boom-boom-boom-boom-ba',\n",
       " '(',\n",
       " 'Ai-yah',\n",
       " ')',\n",
       " 'Boom-boom-ba',\n",
       " 'Boom-ba-boom-ba-ah',\n",
       " 'Boom-boom-ba',\n",
       " 'Boom-boom-boom-boom-ba',\n",
       " '(',\n",
       " 'Ai-yah',\n",
       " ')',\n",
       " 'Boom-boom-ba',\n",
       " 'Boom-ba-boom-ba',\n",
       " '(',\n",
       " 'Ahhh',\n",
       " '!',\n",
       " ')',\n",
       " 'Karibia',\n",
       " ',',\n",
       " 'inakubamba',\n",
       " 'Vipi',\n",
       " 'dada',\n",
       " ',',\n",
       " 'shake',\n",
       " 'hiyo',\n",
       " 'nanda',\n",
       " 'Inaku-touch-touch',\n",
       " ',',\n",
       " 'usi-relax-lax',\n",
       " 'Kwenye',\n",
       " 'dance',\n",
       " 'floor',\n",
       " ',',\n",
       " 'show',\n",
       " 'us',\n",
       " 'your',\n",
       " 'work-work',\n",
       " 'Unanoki',\n",
       " ',',\n",
       " 'hauchoki',\n",
       " ',',\n",
       " 'kwenye',\n",
       " 'dance',\n",
       " 'floor',\n",
       " ',',\n",
       " 'hautoki',\n",
       " 'Unahisi',\n",
       " 'hii',\n",
       " 'mziki',\n",
       " '?',\n",
       " 'Unahisi',\n",
       " 'Nameless',\n",
       " 'na',\n",
       " 'mimi',\n",
       " '?',\n",
       " 'It',\n",
       " \"'s\",\n",
       " 'Nameless',\n",
       " '(',\n",
       " 'Ah',\n",
       " '!',\n",
       " ')',\n",
       " 'And',\n",
       " 'E-Sir',\n",
       " ',',\n",
       " 'in',\n",
       " 'conjunction',\n",
       " 'with',\n",
       " 'Ogopa',\n",
       " 'Tumekuja',\n",
       " 'kuhakikisha',\n",
       " 'kwamba',\n",
       " 'speaker',\n",
       " 'zinasikika',\n",
       " 'Hey',\n",
       " ',',\n",
       " 'you',\n",
       " ',',\n",
       " 'mister',\n",
       " '!',\n",
       " 'Are',\n",
       " 'you',\n",
       " 'a',\n",
       " 'member',\n",
       " '?',\n",
       " 'Hey',\n",
       " ',',\n",
       " 'you',\n",
       " ',',\n",
       " 'sister',\n",
       " '!',\n",
       " 'Wacha',\n",
       " 'kulenga',\n",
       " '!',\n",
       " 'Ca',\n",
       " \"n't\",\n",
       " 'you',\n",
       " 'see',\n",
       " 'that',\n",
       " 'I',\n",
       " '’',\n",
       " 'm',\n",
       " 'talking',\n",
       " 'to',\n",
       " 'you',\n",
       " '?',\n",
       " 'Sasa',\n",
       " 'weka',\n",
       " 'mikono',\n",
       " 'juu',\n",
       " '!',\n",
       " 'Ah',\n",
       " '(',\n",
       " 'Uu-wii',\n",
       " '!',\n",
       " ')',\n",
       " 'Boom-boom-ba',\n",
       " 'Boom-boom-boom-boom-ba',\n",
       " '(',\n",
       " 'Ai-yah',\n",
       " ')',\n",
       " 'Boom-boom-ba',\n",
       " 'Ukikatika',\n",
       " 'na',\n",
       " 'hii',\n",
       " 'ngoma',\n",
       " 'Just',\n",
       " 'be',\n",
       " 'cool',\n",
       " 'as',\n",
       " 'a',\n",
       " 'cucumber',\n",
       " '(',\n",
       " 'Ahhh',\n",
       " '!',\n",
       " ')',\n",
       " '(',\n",
       " 'Hello',\n",
       " ',',\n",
       " 'Nameless',\n",
       " ',',\n",
       " 'uko',\n",
       " 'fresh',\n",
       " 'lakini',\n",
       " '?',\n",
       " ')',\n",
       " 'Twende',\n",
       " 'Wewe',\n",
       " ',',\n",
       " 'yeye',\n",
       " ',',\n",
       " 'yeye',\n",
       " ',',\n",
       " 'wewe',\n",
       " 'Vice',\n",
       " 'versa',\n",
       " ',',\n",
       " 'vile',\n",
       " 'wataka',\n",
       " 'Mister',\n",
       " ',',\n",
       " 'brother',\n",
       " ',',\n",
       " 'wacha',\n",
       " 'kuzubaa',\n",
       " 'Ukisleki',\n",
       " 'hautapata',\n",
       " 'Fungua',\n",
       " 'macho',\n",
       " ',',\n",
       " 'floor',\n",
       " 'ni',\n",
       " 'yako',\n",
       " 'Cheza',\n",
       " 'wimbo',\n",
       " 'kama',\n",
       " 'ni',\n",
       " 'wako',\n",
       " 'Cheza',\n",
       " 'wimbo',\n",
       " 'kama',\n",
       " 'ni',\n",
       " 'wako',\n",
       " ',',\n",
       " 'sababu',\n",
       " 'huu',\n",
       " 'wimbo',\n",
       " 'ni',\n",
       " 'wako',\n",
       " 'E-Sir',\n",
       " ',',\n",
       " 'hatucheki',\n",
       " 'na',\n",
       " 'watu',\n",
       " 'Nameless',\n",
       " ',',\n",
       " 'hatucheki',\n",
       " 'na',\n",
       " 'watu',\n",
       " 'Ma-emcee',\n",
       " ',',\n",
       " 'hatucheki',\n",
       " 'na',\n",
       " 'watu',\n",
       " 'Ogopa',\n",
       " ',',\n",
       " 'hatucheki',\n",
       " 'na',\n",
       " 'watu',\n",
       " 'Unahisi',\n",
       " 'hizi',\n",
       " 'flow',\n",
       " 'za',\n",
       " 'Africa',\n",
       " '?',\n",
       " '(',\n",
       " 'Uh-huh',\n",
       " ')',\n",
       " 'Unahisi',\n",
       " 'kama',\n",
       " 'unakatika',\n",
       " '?',\n",
       " '(',\n",
       " 'Uh-huh',\n",
       " ')',\n",
       " 'Can',\n",
       " 'you',\n",
       " 'feel',\n",
       " 'this',\n",
       " ',',\n",
       " 'front',\n",
       " 'to',\n",
       " 'the',\n",
       " 'rear',\n",
       " '?',\n",
       " '(',\n",
       " 'Uh-huh',\n",
       " ')',\n",
       " 'Can',\n",
       " 'you',\n",
       " 'feel',\n",
       " 'this',\n",
       " 'up',\n",
       " 'in',\n",
       " 'here',\n",
       " '?',\n",
       " 'Ah',\n",
       " '(',\n",
       " 'Uu-wii',\n",
       " '!',\n",
       " ')',\n",
       " 'Boom-boom-ba',\n",
       " 'Boom-boom-boom-boom-ba',\n",
       " '(',\n",
       " 'Ai-yah',\n",
       " ')',\n",
       " 'Boom-boom-ba',\n",
       " 'Ukikatika',\n",
       " 'na',\n",
       " 'hii',\n",
       " 'ngoma',\n",
       " 'Just',\n",
       " 'be',\n",
       " 'cool',\n",
       " 'as',\n",
       " 'a',\n",
       " 'cucumber',\n",
       " '(',\n",
       " 'Ahhh',\n",
       " '!',\n",
       " ')',\n",
       " 'Na',\n",
       " 'tumekuja',\n",
       " 'ku-party',\n",
       " ',',\n",
       " 'ambia',\n",
       " 'wenzetu',\n",
       " ',',\n",
       " '``',\n",
       " 'Samahani',\n",
       " \"''\",\n",
       " 'Hawako',\n",
       " 'nasi',\n",
       " ',',\n",
       " 'hatuko',\n",
       " 'nao',\n",
       " ',',\n",
       " 'basi',\n",
       " 'wametupa',\n",
       " 'mbao',\n",
       " 'Sababu',\n",
       " 'inabamba',\n",
       " ',',\n",
       " 'inashika',\n",
       " 'Wingu',\n",
       " 'la',\n",
       " 'tisa',\n",
       " 'inatufikisha',\n",
       " 'Ukiachilia',\n",
       " 'mahewa',\n",
       " ',',\n",
       " 'manze',\n",
       " ',',\n",
       " 'DJ',\n",
       " 'unatubeba',\n",
       " 'Ah',\n",
       " '(',\n",
       " 'Uu-wii',\n",
       " '!',\n",
       " ')',\n",
       " 'Boom-boom-ba',\n",
       " 'Boom-boom-boom-boom-ba',\n",
       " '(',\n",
       " 'Ai-yah',\n",
       " ')',\n",
       " 'Boom-boom-ba',\n",
       " 'Boom-ba-boom-ba-ah',\n",
       " 'Boom-boom-ba',\n",
       " 'Boom-boom-boom-boom-ba',\n",
       " '(',\n",
       " 'Ai-yah',\n",
       " ')',\n",
       " 'Boom-boom-ba',\n",
       " 'Ukikatika',\n",
       " 'na',\n",
       " 'hii',\n",
       " 'ngoma',\n",
       " 'Just',\n",
       " 'be',\n",
       " 'cool',\n",
       " 'as',\n",
       " 'a',\n",
       " 'cucumber',\n",
       " '(',\n",
       " 'Ah',\n",
       " '!',\n",
       " 'Ah',\n",
       " '!',\n",
       " 'Ah',\n",
       " '!',\n",
       " 'Ah',\n",
       " '!',\n",
       " ')',\n",
       " 'Ukikatika',\n",
       " 'na',\n",
       " 'hii',\n",
       " 'ngoma',\n",
       " 'Just',\n",
       " 'be',\n",
       " 'cool',\n",
       " 'as',\n",
       " 'a',\n",
       " 'cucumber',\n",
       " '(',\n",
       " 'Ahhh',\n",
       " '!',\n",
       " ')']"
      ]
     },
     "execution_count": 13,
     "metadata": {},
     "output_type": "execute_result"
    }
   ],
   "source": [
    "tokenized = nltk.word_tokenize(song1)\n",
    "tokenized"
   ]
  },
  {
   "cell_type": "code",
   "execution_count": 15,
   "metadata": {},
   "outputs": [
    {
     "data": {
      "text/plain": [
       "FreqDist({',': 38, '(': 20, ')': 20, '!': 17, 'Boom-boom-ba': 12, 'Ah': 9, '?': 9, 'na': 9, 'you': 7, 'Boom-boom-boom-boom-ba': 6, ...})"
      ]
     },
     "execution_count": 15,
     "metadata": {},
     "output_type": "execute_result"
    }
   ],
   "source": [
    "fReq = nltk.FreqDist(tokenized)\n",
    "fReq"
   ]
  },
  {
   "cell_type": "code",
   "execution_count": 86,
   "metadata": {},
   "outputs": [],
   "source": [
    "def plotFreq(freq, size, width, length):\n",
    "    plt.figure(figsize=(length, width))\n",
    "    nltk.FreqDist(freq).plot(size)"
   ]
  },
  {
   "cell_type": "code",
   "execution_count": 41,
   "metadata": {},
   "outputs": [
    {
     "data": {
      "image/png": "[encoded data removed]",
      "text/plain": [
       "<Figure size 1080x288 with 1 Axes>"
      ]
     },
     "metadata": {
      "needs_background": "light"
     },
     "output_type": "display_data"
    }
   ],
   "source": [
    "plotFreq(tokenized, 10)"
   ]
  },
  {
   "cell_type": "code",
   "execution_count": 54,
   "metadata": {},
   "outputs": [],
   "source": [
    "import string\n",
    "tokenized_punc = []\n",
    "for x in tokenized:\n",
    "    tokenized_punc.append(x.translate(str.maketrans('','',string.punctuation)))"
   ]
  },
  {
   "cell_type": "code",
   "execution_count": 55,
   "metadata": {},
   "outputs": [
    {
     "name": "stdout",
     "output_type": "stream",
     "text": [
      "['Tumekuja', 'ku-party', ',', 'DJ', 'hebu', 'weka', 'tracky', 'Tukule', 'hepi', 'halafu', 'tufungue', 'sakafu', 'Sababu', 'inabamba', ',', 'inashika', 'Wingu', 'la', 'tisa', 'inatufikisha', 'Ukiachilia', 'mahewa', ',', 'manze', ',', 'DJ', 'unatubeba', 'Ah', '(', 'Uu-wii', '!', ')', 'Boom-boom-ba', 'Boom-boom-boom-boom-ba', '(', 'Ai-yah', ')', 'Boom-boom-ba', 'Boom-ba-boom-ba-ah', 'Boom-boom-ba', 'Boom-boom-boom-boom-ba', '(', 'Ai-yah', ')', 'Boom-boom-ba', 'Boom-ba-boom-ba', '(', 'Ahhh', '!', ')', 'Karibia', ',', 'inakubamba', 'Vipi', 'dada', ',', 'shake', 'hiyo', 'nanda', 'Inaku-touch-touch', ',', 'usi-relax-lax', 'Kwenye', 'dance', 'floor', ',', 'show', 'us', 'your', 'work-work', 'Unanoki', ',', 'hauchoki', ',', 'kwenye', 'dance', 'floor', ',', 'hautoki', 'Unahisi', 'hii', 'mziki', '?', 'Unahisi', 'Nameless', 'na', 'mimi', '?', 'It', \"'s\", 'Nameless', '(', 'Ah', '!', ')', 'And', 'E-Sir', ',', 'in', 'conjunction', 'with', 'Ogopa', 'Tumekuja', 'kuhakikisha', 'kwamba', 'speaker', 'zinasikika', 'Hey', ',', 'you', ',', 'mister', '!', 'Are', 'you', 'a', 'member', '?', 'Hey', ',', 'you', ',', 'sister', '!', 'Wacha', 'kulenga', '!', 'Ca', \"n't\", 'you', 'see', 'that', 'I', '’', 'm', 'talking', 'to', 'you', '?', 'Sasa', 'weka', 'mikono', 'juu', '!', 'Ah', '(', 'Uu-wii', '!', ')', 'Boom-boom-ba', 'Boom-boom-boom-boom-ba', '(', 'Ai-yah', ')', 'Boom-boom-ba', 'Ukikatika', 'na', 'hii', 'ngoma', 'Just', 'be', 'cool', 'as', 'a', 'cucumber', '(', 'Ahhh', '!', ')', '(', 'Hello', ',', 'Nameless', ',', 'uko', 'fresh', 'lakini', '?', ')', 'Twende', 'Wewe', ',', 'yeye', ',', 'yeye', ',', 'wewe', 'Vice', 'versa', ',', 'vile', 'wataka', 'Mister', ',', 'brother', ',', 'wacha', 'kuzubaa', 'Ukisleki', 'hautapata', 'Fungua', 'macho', ',', 'floor', 'ni', 'yako', 'Cheza', 'wimbo', 'kama', 'ni', 'wako', 'Cheza', 'wimbo', 'kama', 'ni', 'wako', ',', 'sababu', 'huu', 'wimbo', 'ni', 'wako', 'E-Sir', ',', 'hatucheki', 'na', 'watu', 'Nameless', ',', 'hatucheki', 'na', 'watu', 'Ma-emcee', ',', 'hatucheki', 'na', 'watu', 'Ogopa', ',', 'hatucheki', 'na', 'watu', 'Unahisi', 'hizi', 'flow', 'za', 'Africa', '?', '(', 'Uh-huh', ')', 'Unahisi', 'kama', 'unakatika', '?', '(', 'Uh-huh', ')', 'Can', 'you', 'feel', 'this', ',', 'front', 'to', 'the', 'rear', '?', '(', 'Uh-huh', ')', 'Can', 'you', 'feel', 'this', 'up', 'in', 'here', '?', 'Ah', '(', 'Uu-wii', '!', ')', 'Boom-boom-ba', 'Boom-boom-boom-boom-ba', '(', 'Ai-yah', ')', 'Boom-boom-ba', 'Ukikatika', 'na', 'hii', 'ngoma', 'Just', 'be', 'cool', 'as', 'a', 'cucumber', '(', 'Ahhh', '!', ')', 'Na', 'tumekuja', 'ku-party', ',', 'ambia', 'wenzetu', ',', '``', 'Samahani', \"''\", 'Hawako', 'nasi', ',', 'hatuko', 'nao', ',', 'basi', 'wametupa', 'mbao', 'Sababu', 'inabamba', ',', 'inashika', 'Wingu', 'la', 'tisa', 'inatufikisha', 'Ukiachilia', 'mahewa', ',', 'manze', ',', 'DJ', 'unatubeba', 'Ah', '(', 'Uu-wii', '!', ')', 'Boom-boom-ba', 'Boom-boom-boom-boom-ba', '(', 'Ai-yah', ')', 'Boom-boom-ba', 'Boom-ba-boom-ba-ah', 'Boom-boom-ba', 'Boom-boom-boom-boom-ba', '(', 'Ai-yah', ')', 'Boom-boom-ba', 'Ukikatika', 'na', 'hii', 'ngoma', 'Just', 'be', 'cool', 'as', 'a', 'cucumber', '(', 'Ah', '!', 'Ah', '!', 'Ah', '!', 'Ah', '!', ')', 'Ukikatika', 'na', 'hii', 'ngoma', 'Just', 'be', 'cool', 'as', 'a', 'cucumber', '(', 'Ahhh', '!', ')']\n"
     ]
    }
   ],
   "source": [
    "print(tokenized)"
   ]
  },
  {
   "cell_type": "code",
   "execution_count": 56,
   "metadata": {},
   "outputs": [
    {
     "name": "stdout",
     "output_type": "stream",
     "text": [
      "['Tumekuja', 'kuparty', '', 'DJ', 'hebu', 'weka', 'tracky', 'Tukule', 'hepi', 'halafu', 'tufungue', 'sakafu', 'Sababu', 'inabamba', '', 'inashika', 'Wingu', 'la', 'tisa', 'inatufikisha', 'Ukiachilia', 'mahewa', '', 'manze', '', 'DJ', 'unatubeba', 'Ah', '', 'Uuwii', '', '', 'Boomboomba', 'Boomboomboomboomba', '', 'Aiyah', '', 'Boomboomba', 'Boombaboombaah', 'Boomboomba', 'Boomboomboomboomba', '', 'Aiyah', '', 'Boomboomba', 'Boombaboomba', '', 'Ahhh', '', '', 'Karibia', '', 'inakubamba', 'Vipi', 'dada', '', 'shake', 'hiyo', 'nanda', 'Inakutouchtouch', '', 'usirelaxlax', 'Kwenye', 'dance', 'floor', '', 'show', 'us', 'your', 'workwork', 'Unanoki', '', 'hauchoki', '', 'kwenye', 'dance', 'floor', '', 'hautoki', 'Unahisi', 'hii', 'mziki', '', 'Unahisi', 'Nameless', 'na', 'mimi', '', 'It', 's', 'Nameless', '', 'Ah', '', '', 'And', 'ESir', '', 'in', 'conjunction', 'with', 'Ogopa', 'Tumekuja', 'kuhakikisha', 'kwamba', 'speaker', 'zinasikika', 'Hey', '', 'you', '', 'mister', '', 'Are', 'you', 'a', 'member', '', 'Hey', '', 'you', '', 'sister', '', 'Wacha', 'kulenga', '', 'Ca', 'nt', 'you', 'see', 'that', 'I', '’', 'm', 'talking', 'to', 'you', '', 'Sasa', 'weka', 'mikono', 'juu', '', 'Ah', '', 'Uuwii', '', '', 'Boomboomba', 'Boomboomboomboomba', '', 'Aiyah', '', 'Boomboomba', 'Ukikatika', 'na', 'hii', 'ngoma', 'Just', 'be', 'cool', 'as', 'a', 'cucumber', '', 'Ahhh', '', '', '', 'Hello', '', 'Nameless', '', 'uko', 'fresh', 'lakini', '', '', 'Twende', 'Wewe', '', 'yeye', '', 'yeye', '', 'wewe', 'Vice', 'versa', '', 'vile', 'wataka', 'Mister', '', 'brother', '', 'wacha', 'kuzubaa', 'Ukisleki', 'hautapata', 'Fungua', 'macho', '', 'floor', 'ni', 'yako', 'Cheza', 'wimbo', 'kama', 'ni', 'wako', 'Cheza', 'wimbo', 'kama', 'ni', 'wako', '', 'sababu', 'huu', 'wimbo', 'ni', 'wako', 'ESir', '', 'hatucheki', 'na', 'watu', 'Nameless', '', 'hatucheki', 'na', 'watu', 'Maemcee', '', 'hatucheki', 'na', 'watu', 'Ogopa', '', 'hatucheki', 'na', 'watu', 'Unahisi', 'hizi', 'flow', 'za', 'Africa', '', '', 'Uhhuh', '', 'Unahisi', 'kama', 'unakatika', '', '', 'Uhhuh', '', 'Can', 'you', 'feel', 'this', '', 'front', 'to', 'the', 'rear', '', '', 'Uhhuh', '', 'Can', 'you', 'feel', 'this', 'up', 'in', 'here', '', 'Ah', '', 'Uuwii', '', '', 'Boomboomba', 'Boomboomboomboomba', '', 'Aiyah', '', 'Boomboomba', 'Ukikatika', 'na', 'hii', 'ngoma', 'Just', 'be', 'cool', 'as', 'a', 'cucumber', '', 'Ahhh', '', '', 'Na', 'tumekuja', 'kuparty', '', 'ambia', 'wenzetu', '', '', 'Samahani', '', 'Hawako', 'nasi', '', 'hatuko', 'nao', '', 'basi', 'wametupa', 'mbao', 'Sababu', 'inabamba', '', 'inashika', 'Wingu', 'la', 'tisa', 'inatufikisha', 'Ukiachilia', 'mahewa', '', 'manze', '', 'DJ', 'unatubeba', 'Ah', '', 'Uuwii', '', '', 'Boomboomba', 'Boomboomboomboomba', '', 'Aiyah', '', 'Boomboomba', 'Boombaboombaah', 'Boomboomba', 'Boomboomboomboomba', '', 'Aiyah', '', 'Boomboomba', 'Ukikatika', 'na', 'hii', 'ngoma', 'Just', 'be', 'cool', 'as', 'a', 'cucumber', '', 'Ah', '', 'Ah', '', 'Ah', '', 'Ah', '', '', 'Ukikatika', 'na', 'hii', 'ngoma', 'Just', 'be', 'cool', 'as', 'a', 'cucumber', '', 'Ahhh', '', '']\n"
     ]
    }
   ],
   "source": [
    "print(tokenized_punc)"
   ]
  },
  {
   "cell_type": "code",
   "execution_count": 57,
   "metadata": {},
   "outputs": [
    {
     "data": {
      "image/png": "[encoded data removed]",
      "text/plain": [
       "<Figure size 1080x288 with 1 Axes>"
      ]
     },
     "metadata": {
      "needs_background": "light"
     },
     "output_type": "display_data"
    }
   ],
   "source": [
    "plotFreq(tokenized_punc, 10)"
   ]
  },
  {
   "cell_type": "code",
   "execution_count": 58,
   "metadata": {},
   "outputs": [],
   "source": [
    "from nltk.corpus import stopwords"
   ]
  },
  {
   "cell_type": "code",
   "execution_count": 59,
   "metadata": {},
   "outputs": [
    {
     "name": "stdout",
     "output_type": "stream",
     "text": [
      "['Tumekuja', 'kuparty', '', 'DJ', 'hebu', 'weka', 'tracky', 'Tukule', 'hepi', 'halafu', 'tufungue', 'sakafu', 'Sababu', 'inabamba', '', 'inashika', 'Wingu', 'la', 'tisa', 'inatufikisha', 'Ukiachilia', 'mahewa', '', 'manze', '', 'DJ', 'unatubeba', 'Ah', '', 'Uuwii', '', '', 'Boomboomba', 'Boomboomboomboomba', '', 'Aiyah', '', 'Boomboomba', 'Boombaboombaah', 'Boomboomba', 'Boomboomboomboomba', '', 'Aiyah', '', 'Boomboomba', 'Boombaboomba', '', 'Ahhh', '', '', 'Karibia', '', 'inakubamba', 'Vipi', 'dada', '', 'shake', 'hiyo', 'nanda', 'Inakutouchtouch', '', 'usirelaxlax', 'Kwenye', 'dance', 'floor', '', 'show', 'us', 'your', 'workwork', 'Unanoki', '', 'hauchoki', '', 'kwenye', 'dance', 'floor', '', 'hautoki', 'Unahisi', 'hii', 'mziki', '', 'Unahisi', 'Nameless', 'na', 'mimi', '', 'It', 's', 'Nameless', '', 'Ah', '', '', 'And', 'ESir', '', 'in', 'conjunction', 'with', 'Ogopa', 'Tumekuja', 'kuhakikisha', 'kwamba', 'speaker', 'zinasikika', 'Hey', '', 'you', '', 'mister', '', 'Are', 'you', 'a', 'member', '', 'Hey', '', 'you', '', 'sister', '', 'Wacha', 'kulenga', '', 'Ca', 'nt', 'you', 'see', 'that', 'I', '’', 'm', 'talking', 'to', 'you', '', 'Sasa', 'weka', 'mikono', 'juu', '', 'Ah', '', 'Uuwii', '', '', 'Boomboomba', 'Boomboomboomboomba', '', 'Aiyah', '', 'Boomboomba', 'Ukikatika', 'na', 'hii', 'ngoma', 'Just', 'be', 'cool', 'as', 'a', 'cucumber', '', 'Ahhh', '', '', '', 'Hello', '', 'Nameless', '', 'uko', 'fresh', 'lakini', '', '', 'Twende', 'Wewe', '', 'yeye', '', 'yeye', '', 'wewe', 'Vice', 'versa', '', 'vile', 'wataka', 'Mister', '', 'brother', '', 'wacha', 'kuzubaa', 'Ukisleki', 'hautapata', 'Fungua', 'macho', '', 'floor', 'ni', 'yako', 'Cheza', 'wimbo', 'kama', 'ni', 'wako', 'Cheza', 'wimbo', 'kama', 'ni', 'wako', '', 'sababu', 'huu', 'wimbo', 'ni', 'wako', 'ESir', '', 'hatucheki', 'na', 'watu', 'Nameless', '', 'hatucheki', 'na', 'watu', 'Maemcee', '', 'hatucheki', 'na', 'watu', 'Ogopa', '', 'hatucheki', 'na', 'watu', 'Unahisi', 'hizi', 'flow', 'za', 'Africa', '', '', 'Uhhuh', '', 'Unahisi', 'kama', 'unakatika', '', '', 'Uhhuh', '', 'Can', 'you', 'feel', 'this', '', 'front', 'to', 'the', 'rear', '', '', 'Uhhuh', '', 'Can', 'you', 'feel', 'this', 'up', 'in', 'here', '', 'Ah', '', 'Uuwii', '', '', 'Boomboomba', 'Boomboomboomboomba', '', 'Aiyah', '', 'Boomboomba', 'Ukikatika', 'na', 'hii', 'ngoma', 'Just', 'be', 'cool', 'as', 'a', 'cucumber', '', 'Ahhh', '', '', 'Na', 'tumekuja', 'kuparty', '', 'ambia', 'wenzetu', '', '', 'Samahani', '', 'Hawako', 'nasi', '', 'hatuko', 'nao', '', 'basi', 'wametupa', 'mbao', 'Sababu', 'inabamba', '', 'inashika', 'Wingu', 'la', 'tisa', 'inatufikisha', 'Ukiachilia', 'mahewa', '', 'manze', '', 'DJ', 'unatubeba', 'Ah', '', 'Uuwii', '', '', 'Boomboomba', 'Boomboomboomboomba', '', 'Aiyah', '', 'Boomboomba', 'Boombaboombaah', 'Boomboomba', 'Boomboomboomboomba', '', 'Aiyah', '', 'Boomboomba', 'Ukikatika', 'na', 'hii', 'ngoma', 'Just', 'be', 'cool', 'as', 'a', 'cucumber', '', 'Ah', '', 'Ah', '', 'Ah', '', 'Ah', '', '', 'Ukikatika', 'na', 'hii', 'ngoma', 'Just', 'be', 'cool', 'as', 'a', 'cucumber', '', 'Ahhh', '', '']\n"
     ]
    }
   ],
   "source": [
    "print(tokenized_punc)"
   ]
  },
  {
   "cell_type": "code",
   "execution_count": 60,
   "metadata": {},
   "outputs": [],
   "source": [
    "stopWords = stopwords.words('english')\n",
    "no_stops = []\n",
    "for x in tokenized_punc:\n",
    "    if x.lower() in stopWords:\n",
    "        no_stops.append(x.lower())"
   ]
  },
  {
   "cell_type": "code",
   "execution_count": 61,
   "metadata": {},
   "outputs": [
    {
     "name": "stdout",
     "output_type": "stream",
     "text": [
      "['Tumekuja', 'kuparty', '', 'DJ', 'hebu', 'weka', 'tracky', 'Tukule', 'hepi', 'halafu', 'tufungue', 'sakafu', 'Sababu', 'inabamba', '', 'inashika', 'Wingu', 'la', 'tisa', 'inatufikisha', 'Ukiachilia', 'mahewa', '', 'manze', '', 'DJ', 'unatubeba', 'Ah', '', 'Uuwii', '', '', 'Boomboomba', 'Boomboomboomboomba', '', 'Aiyah', '', 'Boomboomba', 'Boombaboombaah', 'Boomboomba', 'Boomboomboomboomba', '', 'Aiyah', '', 'Boomboomba', 'Boombaboomba', '', 'Ahhh', '', '', 'Karibia', '', 'inakubamba', 'Vipi', 'dada', '', 'shake', 'hiyo', 'nanda', 'Inakutouchtouch', '', 'usirelaxlax', 'Kwenye', 'dance', 'floor', '', 'show', 'us', 'your', 'workwork', 'Unanoki', '', 'hauchoki', '', 'kwenye', 'dance', 'floor', '', 'hautoki', 'Unahisi', 'hii', 'mziki', '', 'Unahisi', 'Nameless', 'na', 'mimi', '', 'It', 's', 'Nameless', '', 'Ah', '', '', 'And', 'ESir', '', 'in', 'conjunction', 'with', 'Ogopa', 'Tumekuja', 'kuhakikisha', 'kwamba', 'speaker', 'zinasikika', 'Hey', '', 'you', '', 'mister', '', 'Are', 'you', 'a', 'member', '', 'Hey', '', 'you', '', 'sister', '', 'Wacha', 'kulenga', '', 'Ca', 'nt', 'you', 'see', 'that', 'I', '’', 'm', 'talking', 'to', 'you', '', 'Sasa', 'weka', 'mikono', 'juu', '', 'Ah', '', 'Uuwii', '', '', 'Boomboomba', 'Boomboomboomboomba', '', 'Aiyah', '', 'Boomboomba', 'Ukikatika', 'na', 'hii', 'ngoma', 'Just', 'be', 'cool', 'as', 'a', 'cucumber', '', 'Ahhh', '', '', '', 'Hello', '', 'Nameless', '', 'uko', 'fresh', 'lakini', '', '', 'Twende', 'Wewe', '', 'yeye', '', 'yeye', '', 'wewe', 'Vice', 'versa', '', 'vile', 'wataka', 'Mister', '', 'brother', '', 'wacha', 'kuzubaa', 'Ukisleki', 'hautapata', 'Fungua', 'macho', '', 'floor', 'ni', 'yako', 'Cheza', 'wimbo', 'kama', 'ni', 'wako', 'Cheza', 'wimbo', 'kama', 'ni', 'wako', '', 'sababu', 'huu', 'wimbo', 'ni', 'wako', 'ESir', '', 'hatucheki', 'na', 'watu', 'Nameless', '', 'hatucheki', 'na', 'watu', 'Maemcee', '', 'hatucheki', 'na', 'watu', 'Ogopa', '', 'hatucheki', 'na', 'watu', 'Unahisi', 'hizi', 'flow', 'za', 'Africa', '', '', 'Uhhuh', '', 'Unahisi', 'kama', 'unakatika', '', '', 'Uhhuh', '', 'Can', 'you', 'feel', 'this', '', 'front', 'to', 'the', 'rear', '', '', 'Uhhuh', '', 'Can', 'you', 'feel', 'this', 'up', 'in', 'here', '', 'Ah', '', 'Uuwii', '', '', 'Boomboomba', 'Boomboomboomboomba', '', 'Aiyah', '', 'Boomboomba', 'Ukikatika', 'na', 'hii', 'ngoma', 'Just', 'be', 'cool', 'as', 'a', 'cucumber', '', 'Ahhh', '', '', 'Na', 'tumekuja', 'kuparty', '', 'ambia', 'wenzetu', '', '', 'Samahani', '', 'Hawako', 'nasi', '', 'hatuko', 'nao', '', 'basi', 'wametupa', 'mbao', 'Sababu', 'inabamba', '', 'inashika', 'Wingu', 'la', 'tisa', 'inatufikisha', 'Ukiachilia', 'mahewa', '', 'manze', '', 'DJ', 'unatubeba', 'Ah', '', 'Uuwii', '', '', 'Boomboomba', 'Boomboomboomboomba', '', 'Aiyah', '', 'Boomboomba', 'Boombaboombaah', 'Boomboomba', 'Boomboomboomboomba', '', 'Aiyah', '', 'Boomboomba', 'Ukikatika', 'na', 'hii', 'ngoma', 'Just', 'be', 'cool', 'as', 'a', 'cucumber', '', 'Ah', '', 'Ah', '', 'Ah', '', 'Ah', '', '', 'Ukikatika', 'na', 'hii', 'ngoma', 'Just', 'be', 'cool', 'as', 'a', 'cucumber', '', 'Ahhh', '', '']\n"
     ]
    }
   ],
   "source": [
    "print(tokenized_punc)"
   ]
  },
  {
   "cell_type": "code",
   "execution_count": 62,
   "metadata": {},
   "outputs": [
    {
     "name": "stdout",
     "output_type": "stream",
     "text": [
      "['i', 'me', 'my', 'myself', 'we', 'our', 'ours', 'ourselves', 'you', \"you're\", \"you've\", \"you'll\", \"you'd\", 'your', 'yours', 'yourself', 'yourselves', 'he', 'him', 'his', 'himself', 'she', \"she's\", 'her', 'hers', 'herself', 'it', \"it's\", 'its', 'itself', 'they', 'them', 'their', 'theirs', 'themselves', 'what', 'which', 'who', 'whom', 'this', 'that', \"that'll\", 'these', 'those', 'am', 'is', 'are', 'was', 'were', 'be', 'been', 'being', 'have', 'has', 'had', 'having', 'do', 'does', 'did', 'doing', 'a', 'an', 'the', 'and', 'but', 'if', 'or', 'because', 'as', 'until', 'while', 'of', 'at', 'by', 'for', 'with', 'about', 'against', 'between', 'into', 'through', 'during', 'before', 'after', 'above', 'below', 'to', 'from', 'up', 'down', 'in', 'out', 'on', 'off', 'over', 'under', 'again', 'further', 'then', 'once', 'here', 'there', 'when', 'where', 'why', 'how', 'all', 'any', 'both', 'each', 'few', 'more', 'most', 'other', 'some', 'such', 'no', 'nor', 'not', 'only', 'own', 'same', 'so', 'than', 'too', 'very', 's', 't', 'can', 'will', 'just', 'don', \"don't\", 'should', \"should've\", 'now', 'd', 'll', 'm', 'o', 're', 've', 'y', 'ain', 'aren', \"aren't\", 'couldn', \"couldn't\", 'didn', \"didn't\", 'doesn', \"doesn't\", 'hadn', \"hadn't\", 'hasn', \"hasn't\", 'haven', \"haven't\", 'isn', \"isn't\", 'ma', 'mightn', \"mightn't\", 'mustn', \"mustn't\", 'needn', \"needn't\", 'shan', \"shan't\", 'shouldn', \"shouldn't\", 'wasn', \"wasn't\", 'weren', \"weren't\", 'won', \"won't\", 'wouldn', \"wouldn't\"]\n"
     ]
    }
   ],
   "source": [
    "print(stopWords)"
   ]
  },
  {
   "cell_type": "code",
   "execution_count": 63,
   "metadata": {},
   "outputs": [
    {
     "name": "stdout",
     "output_type": "stream",
     "text": [
      "['your', 'it', 's', 'and', 'in', 'with', 'you', 'are', 'you', 'a', 'you', 'you', 'that', 'i', 'm', 'to', 'you', 'just', 'be', 'as', 'a', 'can', 'you', 'this', 'to', 'the', 'can', 'you', 'this', 'up', 'in', 'here', 'just', 'be', 'as', 'a', 'just', 'be', 'as', 'a', 'just', 'be', 'as', 'a']\n"
     ]
    }
   ],
   "source": [
    "print(no_stops)"
   ]
  },
  {
   "cell_type": "code",
   "execution_count": 65,
   "metadata": {},
   "outputs": [
    {
     "name": "stdout",
     "output_type": "stream",
     "text": [
      "['Tumekuja', 'kuparty', '', 'DJ', 'hebu', 'weka', 'tracky', 'Tukule', 'hepi', 'halafu', 'tufungue', 'sakafu', 'Sababu', 'inabamba', '', 'inashika', 'Wingu', 'la', 'tisa', 'inatufikisha', 'Ukiachilia', 'mahewa', '', 'manze', '', 'DJ', 'unatubeba', 'Ah', '', 'Uuwii', '', '', 'Boomboomba', 'Boomboomboomboomba', '', 'Aiyah', '', 'Boomboomba', 'Boombaboombaah', 'Boomboomba', 'Boomboomboomboomba', '', 'Aiyah', '', 'Boomboomba', 'Boombaboomba', '', 'Ahhh', '', '', 'Karibia', '', 'inakubamba', 'Vipi', 'dada', '', 'shake', 'hiyo', 'nanda', 'Inakutouchtouch', '', 'usirelaxlax', 'Kwenye', 'dance', 'floor', '', 'show', 'us', 'your', 'workwork', 'Unanoki', '', 'hauchoki', '', 'kwenye', 'dance', 'floor', '', 'hautoki', 'Unahisi', 'hii', 'mziki', '', 'Unahisi', 'Nameless', 'na', 'mimi', '', 'It', 's', 'Nameless', '', 'Ah', '', '', 'And', 'ESir', '', 'in', 'conjunction', 'with', 'Ogopa', 'Tumekuja', 'kuhakikisha', 'kwamba', 'speaker', 'zinasikika', 'Hey', '', 'you', '', 'mister', '', 'Are', 'you', 'a', 'member', '', 'Hey', '', 'you', '', 'sister', '', 'Wacha', 'kulenga', '', 'Ca', 'nt', 'you', 'see', 'that', 'I', '’', 'm', 'talking', 'to', 'you', '', 'Sasa', 'weka', 'mikono', 'juu', '', 'Ah', '', 'Uuwii', '', '', 'Boomboomba', 'Boomboomboomboomba', '', 'Aiyah', '', 'Boomboomba', 'Ukikatika', 'na', 'hii', 'ngoma', 'Just', 'be', 'cool', 'as', 'a', 'cucumber', '', 'Ahhh', '', '', '', 'Hello', '', 'Nameless', '', 'uko', 'fresh', 'lakini', '', '', 'Twende', 'Wewe', '', 'yeye', '', 'yeye', '', 'wewe', 'Vice', 'versa', '', 'vile', 'wataka', 'Mister', '', 'brother', '', 'wacha', 'kuzubaa', 'Ukisleki', 'hautapata', 'Fungua', 'macho', '', 'floor', 'ni', 'yako', 'Cheza', 'wimbo', 'kama', 'ni', 'wako', 'Cheza', 'wimbo', 'kama', 'ni', 'wako', '', 'sababu', 'huu', 'wimbo', 'ni', 'wako', 'ESir', '', 'hatucheki', 'na', 'watu', 'Nameless', '', 'hatucheki', 'na', 'watu', 'Maemcee', '', 'hatucheki', 'na', 'watu', 'Ogopa', '', 'hatucheki', 'na', 'watu', 'Unahisi', 'hizi', 'flow', 'za', 'Africa', '', '', 'Uhhuh', '', 'Unahisi', 'kama', 'unakatika', '', '', 'Uhhuh', '', 'Can', 'you', 'feel', 'this', '', 'front', 'to', 'the', 'rear', '', '', 'Uhhuh', '', 'Can', 'you', 'feel', 'this', 'up', 'in', 'here', '', 'Ah', '', 'Uuwii', '', '', 'Boomboomba', 'Boomboomboomboomba', '', 'Aiyah', '', 'Boomboomba', 'Ukikatika', 'na', 'hii', 'ngoma', 'Just', 'be', 'cool', 'as', 'a', 'cucumber', '', 'Ahhh', '', '', 'Na', 'tumekuja', 'kuparty', '', 'ambia', 'wenzetu', '', '', 'Samahani', '', 'Hawako', 'nasi', '', 'hatuko', 'nao', '', 'basi', 'wametupa', 'mbao', 'Sababu', 'inabamba', '', 'inashika', 'Wingu', 'la', 'tisa', 'inatufikisha', 'Ukiachilia', 'mahewa', '', 'manze', '', 'DJ', 'unatubeba', 'Ah', '', 'Uuwii', '', '', 'Boomboomba', 'Boomboomboomboomba', '', 'Aiyah', '', 'Boomboomba', 'Boombaboombaah', 'Boomboomba', 'Boomboomboomboomba', '', 'Aiyah', '', 'Boomboomba', 'Ukikatika', 'na', 'hii', 'ngoma', 'Just', 'be', 'cool', 'as', 'a', 'cucumber', '', 'Ah', '', 'Ah', '', 'Ah', '', 'Ah', '', '', 'Ukikatika', 'na', 'hii', 'ngoma', 'Just', 'be', 'cool', 'as', 'a', 'cucumber', '', 'Ahhh', '', '']\n"
     ]
    }
   ],
   "source": [
    "print(tokenized_punc)"
   ]
  },
  {
   "cell_type": "code",
   "execution_count": 68,
   "metadata": {},
   "outputs": [
    {
     "name": "stdout",
     "output_type": "stream",
     "text": [
      "['i', 'me', 'my', 'myself', 'we', 'our', 'ours', 'ourselves', 'you', \"you're\", \"you've\", \"you'll\", \"you'd\", 'your', 'yours', 'yourself', 'yourselves', 'he', 'him', 'his', 'himself', 'she', \"she's\", 'her', 'hers', 'herself', 'it', \"it's\", 'its', 'itself', 'they', 'them', 'their', 'theirs', 'themselves', 'what', 'which', 'who', 'whom', 'this', 'that', \"that'll\", 'these', 'those', 'am', 'is', 'are', 'was', 'were', 'be', 'been', 'being', 'have', 'has', 'had', 'having', 'do', 'does', 'did', 'doing', 'a', 'an', 'the', 'and', 'but', 'if', 'or', 'because', 'as', 'until', 'while', 'of', 'at', 'by', 'for', 'with', 'about', 'against', 'between', 'into', 'through', 'during', 'before', 'after', 'above', 'below', 'to', 'from', 'up', 'down', 'in', 'out', 'on', 'off', 'over', 'under', 'again', 'further', 'then', 'once', 'here', 'there', 'when', 'where', 'why', 'how', 'all', 'any', 'both', 'each', 'few', 'more', 'most', 'other', 'some', 'such', 'no', 'nor', 'not', 'only', 'own', 'same', 'so', 'than', 'too', 'very', 's', 't', 'can', 'will', 'just', 'don', \"don't\", 'should', \"should've\", 'now', 'd', 'll', 'm', 'o', 're', 've', 'y', 'ain', 'aren', \"aren't\", 'couldn', \"couldn't\", 'didn', \"didn't\", 'doesn', \"doesn't\", 'hadn', \"hadn't\", 'hasn', \"hasn't\", 'haven', \"haven't\", 'isn', \"isn't\", 'ma', 'mightn', \"mightn't\", 'mustn', \"mustn't\", 'needn', \"needn't\", 'shan', \"shan't\", 'shouldn', \"shouldn't\", 'wasn', \"wasn't\", 'weren', \"weren't\", 'won', \"won't\", 'wouldn', \"wouldn't\"]\n"
     ]
    }
   ],
   "source": [
    "print(stopWords)"
   ]
  },
  {
   "cell_type": "code",
   "execution_count": 72,
   "metadata": {},
   "outputs": [],
   "source": [
    "tokenized_punc_s = []\n",
    "for x in tokenized_punc:\n",
    "    if x.lower() not in stopWords:\n",
    "        tokenized_punc_s.append(x.lower())"
   ]
  },
  {
   "cell_type": "code",
   "execution_count": 73,
   "metadata": {},
   "outputs": [
    {
     "name": "stdout",
     "output_type": "stream",
     "text": [
      "['tumekuja', 'kuparty', '', 'dj', 'hebu', 'weka', 'tracky', 'tukule', 'hepi', 'halafu', 'tufungue', 'sakafu', 'sababu', 'inabamba', '', 'inashika', 'wingu', 'la', 'tisa', 'inatufikisha', 'ukiachilia', 'mahewa', '', 'manze', '', 'dj', 'unatubeba', 'ah', '', 'uuwii', '', '', 'boomboomba', 'boomboomboomboomba', '', 'aiyah', '', 'boomboomba', 'boombaboombaah', 'boomboomba', 'boomboomboomboomba', '', 'aiyah', '', 'boomboomba', 'boombaboomba', '', 'ahhh', '', '', 'karibia', '', 'inakubamba', 'vipi', 'dada', '', 'shake', 'hiyo', 'nanda', 'inakutouchtouch', '', 'usirelaxlax', 'kwenye', 'dance', 'floor', '', 'show', 'us', 'workwork', 'unanoki', '', 'hauchoki', '', 'kwenye', 'dance', 'floor', '', 'hautoki', 'unahisi', 'hii', 'mziki', '', 'unahisi', 'nameless', 'na', 'mimi', '', 'nameless', '', 'ah', '', '', 'esir', '', 'conjunction', 'ogopa', 'tumekuja', 'kuhakikisha', 'kwamba', 'speaker', 'zinasikika', 'hey', '', '', 'mister', '', 'member', '', 'hey', '', '', 'sister', '', 'wacha', 'kulenga', '', 'ca', 'nt', 'see', '’', 'talking', '', 'sasa', 'weka', 'mikono', 'juu', '', 'ah', '', 'uuwii', '', '', 'boomboomba', 'boomboomboomboomba', '', 'aiyah', '', 'boomboomba', 'ukikatika', 'na', 'hii', 'ngoma', 'cool', 'cucumber', '', 'ahhh', '', '', '', 'hello', '', 'nameless', '', 'uko', 'fresh', 'lakini', '', '', 'twende', 'wewe', '', 'yeye', '', 'yeye', '', 'wewe', 'vice', 'versa', '', 'vile', 'wataka', 'mister', '', 'brother', '', 'wacha', 'kuzubaa', 'ukisleki', 'hautapata', 'fungua', 'macho', '', 'floor', 'ni', 'yako', 'cheza', 'wimbo', 'kama', 'ni', 'wako', 'cheza', 'wimbo', 'kama', 'ni', 'wako', '', 'sababu', 'huu', 'wimbo', 'ni', 'wako', 'esir', '', 'hatucheki', 'na', 'watu', 'nameless', '', 'hatucheki', 'na', 'watu', 'maemcee', '', 'hatucheki', 'na', 'watu', 'ogopa', '', 'hatucheki', 'na', 'watu', 'unahisi', 'hizi', 'flow', 'za', 'africa', '', '', 'uhhuh', '', 'unahisi', 'kama', 'unakatika', '', '', 'uhhuh', '', 'feel', '', 'front', 'rear', '', '', 'uhhuh', '', 'feel', '', 'ah', '', 'uuwii', '', '', 'boomboomba', 'boomboomboomboomba', '', 'aiyah', '', 'boomboomba', 'ukikatika', 'na', 'hii', 'ngoma', 'cool', 'cucumber', '', 'ahhh', '', '', 'na', 'tumekuja', 'kuparty', '', 'ambia', 'wenzetu', '', '', 'samahani', '', 'hawako', 'nasi', '', 'hatuko', 'nao', '', 'basi', 'wametupa', 'mbao', 'sababu', 'inabamba', '', 'inashika', 'wingu', 'la', 'tisa', 'inatufikisha', 'ukiachilia', 'mahewa', '', 'manze', '', 'dj', 'unatubeba', 'ah', '', 'uuwii', '', '', 'boomboomba', 'boomboomboomboomba', '', 'aiyah', '', 'boomboomba', 'boombaboombaah', 'boomboomba', 'boomboomboomboomba', '', 'aiyah', '', 'boomboomba', 'ukikatika', 'na', 'hii', 'ngoma', 'cool', 'cucumber', '', 'ah', '', 'ah', '', 'ah', '', 'ah', '', '', 'ukikatika', 'na', 'hii', 'ngoma', 'cool', 'cucumber', '', 'ahhh', '', '']\n"
     ]
    }
   ],
   "source": [
    "print(tokenized_punc_s)"
   ]
  },
  {
   "cell_type": "code",
   "execution_count": 74,
   "metadata": {},
   "outputs": [],
   "source": [
    "tokenized_punc_s_ = []\n",
    "for x in tokenized_punc_s:\n",
    "    if len(x) is not 0:\n",
    "        tokenized_punc_s_.append(x)"
   ]
  },
  {
   "cell_type": "code",
   "execution_count": 75,
   "metadata": {},
   "outputs": [
    {
     "name": "stdout",
     "output_type": "stream",
     "text": [
      "['tumekuja', 'kuparty', 'dj', 'hebu', 'weka', 'tracky', 'tukule', 'hepi', 'halafu', 'tufungue', 'sakafu', 'sababu', 'inabamba', 'inashika', 'wingu', 'la', 'tisa', 'inatufikisha', 'ukiachilia', 'mahewa', 'manze', 'dj', 'unatubeba', 'ah', 'uuwii', 'boomboomba', 'boomboomboomboomba', 'aiyah', 'boomboomba', 'boombaboombaah', 'boomboomba', 'boomboomboomboomba', 'aiyah', 'boomboomba', 'boombaboomba', 'ahhh', 'karibia', 'inakubamba', 'vipi', 'dada', 'shake', 'hiyo', 'nanda', 'inakutouchtouch', 'usirelaxlax', 'kwenye', 'dance', 'floor', 'show', 'us', 'workwork', 'unanoki', 'hauchoki', 'kwenye', 'dance', 'floor', 'hautoki', 'unahisi', 'hii', 'mziki', 'unahisi', 'nameless', 'na', 'mimi', 'nameless', 'ah', 'esir', 'conjunction', 'ogopa', 'tumekuja', 'kuhakikisha', 'kwamba', 'speaker', 'zinasikika', 'hey', 'mister', 'member', 'hey', 'sister', 'wacha', 'kulenga', 'ca', 'nt', 'see', '’', 'talking', 'sasa', 'weka', 'mikono', 'juu', 'ah', 'uuwii', 'boomboomba', 'boomboomboomboomba', 'aiyah', 'boomboomba', 'ukikatika', 'na', 'hii', 'ngoma', 'cool', 'cucumber', 'ahhh', 'hello', 'nameless', 'uko', 'fresh', 'lakini', 'twende', 'wewe', 'yeye', 'yeye', 'wewe', 'vice', 'versa', 'vile', 'wataka', 'mister', 'brother', 'wacha', 'kuzubaa', 'ukisleki', 'hautapata', 'fungua', 'macho', 'floor', 'ni', 'yako', 'cheza', 'wimbo', 'kama', 'ni', 'wako', 'cheza', 'wimbo', 'kama', 'ni', 'wako', 'sababu', 'huu', 'wimbo', 'ni', 'wako', 'esir', 'hatucheki', 'na', 'watu', 'nameless', 'hatucheki', 'na', 'watu', 'maemcee', 'hatucheki', 'na', 'watu', 'ogopa', 'hatucheki', 'na', 'watu', 'unahisi', 'hizi', 'flow', 'za', 'africa', 'uhhuh', 'unahisi', 'kama', 'unakatika', 'uhhuh', 'feel', 'front', 'rear', 'uhhuh', 'feel', 'ah', 'uuwii', 'boomboomba', 'boomboomboomboomba', 'aiyah', 'boomboomba', 'ukikatika', 'na', 'hii', 'ngoma', 'cool', 'cucumber', 'ahhh', 'na', 'tumekuja', 'kuparty', 'ambia', 'wenzetu', 'samahani', 'hawako', 'nasi', 'hatuko', 'nao', 'basi', 'wametupa', 'mbao', 'sababu', 'inabamba', 'inashika', 'wingu', 'la', 'tisa', 'inatufikisha', 'ukiachilia', 'mahewa', 'manze', 'dj', 'unatubeba', 'ah', 'uuwii', 'boomboomba', 'boomboomboomboomba', 'aiyah', 'boomboomba', 'boombaboombaah', 'boomboomba', 'boomboomboomboomba', 'aiyah', 'boomboomba', 'ukikatika', 'na', 'hii', 'ngoma', 'cool', 'cucumber', 'ah', 'ah', 'ah', 'ah', 'ukikatika', 'na', 'hii', 'ngoma', 'cool', 'cucumber', 'ahhh']\n"
     ]
    }
   ],
   "source": [
    "print(tokenized_punc_s_)"
   ]
  },
  {
   "cell_type": "code",
   "execution_count": 76,
   "metadata": {},
   "outputs": [
    {
     "data": {
      "image/png": "[encoded data removed]",
      "text/plain": [
       "<Figure size 1080x288 with 1 Axes>"
      ]
     },
     "metadata": {
      "needs_background": "light"
     },
     "output_type": "display_data"
    }
   ],
   "source": [
    "plotFreq(tokenized_punc_s_, 10)"
   ]
  },
  {
   "cell_type": "code",
   "execution_count": 80,
   "metadata": {},
   "outputs": [],
   "source": [
    "''' 2nd cleanup stop words '''\n",
    "my_words = ['na', 'ah', 'ahhh', 'uuwii', 'hii', 'hiyo', 'ni', 'la', 'za', 'ca', 'nt']\n",
    "\n",
    "s_2 = []\n",
    "for x in tokenized_punc_s_:\n",
    "    if x not in my_words:\n",
    "        s_2.append(x)"
   ]
  },
  {
   "cell_type": "code",
   "execution_count": 81,
   "metadata": {},
   "outputs": [
    {
     "name": "stdout",
     "output_type": "stream",
     "text": [
      "['tumekuja', 'kuparty', 'dj', 'hebu', 'weka', 'tracky', 'tukule', 'hepi', 'halafu', 'tufungue', 'sakafu', 'sababu', 'inabamba', 'inashika', 'wingu', 'tisa', 'inatufikisha', 'ukiachilia', 'mahewa', 'manze', 'dj', 'unatubeba', 'boomboomba', 'boomboomboomboomba', 'aiyah', 'boomboomba', 'boombaboombaah', 'boomboomba', 'boomboomboomboomba', 'aiyah', 'boomboomba', 'boombaboomba', 'karibia', 'inakubamba', 'vipi', 'dada', 'shake', 'nanda', 'inakutouchtouch', 'usirelaxlax', 'kwenye', 'dance', 'floor', 'show', 'us', 'workwork', 'unanoki', 'hauchoki', 'kwenye', 'dance', 'floor', 'hautoki', 'unahisi', 'mziki', 'unahisi', 'nameless', 'mimi', 'nameless', 'esir', 'conjunction', 'ogopa', 'tumekuja', 'kuhakikisha', 'kwamba', 'speaker', 'zinasikika', 'hey', 'mister', 'member', 'hey', 'sister', 'wacha', 'kulenga', 'see', '’', 'talking', 'sasa', 'weka', 'mikono', 'juu', 'boomboomba', 'boomboomboomboomba', 'aiyah', 'boomboomba', 'ukikatika', 'ngoma', 'cool', 'cucumber', 'hello', 'nameless', 'uko', 'fresh', 'lakini', 'twende', 'wewe', 'yeye', 'yeye', 'wewe', 'vice', 'versa', 'vile', 'wataka', 'mister', 'brother', 'wacha', 'kuzubaa', 'ukisleki', 'hautapata', 'fungua', 'macho', 'floor', 'yako', 'cheza', 'wimbo', 'kama', 'wako', 'cheza', 'wimbo', 'kama', 'wako', 'sababu', 'huu', 'wimbo', 'wako', 'esir', 'hatucheki', 'watu', 'nameless', 'hatucheki', 'watu', 'maemcee', 'hatucheki', 'watu', 'ogopa', 'hatucheki', 'watu', 'unahisi', 'hizi', 'flow', 'africa', 'uhhuh', 'unahisi', 'kama', 'unakatika', 'uhhuh', 'feel', 'front', 'rear', 'uhhuh', 'feel', 'boomboomba', 'boomboomboomboomba', 'aiyah', 'boomboomba', 'ukikatika', 'ngoma', 'cool', 'cucumber', 'tumekuja', 'kuparty', 'ambia', 'wenzetu', 'samahani', 'hawako', 'nasi', 'hatuko', 'nao', 'basi', 'wametupa', 'mbao', 'sababu', 'inabamba', 'inashika', 'wingu', 'tisa', 'inatufikisha', 'ukiachilia', 'mahewa', 'manze', 'dj', 'unatubeba', 'boomboomba', 'boomboomboomboomba', 'aiyah', 'boomboomba', 'boombaboombaah', 'boomboomba', 'boomboomboomboomba', 'aiyah', 'boomboomba', 'ukikatika', 'ngoma', 'cool', 'cucumber', 'ukikatika', 'ngoma', 'cool', 'cucumber']\n"
     ]
    }
   ],
   "source": [
    "print(s_2)"
   ]
  },
  {
   "cell_type": "code",
   "execution_count": 87,
   "metadata": {},
   "outputs": [
    {
     "data": {
      "image/png": "[encoded data removed]",
      "text/plain": [
       "<Figure size 1440x288 with 1 Axes>"
      ]
     },
     "metadata": {
      "needs_background": "light"
     },
     "output_type": "display_data"
    }
   ],
   "source": [
    "plotFreq(s_2, len(s_2), 4, 20)"
   ]
  },
  {
   "cell_type": "code",
   "execution_count": null,
   "metadata": {},
   "outputs": [],
   "source": []
  }
 ],
 "metadata": {
  "kernelspec": {
   "display_name": "Python 3",
   "language": "python",
   "name": "python3"
  },
  "language_info": {
   "codemirror_mode": {
    "name": "ipython",
    "version": 3
   },
   "file_extension": ".py",
   "mimetype": "text/x-python",
   "name": "python",
   "nbconvert_exporter": "python",
   "pygments_lexer": "ipython3",
   "version": "3.6.9"
  }
 },
 "nbformat": 4,
 "nbformat_minor": 4
}
